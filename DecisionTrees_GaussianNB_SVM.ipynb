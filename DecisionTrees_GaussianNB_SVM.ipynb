{
 "cells": [
  {
   "cell_type": "code",
   "execution_count": 15,
   "metadata": {
    "collapsed": false
   },
   "outputs": [
    {
     "name": "stderr",
     "output_type": "stream",
     "text": [
      "/anaconda/lib/python3.6/site-packages/sklearn/cross_validation.py:44: DeprecationWarning: This module was deprecated in version 0.18 in favor of the model_selection module into which all the refactored classes and functions are moved. Also note that the interface of the new CV iterators are different from that of this module. This module will be removed in 0.20.\n",
      "  \"This module will be removed in 0.20.\", DeprecationWarning)\n"
     ]
    }
   ],
   "source": [
    "import numpy as np\n",
    "import pandas as pd\n",
    "\n",
    "from scipy.stats import entropy\n",
    "import os\n",
    "\n",
    "from sklearn.model_selection import train_test_split\n",
    "from sklearn.tree import DecisionTreeClassifier\n",
    "from sklearn import tree\n",
    "from sklearn.cross_validation import cross_val_score\n",
    "from sklearn import metrics\n",
    "from sklearn.metrics import roc_curve, auc\n",
    "\n",
    "import statsmodels.api as sm\n",
    "from patsy import dmatrices\n",
    "from sklearn.linear_model import LogisticRegression\n",
    "\n",
    "\n",
    "import matplotlib.pyplot as plt\n",
    "%matplotlib inline"
   ]
  },
  {
   "cell_type": "code",
   "execution_count": 16,
   "metadata": {
    "collapsed": false
   },
   "outputs": [],
   "source": [
    "names=['id','id_str','screen_name','location','description','url','followers_count','friends_count','listedcount','created_at','favourites_count','verified','statuses_count','lang','status','default_profile','default_profile_image','has_extended_profile','name','bot']"
   ]
  },
  {
   "cell_type": "code",
   "execution_count": 17,
   "metadata": {
    "collapsed": false
   },
   "outputs": [],
   "source": [
    "df = pd.read_csv('merged.csv',encoding=\"ISO-8859-1\",\n",
    "                 header=None,delim_whitespace=False,names=names,na_values='?',)"
   ]
  },
  {
   "cell_type": "code",
   "execution_count": 18,
   "metadata": {
    "collapsed": false
   },
   "outputs": [],
   "source": [
    "df.verified=df.verified.astype('bool')\n",
    "df.verified=df.verified.astype(int)\n",
    "df.default_profile=df.default_profile.astype('bool')\n",
    "df.default_profile=df.default_profile.astype(int)\n",
    "df.default_profile_image=df.default_profile_image.astype('bool')\n",
    "df.default_profile_image=df.default_profile_image.astype(int)\n",
    "\n",
    "\n",
    "df.followers_count = df.followers_count.astype(int)\n",
    "df.friends_count = df.friends_count.astype(int)\n",
    "df.listedcount = df.listedcount.astype(int)\n",
    "df.favourites_count = df.favourites_count.astype(int)\n",
    "df.statuses_count = df.statuses_count.astype(int)\n",
    "df.bot = df.bot.astype(int)"
   ]
  },
  {
   "cell_type": "code",
   "execution_count": 19,
   "metadata": {
    "collapsed": false
   },
   "outputs": [],
   "source": [
    "# Creating more features from given dataframe\n",
    "df[\"screen_name_len\"] = [len(i) for i in df[\"screen_name\"]]\n",
    "df[\"bot_is_substr\"] = [int('bot' in i.lower()) for i in df[\"screen_name\"]]\n",
    "df[\"bot_in_des\"] = [int('bot' in str(i).lower()) for i in df['description']]\n",
    "\n",
    "# Getting the ages in years from created_at\n",
    "ages = []\n",
    "for i in df[\"created_at\"]:\n",
    "    if len(i) > 20:\n",
    "        i = i.split()\n",
    "        year = int(i[5][:4]) % 2000 \n",
    "    else:\n",
    "        i = i.split('/')\n",
    "        year = int(i[2].split()[0]) % 2000\n",
    "    age = 17-year\n",
    "    ages.append(age)\n",
    "df[\"age\"] = ages"
   ]
  },
  {
   "cell_type": "code",
   "execution_count": 20,
   "metadata": {
    "collapsed": false
   },
   "outputs": [],
   "source": [
    "#for a in range(1000):\n",
    "#    randomized_Data = df.reindex(np.random.permutation(df.index))\n",
    "\n",
    "#train_df = randomized_Data[:int((len(randomized_Data)+1)*.80)]\n",
    "#test_df = randomized_Data[int((len(randomized_Data)+1)*.80):]\n",
    "\n",
    "from sklearn.feature_extraction.text import CountVectorizer\n",
    "from sklearn.feature_extraction.text import TfidfTransformer\n",
    "\n",
    "count_vect = CountVectorizer()\n",
    "df_counts = count_vect.fit_transform(df['description'].values.astype('U'))\n",
    "tf_transformer = TfidfTransformer(use_idf=False).fit(df_counts)\n",
    "df_tf = tf_transformer.transform(df_counts)\n",
    "\n",
    "\n",
    "numerical_desc = df_tf.toarray()"
   ]
  },
  {
   "cell_type": "code",
   "execution_count": 21,
   "metadata": {
    "collapsed": false
   },
   "outputs": [
    {
     "data": {
      "text/html": [
       "<div>\n",
       "<table border=\"1\" class=\"dataframe\">\n",
       "  <thead>\n",
       "    <tr style=\"text-align: right;\">\n",
       "      <th></th>\n",
       "      <th>age</th>\n",
       "      <th>screen_name_len</th>\n",
       "      <th>bot_is_substr</th>\n",
       "      <th>bot_in_des</th>\n",
       "      <th>followers_count</th>\n",
       "      <th>friends_count</th>\n",
       "      <th>listedcount</th>\n",
       "      <th>favourites_count</th>\n",
       "      <th>statuses_count</th>\n",
       "      <th>bot</th>\n",
       "    </tr>\n",
       "  </thead>\n",
       "  <tbody>\n",
       "    <tr>\n",
       "      <th>581</th>\n",
       "      <td>2</td>\n",
       "      <td>13</td>\n",
       "      <td>0</td>\n",
       "      <td>0</td>\n",
       "      <td>168</td>\n",
       "      <td>224</td>\n",
       "      <td>29</td>\n",
       "      <td>432</td>\n",
       "      <td>7028</td>\n",
       "      <td>1</td>\n",
       "    </tr>\n",
       "    <tr>\n",
       "      <th>630</th>\n",
       "      <td>3</td>\n",
       "      <td>17</td>\n",
       "      <td>0</td>\n",
       "      <td>0</td>\n",
       "      <td>567</td>\n",
       "      <td>0</td>\n",
       "      <td>2</td>\n",
       "      <td>0</td>\n",
       "      <td>16733</td>\n",
       "      <td>1</td>\n",
       "    </tr>\n",
       "    <tr>\n",
       "      <th>90</th>\n",
       "      <td>7</td>\n",
       "      <td>11</td>\n",
       "      <td>1</td>\n",
       "      <td>1</td>\n",
       "      <td>1784</td>\n",
       "      <td>43</td>\n",
       "      <td>89</td>\n",
       "      <td>5</td>\n",
       "      <td>389</td>\n",
       "      <td>1</td>\n",
       "    </tr>\n",
       "    <tr>\n",
       "      <th>1590</th>\n",
       "      <td>7</td>\n",
       "      <td>12</td>\n",
       "      <td>0</td>\n",
       "      <td>0</td>\n",
       "      <td>136</td>\n",
       "      <td>300</td>\n",
       "      <td>5</td>\n",
       "      <td>95</td>\n",
       "      <td>1748</td>\n",
       "      <td>0</td>\n",
       "    </tr>\n",
       "    <tr>\n",
       "      <th>44</th>\n",
       "      <td>0</td>\n",
       "      <td>12</td>\n",
       "      <td>0</td>\n",
       "      <td>0</td>\n",
       "      <td>0</td>\n",
       "      <td>27</td>\n",
       "      <td>0</td>\n",
       "      <td>38</td>\n",
       "      <td>60</td>\n",
       "      <td>1</td>\n",
       "    </tr>\n",
       "  </tbody>\n",
       "</table>\n",
       "</div>"
      ],
      "text/plain": [
       "      age  screen_name_len  bot_is_substr  bot_in_des  followers_count  \\\n",
       "581     2               13              0           0              168   \n",
       "630     3               17              0           0              567   \n",
       "90      7               11              1           1             1784   \n",
       "1590    7               12              0           0              136   \n",
       "44      0               12              0           0                0   \n",
       "\n",
       "      friends_count  listedcount  favourites_count  statuses_count  bot  \n",
       "581             224           29               432            7028    1  \n",
       "630               0            2                 0           16733    1  \n",
       "90               43           89                 5             389    1  \n",
       "1590            300            5                95            1748    0  \n",
       "44               27            0                38              60    1  "
      ]
     },
     "execution_count": 21,
     "metadata": {},
     "output_type": "execute_result"
    }
   ],
   "source": [
    "# clfNames are only the numerical and binary features with importance > 0 \n",
    "clfNames=['age','screen_name_len', 'bot_is_substr','bot_in_des','followers_count','friends_count','listedcount', 'favourites_count','statuses_count']\n",
    "\n",
    "# Getting the training sets and fitting the tree\n",
    "df_train = df[clfNames+['bot']]\n",
    "\n",
    "numerical_desc = df_tf.toarray()\n",
    "\n",
    "#for i in range(7748):\n",
    "#    feat_name = 'tf' + str(i)\n",
    "    \n",
    "#    df_train[feat_name] = numerical_desc[:,i]\n",
    "\n",
    "for a in range(1000):\n",
    "    randomized_Data = df_train.reindex(np.random.permutation(df_train.index))\n",
    "\n",
    "train_df = randomized_Data[:int((len(randomized_Data)+1)*.80)]\n",
    "test_df = randomized_Data[int((len(randomized_Data)+1)*.80):]\n",
    "\n",
    "train_df.head()"
   ]
  },
  {
   "cell_type": "code",
   "execution_count": 22,
   "metadata": {
    "collapsed": false
   },
   "outputs": [
    {
     "name": "stdout",
     "output_type": "stream",
     "text": [
      "0.872272784577 0.863929754453\n"
     ]
    }
   ],
   "source": [
    "x_train = train_df.drop('bot', 1)\n",
    "y_train = train_df['bot'].astype(bool)\n",
    "\n",
    "\n",
    "x_test = test_df.drop('bot', 1)\n",
    "y_test = test_df['bot'].astype(bool)\n",
    "\n",
    "dt = DecisionTreeClassifier(criterion='entropy')\n",
    "dt.fit(x_train, y_train)\n",
    "\n",
    "accuracy = cross_val_score(dt, x_train, y_train, cv=5, scoring = \"accuracy\").mean()\n",
    "precision = cross_val_score(dt, x_train, y_train, cv=5, scoring = \"precision\").mean()\n",
    "\n",
    "print(accuracy, precision)\n"
   ]
  },
  {
   "cell_type": "code",
   "execution_count": 23,
   "metadata": {
    "collapsed": false
   },
   "outputs": [
    {
     "name": "stdout",
     "output_type": "stream",
     "text": [
      "0.621818136582 0.554465175212\n"
     ]
    }
   ],
   "source": [
    "from sklearn.naive_bayes import GaussianNB\n",
    "\n",
    "gnb = GaussianNB()\n",
    "\n",
    "gnb.fit(x_train, y_train)\n",
    "\n",
    "accuracy = cross_val_score(gnb, x_train, y_train, cv=5, scoring = \"accuracy\").mean()\n",
    "precision = cross_val_score(gnb, x_train, y_train, cv=5, scoring = \"precision\").mean()\n",
    "\n",
    "print(accuracy, precision)\n"
   ]
  },
  {
   "cell_type": "code",
   "execution_count": 24,
   "metadata": {
    "collapsed": false
   },
   "outputs": [
    {
     "name": "stdout",
     "output_type": "stream",
     "text": [
      "0.542295608847 0.813888888889\n"
     ]
    }
   ],
   "source": [
    "from sklearn import svm \n",
    "\n",
    "svclf = svm.SVC()\n",
    "\n",
    "svclf.fit(x_train, y_train)\n",
    "\n",
    "accuracy = cross_val_score(svclf, x_train, y_train, cv=5, scoring = \"accuracy\").mean()\n",
    "precision = cross_val_score(svclf, x_train, y_train, cv=5, scoring = \"precision\").mean()\n",
    "\n",
    "svclf.predict(x_test)\n",
    "\n",
    "print(accuracy, precision)"
   ]
  }
 ],
 "metadata": {
  "kernelspec": {
   "display_name": "Python 3",
   "language": "python",
   "name": "python3"
  },
  "language_info": {
   "codemirror_mode": {
    "name": "ipython",
    "version": 3
   },
   "file_extension": ".py",
   "mimetype": "text/x-python",
   "name": "python",
   "nbconvert_exporter": "python",
   "pygments_lexer": "ipython3",
   "version": "3.6.0"
  }
 },
 "nbformat": 4,
 "nbformat_minor": 2
}
