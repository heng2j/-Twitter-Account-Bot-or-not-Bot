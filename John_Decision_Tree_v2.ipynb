{
 "cells": [
  {
   "cell_type": "markdown",
   "metadata": {
    "collapsed": true
   },
   "source": [
    "# Predict the Twitter Accounts to be bots or not bots \n"
   ]
  },
  {
   "cell_type": "markdown",
   "metadata": {},
   "source": [
    "# Import modules"
   ]
  },
  {
   "cell_type": "code",
   "execution_count": 14,
   "metadata": {
    "collapsed": false
   },
   "outputs": [
    {
     "name": "stderr",
     "output_type": "stream",
     "text": [
      "/Users/Heng2j/anaconda/lib/python3.6/site-packages/sklearn/cross_validation.py:44: DeprecationWarning: This module was deprecated in version 0.18 in favor of the model_selection module into which all the refactored classes and functions are moved. Also note that the interface of the new CV iterators are different from that of this module. This module will be removed in 0.20.\n",
      "  \"This module will be removed in 0.20.\", DeprecationWarning)\n"
     ]
    }
   ],
   "source": [
    "import numpy as np\n",
    "import pandas as pd\n",
    "from sklearn.model_selection import train_test_split\n",
    "\n",
    "import pandas as pd\n",
    "import numpy as np\n",
    "import matplotlib.pyplot as plt\n",
    "from scipy.stats import entropy\n",
    "import os\n",
    "\n",
    "from sklearn.tree import DecisionTreeClassifier\n",
    "from sklearn import tree\n",
    "from sklearn.cross_validation import cross_val_score\n",
    "\n",
    "\n",
    "%matplotlib inline"
   ]
  },
  {
   "cell_type": "code",
   "execution_count": null,
   "metadata": {
    "collapsed": true
   },
   "outputs": [],
   "source": []
  },
  {
   "cell_type": "code",
   "execution_count": 5,
   "metadata": {
    "collapsed": true
   },
   "outputs": [],
   "source": [
    "names=['id','id_str','screen_name','location','description','url','followers_count','friends_count','listedcount','created_at','favourites_count','verified','statuses_count','lang','status','default_profile','default_profile_image','has_extended_profile','name','bot']"
   ]
  },
  {
   "cell_type": "code",
   "execution_count": 6,
   "metadata": {
    "collapsed": false
   },
   "outputs": [],
   "source": [
    "df = pd.read_csv('/Users/Heng2j/Documents/NYU Grad /Spring 2017/Machine Learning/project/merged.csv',encoding=\"ISO-8859-1\",\n",
    "                 header=None,delim_whitespace=False,names=names,na_values='?',)"
   ]
  },
  {
   "cell_type": "code",
   "execution_count": 7,
   "metadata": {
    "collapsed": false
   },
   "outputs": [],
   "source": [
    "# Creating more features from given dataframe\n",
    "df[\"screen_name_len\"] = [len(i) for i in df[\"screen_name\"]]\n",
    "df[\"bot_is_substr\"] = [int('bot' in i.lower()) for i in df[\"screen_name\"]]\n",
    "df[\"bot_in_des\"] = [int('bot' in str(i).lower()) for i in df['description']]\n",
    "\n",
    "# Getting the ages in years from created_at\n",
    "ages = []\n",
    "for i in df[\"created_at\"]:\n",
    "    if len(i) > 20:\n",
    "        i = i.split()\n",
    "        year = int(i[5][:4]) % 2000 \n",
    "    else:\n",
    "        i = i.split('/')\n",
    "        year = int(i[2].split()[0]) % 2000\n",
    "    age = 17-year\n",
    "    ages.append(age)\n",
    "df[\"age\"] = ages\n"
   ]
  },
  {
   "cell_type": "code",
   "execution_count": 48,
   "metadata": {
    "collapsed": false
   },
   "outputs": [],
   "source": [
    "for a in range(1000):\n",
    "    randomized_Data = df.reindex(np.random.permutation(df.index))\n",
    "\n",
    "train_df = randomized_Data[:int((len(randomized_Data)+1)*.80)]\n",
    "test_df = randomized_Data[int((len(randomized_Data)+1)*.80):] \n",
    "\n",
    "\n",
    "\n"
   ]
  },
  {
   "cell_type": "code",
   "execution_count": 56,
   "metadata": {
    "collapsed": false
   },
   "outputs": [],
   "source": [
    "X_train = train_df.drop('bot', 1)\n",
    "Y_train = train_df['bot']\n",
    "\n",
    "\n",
    "\n",
    "\n",
    "X_test = test_df.drop('bot', 1)\n",
    "Y_test = test_df['bot']"
   ]
  },
  {
   "cell_type": "code",
   "execution_count": null,
   "metadata": {
    "collapsed": false
   },
   "outputs": [],
   "source": []
  },
  {
   "cell_type": "code",
   "execution_count": 60,
   "metadata": {
    "collapsed": false
   },
   "outputs": [
    {
     "name": "stdout",
     "output_type": "stream",
     "text": [
      "Traning Average accuracy: 0.863845862242\n",
      "Traning Average Precision: 0.868422279614\n",
      "Accuracy on test set:  0.881165919283\n"
     ]
    },
    {
     "data": {
      "image/png": "[encoded data removed]",
      "text/plain": [
       "<matplotlib.figure.Figure at 0x11164bda0>"
      ]
     },
     "metadata": {},
     "output_type": "display_data"
    }
   ],
   "source": [
    "\n",
    "\n",
    "\n",
    "dt = DecisionTreeClassifier(criterion='entropy')\n",
    "\n",
    "# treeNames are only the numerical and binary features with importance > 0 \n",
    "treeNames=['age','screen_name_len', 'bot_is_substr','bot_in_des','followers_count','friends_count','listedcount', 'favourites_count','verified','statuses_count']\n",
    "\n",
    "# Getting the training sets and fitting the tree\n",
    "df_train = train_df[treeNames+['bot']]\n",
    "x_train = train_df[treeNames]\n",
    "y_train = train_df.bot.astype(bool)\n",
    "dt.fit(x_train, y_train)\n",
    "\n",
    "# Evaluating the tree with cross-val\n",
    "accuracy = cross_val_score(dt, x_train, y_train, cv=5, scoring = \"accuracy\")\n",
    "precision = cross_val_score(dt, x_train, y_train, cv=5, scoring = \"precision\")\n",
    "\n",
    "# Graphing the feature importance \n",
    "import matplotlib.pyplot as plt\n",
    "%matplotlib inline\n",
    "\n",
    "feature_mi_dict = dict(zip(df_train.columns.values,dt.feature_importances_))\n",
    "feature_mi_dict\n",
    "feature_importance_X = feature_mi_dict.keys()\n",
    "feature_importance_Y = feature_mi_dict.values()\n",
    "plt.rcParams['figure.figsize'] = (16, 5)\n",
    "plt.bar(range(len(feature_mi_dict)), feature_mi_dict.values(), align='center')\n",
    "plt.xticks(range(len(feature_mi_dict)), feature_mi_dict.keys())\n",
    "plt.xlabel('Features')\n",
    "plt.ylabel('Feature Importance')\n",
    "plt.grid(True)\n",
    "\n",
    "# Printing the evaluations \n",
    "print(\"Traning Average accuracy:\",accuracy.mean())\n",
    "print(\"Traning Average Precision:\",precision.mean())\n",
    "\n",
    "\n",
    "predicts = dt.predict(X_test[treeNames])\n",
    "\n",
    "Test_accuracy = metrics.accuracy_score(test_df['bot'], predicts)\n",
    "\n",
    "print('Accuracy on test set: ',Test_accuracy )\n",
    "\n",
    "\n",
    "\n"
   ]
  },
  {
   "cell_type": "markdown",
   "metadata": {
    "collapsed": false
   },
   "source": [
    "\n",
    "\n",
    "\n",
    "\n"
   ]
  },
  {
   "cell_type": "code",
   "execution_count": 63,
   "metadata": {
    "collapsed": false
   },
   "outputs": [
    {
     "name": "stdout",
     "output_type": "stream",
     "text": [
      "Maximum Accuracy: 0.887892376682 \n",
      "Minimum Accuracy: 0.881165919283\n",
      "Average Accuracy: 0.884125560538\n",
      "[0.8811659192825112, 0.8811659192825112, 0.8811659192825112, 0.8811659192825112, 0.88565022421524664, 0.88789237668161436, 0.88789237668161436, 0.8811659192825112, 0.88340807174887892, 0.88340807174887892, 0.8811659192825112, 0.8811659192825112, 0.8811659192825112, 0.8811659192825112, 0.88565022421524664, 0.88789237668161436, 0.88789237668161436, 0.8811659192825112, 0.88340807174887892, 0.88340807174887892, 0.8811659192825112, 0.8811659192825112, 0.8811659192825112, 0.8811659192825112, 0.88565022421524664, 0.88789237668161436, 0.88789237668161436, 0.8811659192825112, 0.88340807174887892, 0.88340807174887892, 0.8811659192825112, 0.8811659192825112, 0.8811659192825112, 0.8811659192825112, 0.88565022421524664, 0.88789237668161436, 0.88789237668161436, 0.8811659192825112, 0.88340807174887892, 0.88340807174887892, 0.8811659192825112, 0.8811659192825112, 0.8811659192825112, 0.8811659192825112, 0.88565022421524664, 0.88789237668161436, 0.88789237668161436, 0.8811659192825112, 0.88340807174887892, 0.88340807174887892, 0.8811659192825112, 0.8811659192825112, 0.8811659192825112, 0.8811659192825112, 0.88565022421524664, 0.88789237668161436, 0.88789237668161436, 0.8811659192825112, 0.88340807174887892, 0.88340807174887892, 0.88565022421524664, 0.88565022421524664, 0.88565022421524664, 0.88565022421524664, 0.88565022421524664, 0.88789237668161436, 0.88789237668161436, 0.8811659192825112, 0.88340807174887892, 0.88340807174887892, 0.88565022421524664, 0.88565022421524664, 0.88565022421524664, 0.88565022421524664, 0.88565022421524664, 0.88789237668161436, 0.88789237668161436, 0.8811659192825112, 0.88340807174887892, 0.88340807174887892, 0.88565022421524664, 0.88565022421524664, 0.88565022421524664, 0.88565022421524664, 0.88565022421524664, 0.88789237668161436, 0.88789237668161436, 0.8811659192825112, 0.88340807174887892, 0.88340807174887892, 0.88565022421524664, 0.88565022421524664, 0.88565022421524664, 0.88565022421524664, 0.88565022421524664, 0.88789237668161436, 0.88789237668161436, 0.8811659192825112, 0.88340807174887892, 0.88340807174887892]\n"
     ]
    }
   ],
   "source": [
    "from sklearn import metrics\n",
    "\n",
    "\n",
    "# Splitting the set 80-20 with train_test_split from sklearn metrics\n",
    "#bot = df['bot']\n",
    "#X_train, X_test, Y_train, Y_test = train_test_split(df[treeNames].ix[:,0:13], bot, test_size=0.2, random_state=42)\n",
    "\n",
    "\n",
    "min_samples_split_values = list(range(20,70,5))\n",
    "min_samples_leaf_values = list(range(20,30,1))\n",
    "\n",
    "test_set_accuracy = []\n",
    "\n",
    "for i in range(10):\n",
    "    \n",
    "    min_samples_split_value = min_samples_split_values[i]\n",
    "    for j in range(10):\n",
    "        min_samples_leaf_value = min_samples_leaf_values[j]    \n",
    "        \n",
    "        # Fitting and evaluating a tree\n",
    "        splitDt = DecisionTreeClassifier(criterion='entropy',max_depth = 5, min_samples_split = min_samples_split_value,  min_samples_leaf = min_samples_leaf_value)\n",
    "        splitDt.fit(X_train[treeNames], Y_train)\n",
    "        predict = splitDt.predict(X_test[treeNames])\n",
    "        accuracy = metrics.accuracy_score(predict, Y_test)\n",
    "    \n",
    "        test_set_accuracy.append(accuracy)\n",
    "\n",
    "        \n",
    "        \n",
    "print(\"Maximum Accuracy:\", max(test_set_accuracy),\"\\nMinimum Accuracy:\", min(test_set_accuracy))\n",
    "print(\"Average Accuracy:\",sum(test_set_accuracy)/len(test_set_accuracy))\n",
    "print(test_set_accuracy)\n",
    "\n",
    "\n"
   ]
  },
  {
   "cell_type": "code",
   "execution_count": 30,
   "metadata": {
    "collapsed": false
   },
   "outputs": [
    {
     "name": "stdout",
     "output_type": "stream",
     "text": [
      "      age  screen_name_len  bot_is_substr  bot_in_des  followers_count  \\\n",
      "123     2               15              0           0             3459   \n",
      "693     3               11              0           1            17289   \n",
      "1636    6               12              0           0              381   \n",
      "1982    7               11              0           0            26522   \n",
      "1993    3               13              0           0              370   \n",
      "668     2               14              0           0               79   \n",
      "47      1               10              1           0              293   \n",
      "1523    6                9              0           0              121   \n",
      "1058    8               15              0           0           222659   \n",
      "787     3               15              0           0               49   \n",
      "122     5                9              0           0                8   \n",
      "1750    0               11              0           0                7   \n",
      "43      3               11              0           0              284   \n",
      "1526    6               13              0           0                9   \n",
      "756     2               11              0           0              159   \n",
      "148     2               13              0           1               74   \n",
      "1415    3                8              0           0                2   \n",
      "307     2               13              0           1               98   \n",
      "620     2                8              1           1              154   \n",
      "2139    8               14              0           0               98   \n",
      "763     3               13              0           0              475   \n",
      "1366    0                9              0           0               72   \n",
      "577     3               14              0           0               49   \n",
      "245     2               13              0           0              978   \n",
      "1593    6               13              0           0              301   \n",
      "697     1               15              0           1              515   \n",
      "582     8               14              0           1           133554   \n",
      "2198    8               14              0           0             1533   \n",
      "303     3               10              0           0              412   \n",
      "241     4               14              1           1              119   \n",
      "...   ...              ...            ...         ...              ...   \n",
      "1632    2               12              0           0           290004   \n",
      "295     3               13              0           1              180   \n",
      "1334    8               13              0           0               46   \n",
      "637     1                9              0           0               61   \n",
      "531     3               15              1           1            12415   \n",
      "677     4               11              0           1             1787   \n",
      "1225    9                9              0           0          3654259   \n",
      "1068    9               13              0           0          1793645   \n",
      "2213    8                5              0           0           126545   \n",
      "853     3               11              1           1              183   \n",
      "1912   10                8              0           0          3706945   \n",
      "1179    7               10              0           0             3749   \n",
      "1267    6               11              0           0               42   \n",
      "562     3               14              0           0                6   \n",
      "1664    7               12              0           0               13   \n",
      "498     0               15              0           0                3   \n",
      "1855    8                9              0           0          1182355   \n",
      "753     2               15              0           0               40   \n",
      "1924    7               10              0           0              216   \n",
      "1950    8                5              0           0             2811   \n",
      "174     0               15              0           0              918   \n",
      "505     0                9              0           0               20   \n",
      "1080    7               15              0           0              106   \n",
      "1285    8               14              0           0           318621   \n",
      "1850    3               10              0           0               43   \n",
      "1361    7                8              0           0               40   \n",
      "72      3                9              1           1              213   \n",
      "299     0               15              0           0                1   \n",
      "550     0               14              0           0                2   \n",
      "970     1                9              0           0                1   \n",
      "\n",
      "      friends_count  listedcount  favourites_count verified  statuses_count  \n",
      "123            2282           11              3888    False           57256  \n",
      "693            8538          430                 0    False          772559  \n",
      "1636            197           33              2822    False            3064  \n",
      "1982           1533         1223              2793     True           11373  \n",
      "1993            595            1             10406    False            2460  \n",
      "668               1           10                 0    False            3615  \n",
      "47              344            2                 0    False            8638  \n",
      "1523            255            1                 0    False              83  \n",
      "1058            352         3261               143     True           10999  \n",
      "787             277            1                 0    False               7  \n",
      "122              45            0                 3    False               5  \n",
      "1750             19            0                16    False              13  \n",
      "43               66           30                 0    False            5986  \n",
      "1526             38            0                 0    False              12  \n",
      "756             474            1               174    False             562  \n",
      "148               7           27                 1    False           80949  \n",
      "1415             10            0                 0    False               2  \n",
      "307              24            7                 2    False            3336  \n",
      "620               2           16                 4    False             658  \n",
      "2139            827            1              2237    False            1647  \n",
      "763               0           27                 0    False           17299  \n",
      "1366            703            0                65    False               4  \n",
      "577               2           17                 7    False             323  \n",
      "245            2104            3                 3    False             114  \n",
      "1593            285            7              1326    False            3379  \n",
      "697               1           52                 0    False            1271  \n",
      "582           95060         1455              1453    False           40763  \n",
      "2198            334          111               505    False            1346  \n",
      "303              15           32                 0    False           46926  \n",
      "241               1           21                 0    False           18719  \n",
      "...             ...          ...               ...      ...             ...  \n",
      "1632            101          613               207     True             392  \n",
      "295               4            7                 2    False            5265  \n",
      "1334             12           12               986    False            6083  \n",
      "637             150            0               191    False             130  \n",
      "531             402          122               201    False            5986  \n",
      "677               1           24                 0    False           27932  \n",
      "1225           1336         1129              3557     True            3456  \n",
      "1068         428911        15982              6881     True          155671  \n",
      "2213            583         2447               452     True            5723  \n",
      "853               3            5                 0    False              31  \n",
      "1912          69092        14625             31627     True           63643  \n",
      "1179              1          313               177    False            7931  \n",
      "1267            204            5              5490    False             580  \n",
      "562               0            4                 0    False              11  \n",
      "1664             25            0                 7    False               0  \n",
      "498              29            0                 0    False               1  \n",
      "1855            272         9485              2498     True            9677  \n",
      "753               0           18                 0    False            5052  \n",
      "1924             50            3               423    False            9957  \n",
      "1950           1211          152              3409    False           12150  \n",
      "174               0           13                 2    False           92849  \n",
      "505             300            0                 6    False               1  \n",
      "1080            318            3                11    False             441  \n",
      "1285            603         6491             10838     True           18794  \n",
      "1850            269            0                 2    False              27  \n",
      "1361            117            1                13    False              48  \n",
      "72                0           38                 0    False            1063  \n",
      "299              30            0                98    False             106  \n",
      "550              41            0                 0    False               1  \n",
      "970             315            0                13    False              27  \n",
      "\n",
      "[2231 rows x 10 columns]\n"
     ]
    }
   ],
   "source": [
    "print(randomized_Data[treeNames].ix[:,0:13])"
   ]
  },
  {
   "cell_type": "code",
   "execution_count": null,
   "metadata": {
    "collapsed": true
   },
   "outputs": [],
   "source": []
  }
 ],
 "metadata": {
  "anaconda-cloud": {},
  "kernelspec": {
   "display_name": "Python 3",
   "language": "python",
   "name": "python3"
  },
  "language_info": {
   "codemirror_mode": {
    "name": "ipython",
    "version": 3
   },
   "file_extension": ".py",
   "mimetype": "text/x-python",
   "name": "python",
   "nbconvert_exporter": "python",
   "pygments_lexer": "ipython3",
   "version": "3.6.0"
  }
 },
 "nbformat": 4,
 "nbformat_minor": 0
}
