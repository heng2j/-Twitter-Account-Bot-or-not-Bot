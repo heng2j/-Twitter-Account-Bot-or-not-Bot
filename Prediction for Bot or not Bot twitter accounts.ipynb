{
 "cells": [
  {
   "cell_type": "markdown",
   "metadata": {
    "collapsed": true
   },
   "source": [
    "# Predict the Twitter Accounts to be bots or not bots \n",
    "# Team Members: \n",
    "* Ashish Bansal - Worked on Naive Bayes, Random Forest Classicfication, data preparation \n",
    "* John Martinez - Worked on Decision Tree, Random Forest Classicfication, sentiment & gender detection \n",
    "* Zhongheng Li - Worked on Logistic Regression,Neural network,Random Forest Classicfication, data preparation & info visulization\n"
   ]
  },
  {
   "cell_type": "markdown",
   "metadata": {},
   "source": [
    "# Abstract\n",
    "In this project we explored how to classify twitter accounts as bots or not-bots accurately. To do this, we harvested several datasets and used them to train our model to distinguish bots from real users. The machine learning algorithms known as Naive bayes, logistic regression, and decision trees were tested. We will present here the results from the most successful of these and upon deciding which algorithm performs the best.\n"
   ]
  },
  {
   "cell_type": "markdown",
   "metadata": {},
   "source": [
    "# Data\n",
    "The data set used is an extract from Twitter API we used the module to query two endpoints: GET user/lookup.json  and GET user/friends/list.json. originally intended to search as tweets by a certain user and tweets of friends of certain user account . The original data set has 130 attributes per user id . This dataset is a mixed set in which we can find many categorical and numerical variables with a lot of missing values. From all the attributes these were the ones that we considered:'id','id_str','screen_name','location','description','url','followers_count','friends_count','listedcount','created_at','favourites_count','verified','statuses_count','lang',\n",
    "'status','default_profile','default_profile_image','has_extended_profile','name'. And we also created the new target variable 'bot' based on the results during data collection to indicate if the account is a bot or not bot.\n"
   ]
  },
  {
   "cell_type": "markdown",
   "metadata": {},
   "source": [
    "# Description of Variables\n",
    "\n",
    "The dataset contains 2231 observations of 20 variables:\n",
    "\n",
    "* 'id' - The integer representation of the unique identifier for this User.\n",
    "* 'id_str' - The string representation of the unique identifier for this User. \n",
    "* 'screen_name' - The screen name, handle, or alias that this user identifies themselves with. screen_names are unique but subject to change.\n",
    "* 'location' - The user-defined location for this account’s profile.\n",
    "* 'description' - Nullable . The user-defined UTF-8 string describing their account\n",
    "* 'url' - A URL provided by the user in association with their profile.\n",
    "* 'followers_count' -The number of followers this account currently has. Under certain conditions of duress.\n",
    "* 'friends_count' - The number of users this account is following . Under certain conditions of duress. \n",
    "* 'listedcount' - Contains the number of public lists that this user is a member of.\n",
    "* 'created_at' - The UTC datetime that the user account was created on Twitter\n",
    "* 'favourites_count' - The number of tweets this user has favorited in the account’s lifetime. British spelling used in the field name for historical reasons\n",
    "* 'verified' - When true, indicates that the user has a verified account.\n",
    "* 'statuses_count' - The number of tweets (including retweets) issued by the user. \n",
    "* 'lang' - The BCP 47 code for the user’s self-declared user interface language. May or may not have anything to do with the content of their Tweets.\n",
    "* 'status' - If possible, the user’s most recent tweet or retweet. In some circumstances, this data cannot be provided and this field will be null.\n",
    "* 'default_profile' - When true, indicates that the user has not altered the theme or background of their user profile\n",
    "* 'default_profile_image' - When true, indicates that the user has not uploaded their own avatar and a default egg avatar is used instead\n",
    "* 'has_extended_profile' - Indication to show that a user has another profile that is associating with this profile.\n",
    "* 'name' - The name of the user, as they’ve defined it. Not necessarily a person’s name. Typically capped at 20 characters, but subject to change."
   ]
  },
  {
   "cell_type": "markdown",
   "metadata": {},
   "source": [
    "# Problem Statement\n",
    "\n",
    "A [recent research](https://arxiv.org/pdf/1703.03107.pdf) conducted by the University of Southern California and Indiana University, had discovered that 48 millions of Twitter accounts are non human bots. Which is 15% of Twitter's total active user population. Many of these social bots are being used for dissemination of news and publications. But not all bots are disseminating contents that are harmless. Malicious bots are emulating human behaviors to manufacture fake grassroots political support and promote terrorist propagandas and recruitments. On November 1st, 2016, The Atlantic had an [article on how Twitter bots had shaped the 2016 US Presidential election](https://www.theatlantic.com/technology/archive/2016/11/election-bots/506072/). As we are in the age of  information, where social media has great impacts on shaping the social structure and humanity, identifying the malicious socialbots is critical. It is critical for identifying the sources of malicious fake information, and distinguish the malicious ones from the useful bots that are providing helpful functions like alerting disasters and providing useful customer services. In order to achieve this goal, the first step is to distinguish all bots from real users. \n",
    "\n",
    "\n",
    "\n"
   ]
  },
  {
   "cell_type": "markdown",
   "metadata": {},
   "source": [
    "# Import modules"
   ]
  },
  {
   "cell_type": "code",
   "execution_count": 1,
   "metadata": {
    "collapsed": false
   },
   "outputs": [
    {
     "name": "stderr",
     "output_type": "stream",
     "text": [
      "/Users/Heng2j/anaconda/lib/python3.6/site-packages/sklearn/cross_validation.py:44: DeprecationWarning: This module was deprecated in version 0.18 in favor of the model_selection module into which all the refactored classes and functions are moved. Also note that the interface of the new CV iterators are different from that of this module. This module will be removed in 0.20.\n",
      "  \"This module will be removed in 0.20.\", DeprecationWarning)\n"
     ]
    }
   ],
   "source": [
    "import numpy as np\n",
    "import pandas as pd\n",
    "\n",
    "from scipy.stats import entropy\n",
    "import os\n",
    "\n",
    "from sklearn.model_selection import train_test_split\n",
    "from sklearn.tree import DecisionTreeClassifier\n",
    "from sklearn import tree\n",
    "from sklearn.cross_validation import cross_val_score\n",
    "from sklearn import metrics\n",
    "from sklearn.metrics import roc_curve, auc\n",
    "\n",
    "import statsmodels.api as sm\n",
    "from patsy import dmatrices\n",
    "from sklearn.linear_model import LogisticRegression\n",
    "\n",
    "from sklearn.datasets import make_classification\n",
    "from sklearn.linear_model import LogisticRegression\n",
    "from sklearn.ensemble import (RandomTreesEmbedding, RandomForestClassifier,\n",
    "                              GradientBoostingClassifier)\n",
    "from sklearn.preprocessing import OneHotEncoder\n",
    "from sklearn.model_selection import train_test_split\n",
    "from sklearn.metrics import roc_curve\n",
    "from sklearn.pipeline import make_pipeline\n",
    "\n",
    "\n",
    "from sklearn.ensemble import RandomForestClassifier\n",
    "\n",
    "\n",
    "import matplotlib.pyplot as plt\n",
    "%matplotlib inline\n",
    "\n",
    "\n",
    "\n"
   ]
  },
  {
   "cell_type": "markdown",
   "metadata": {},
   "source": [
    "# Data Preparion and Data Clearning: \n",
    "\n",
    "Import the file and create the dataframe and additional useful features"
   ]
  },
  {
   "cell_type": "code",
   "execution_count": 2,
   "metadata": {
    "collapsed": true
   },
   "outputs": [],
   "source": [
    "names=['id','id_str','screen_name','location','description','url','followers_count','friends_count','listedcount','created_at','favourites_count','verified','statuses_count','lang','status','default_profile','default_profile_image','has_extended_profile','name','bot']"
   ]
  },
  {
   "cell_type": "code",
   "execution_count": 3,
   "metadata": {
    "collapsed": false
   },
   "outputs": [],
   "source": [
    "bots_data = pd.read_csv('/Users/Heng2j/Documents/NYU Grad /Spring 2017/Machine Learning/project/bots_data.csv',encoding=\"ISO-8859-1\",header = None, na_values='?',delim_whitespace=False,)\n",
    "bots_data = bots_data.ix[1:]\n",
    "\n",
    "nonbots_data = pd.read_csv('/Users/Heng2j/Documents/NYU Grad /Spring 2017/Machine Learning/project/nonbots_data.csv',encoding=\"ISO-8859-1\",header = None,na_values='?',delim_whitespace=False,)\n",
    "nonbots_data = nonbots_data.ix[1:]\n",
    "\n",
    "\n",
    "data_frames = [bots_data, nonbots_data]\n",
    "\n",
    "df = pd.concat(data_frames)\n",
    "df.columns = names\n",
    "\n",
    "\n",
    "\n",
    "\n",
    "#df = pd.read_csv('/Users/Heng2j/Documents/NYU Grad /Spring 2017/Machine Learning/project/merged.csv',encoding=\"ISO-8859-1\",\n",
    "#                 header=None,delim_whitespace=False,names=names,na_values='?',)\n",
    "\n",
    "\n",
    "\n"
   ]
  },
  {
   "cell_type": "code",
   "execution_count": 4,
   "metadata": {
    "collapsed": false
   },
   "outputs": [
    {
     "data": {
      "text/html": [
       "<div>\n",
       "<table border=\"1\" class=\"dataframe\">\n",
       "  <thead>\n",
       "    <tr style=\"text-align: right;\">\n",
       "      <th></th>\n",
       "      <th>id</th>\n",
       "      <th>id_str</th>\n",
       "      <th>screen_name</th>\n",
       "      <th>location</th>\n",
       "      <th>description</th>\n",
       "      <th>url</th>\n",
       "      <th>followers_count</th>\n",
       "      <th>friends_count</th>\n",
       "      <th>listedcount</th>\n",
       "      <th>created_at</th>\n",
       "      <th>favourites_count</th>\n",
       "      <th>verified</th>\n",
       "      <th>statuses_count</th>\n",
       "      <th>lang</th>\n",
       "      <th>status</th>\n",
       "      <th>default_profile</th>\n",
       "      <th>default_profile_image</th>\n",
       "      <th>has_extended_profile</th>\n",
       "      <th>name</th>\n",
       "      <th>bot</th>\n",
       "    </tr>\n",
       "  </thead>\n",
       "  <tbody>\n",
       "    <tr>\n",
       "      <th>1</th>\n",
       "      <td>3982731976</td>\n",
       "      <td>3982731976</td>\n",
       "      <td>mcgucket_bot</td>\n",
       "      <td>NaN</td>\n",
       "      <td>A bot that tweets every line said by Fiddlefor...</td>\n",
       "      <td>NaN</td>\n",
       "      <td>1129</td>\n",
       "      <td>7</td>\n",
       "      <td>2</td>\n",
       "      <td>Sat Oct 17 22:35:31 +0000 2015</td>\n",
       "      <td>0</td>\n",
       "      <td>FALSE</td>\n",
       "      <td>23557</td>\n",
       "      <td>en</td>\n",
       "      <td>{'retweeted': False, 'is_quote_status': False,...</td>\n",
       "      <td>FALSE</td>\n",
       "      <td>FALSE</td>\n",
       "      <td>FALSE</td>\n",
       "      <td>McGucket bot</td>\n",
       "      <td>1</td>\n",
       "    </tr>\n",
       "    <tr>\n",
       "      <th>2</th>\n",
       "      <td>8.41E+17</td>\n",
       "      <td>8.41E+17</td>\n",
       "      <td>BowieK66</td>\n",
       "      <td>NaN</td>\n",
       "      <td>NaN</td>\n",
       "      <td>NaN</td>\n",
       "      <td>0</td>\n",
       "      <td>22</td>\n",
       "      <td>0</td>\n",
       "      <td>13/03/2017 22:21</td>\n",
       "      <td>0</td>\n",
       "      <td>FALSE</td>\n",
       "      <td>1</td>\n",
       "      <td>en</td>\n",
       "      <td>Status(_api=&lt;tweepy.api.API object at 0x101927...</td>\n",
       "      <td>TRUE</td>\n",
       "      <td>TRUE</td>\n",
       "      <td>FALSE</td>\n",
       "      <td>MJ Kuhn</td>\n",
       "      <td>1</td>\n",
       "    </tr>\n",
       "    <tr>\n",
       "      <th>3</th>\n",
       "      <td>2768374981</td>\n",
       "      <td>2768374981</td>\n",
       "      <td>ducknoteprice</td>\n",
       "      <td>NaN</td>\n",
       "      <td>NaN</td>\n",
       "      <td>NaN</td>\n",
       "      <td>3</td>\n",
       "      <td>0</td>\n",
       "      <td>3</td>\n",
       "      <td>Mon Aug 25 23:17:59 +0000 2014</td>\n",
       "      <td>0</td>\n",
       "      <td>FALSE</td>\n",
       "      <td>1050</td>\n",
       "      <td>en</td>\n",
       "      <td>{'created_at': 'Fri Feb 26 17:01:15 +0000 2016...</td>\n",
       "      <td>TRUE</td>\n",
       "      <td>FALSE</td>\n",
       "      <td>FALSE</td>\n",
       "      <td>duckNote</td>\n",
       "      <td>1</td>\n",
       "    </tr>\n",
       "    <tr>\n",
       "      <th>4</th>\n",
       "      <td>3304189373</td>\n",
       "      <td>3304189373</td>\n",
       "      <td>robotrecipes</td>\n",
       "      <td>robot kitchen</td>\n",
       "      <td>tasty recipes for robot // not for human // a ...</td>\n",
       "      <td>http://t.co/PdagJGqVMR</td>\n",
       "      <td>505</td>\n",
       "      <td>13</td>\n",
       "      <td>49</td>\n",
       "      <td>Sat May 30 23:42:16 +0000 2015</td>\n",
       "      <td>0</td>\n",
       "      <td>FALSE</td>\n",
       "      <td>5109</td>\n",
       "      <td>en</td>\n",
       "      <td>{u'contributors': None, u'truncated': False, u...</td>\n",
       "      <td>FALSE</td>\n",
       "      <td>FALSE</td>\n",
       "      <td>FALSE</td>\n",
       "      <td>robot recipes</td>\n",
       "      <td>1</td>\n",
       "    </tr>\n",
       "    <tr>\n",
       "      <th>5</th>\n",
       "      <td>3224289024</td>\n",
       "      <td>3224289024</td>\n",
       "      <td>everyumlaut</td>\n",
       "      <td>NaN</td>\n",
       "      <td>bot by @dbaker_h</td>\n",
       "      <td>NaN</td>\n",
       "      <td>15</td>\n",
       "      <td>0</td>\n",
       "      <td>11</td>\n",
       "      <td>Sat May 23 14:39:21 +0000 2015</td>\n",
       "      <td>0</td>\n",
       "      <td>FALSE</td>\n",
       "      <td>31365</td>\n",
       "      <td>en-gb</td>\n",
       "      <td>{u'contributors': None, u'truncated': False, u...</td>\n",
       "      <td>TRUE</td>\n",
       "      <td>FALSE</td>\n",
       "      <td>FALSE</td>\n",
       "      <td>ÌÇvÌÇrÌÀ Ì_mlÌ_Ì_¼Ñ</td>\n",
       "      <td>1</td>\n",
       "    </tr>\n",
       "  </tbody>\n",
       "</table>\n",
       "</div>"
      ],
      "text/plain": [
       "           id      id_str    screen_name       location  \\\n",
       "1  3982731976  3982731976   mcgucket_bot            NaN   \n",
       "2    8.41E+17    8.41E+17       BowieK66            NaN   \n",
       "3  2768374981  2768374981  ducknoteprice            NaN   \n",
       "4  3304189373  3304189373   robotrecipes  robot kitchen   \n",
       "5  3224289024  3224289024    everyumlaut            NaN   \n",
       "\n",
       "                                         description                     url  \\\n",
       "1  A bot that tweets every line said by Fiddlefor...                     NaN   \n",
       "2                                                NaN                     NaN   \n",
       "3                                                NaN                     NaN   \n",
       "4  tasty recipes for robot // not for human // a ...  http://t.co/PdagJGqVMR   \n",
       "5                                   bot by @dbaker_h                     NaN   \n",
       "\n",
       "  followers_count friends_count listedcount                      created_at  \\\n",
       "1            1129             7           2  Sat Oct 17 22:35:31 +0000 2015   \n",
       "2               0            22           0                13/03/2017 22:21   \n",
       "3               3             0           3  Mon Aug 25 23:17:59 +0000 2014   \n",
       "4             505            13          49  Sat May 30 23:42:16 +0000 2015   \n",
       "5              15             0          11  Sat May 23 14:39:21 +0000 2015   \n",
       "\n",
       "  favourites_count verified statuses_count   lang  \\\n",
       "1                0    FALSE          23557     en   \n",
       "2                0    FALSE              1     en   \n",
       "3                0    FALSE           1050     en   \n",
       "4                0    FALSE           5109     en   \n",
       "5                0    FALSE          31365  en-gb   \n",
       "\n",
       "                                              status default_profile  \\\n",
       "1  {'retweeted': False, 'is_quote_status': False,...           FALSE   \n",
       "2  Status(_api=<tweepy.api.API object at 0x101927...            TRUE   \n",
       "3  {'created_at': 'Fri Feb 26 17:01:15 +0000 2016...            TRUE   \n",
       "4  {u'contributors': None, u'truncated': False, u...           FALSE   \n",
       "5  {u'contributors': None, u'truncated': False, u...            TRUE   \n",
       "\n",
       "  default_profile_image has_extended_profile                  name bot  \n",
       "1                 FALSE                FALSE          McGucket bot   1  \n",
       "2                  TRUE                FALSE               MJ Kuhn   1  \n",
       "3                 FALSE                FALSE              duckNote   1  \n",
       "4                 FALSE                FALSE         robot recipes   1  \n",
       "5                 FALSE                FALSE  ÌÇvÌÇrÌÀ Ì_mlÌ_Ì_¼Ñ   1  "
      ]
     },
     "execution_count": 4,
     "metadata": {},
     "output_type": "execute_result"
    }
   ],
   "source": [
    "df.head()"
   ]
  },
  {
   "cell_type": "code",
   "execution_count": 5,
   "metadata": {
    "collapsed": true
   },
   "outputs": [],
   "source": [
    "df.verified=df.verified.astype('bool')\n",
    "df.verified=df.verified.astype(int)\n",
    "df.default_profile=df.default_profile.astype('bool')\n",
    "df.default_profile=df.default_profile.astype(int)\n",
    "df.default_profile_image=df.default_profile_image.astype('bool')\n",
    "df.default_profile_image=df.default_profile_image.astype(int)\n",
    "\n",
    "\n",
    "df.followers_count = df.followers_count.astype(int)\n",
    "df.friends_count = df.friends_count.astype(int)\n",
    "df.listedcount = df.listedcount.astype(int)\n",
    "df.favourites_count = df.favourites_count.astype(int)\n",
    "df.statuses_count = df.statuses_count.astype(int)\n",
    "df.bot = df.bot.astype(int)"
   ]
  },
  {
   "cell_type": "code",
   "execution_count": 6,
   "metadata": {
    "collapsed": false
   },
   "outputs": [],
   "source": [
    "# Creating more features from given dataframe\n",
    "df[\"screen_name_len\"] = [len(i) for i in df[\"screen_name\"]]\n",
    "df[\"bot_is_substr\"] = [int('bot' in i.lower()) for i in df[\"screen_name\"]]\n",
    "df[\"bot_in_des\"] = [int('bot' in str(i).lower()) for i in df['description']]\n",
    "\n",
    "# Getting the ages in years from created_at\n",
    "ages = []\n",
    "for i in df[\"created_at\"]:\n",
    "    if len(i) > 20:\n",
    "        i = i.split()\n",
    "        year = int(i[5][:4]) % 2000 \n",
    "    else:\n",
    "        i = i.split('/')\n",
    "        year = int(i[2].split()[0]) % 2000\n",
    "    age = 17-year\n",
    "    ages.append(age)\n",
    "df[\"age\"] = ages\n",
    "\n"
   ]
  },
  {
   "cell_type": "code",
   "execution_count": 7,
   "metadata": {
    "collapsed": true
   },
   "outputs": [],
   "source": [
    "# This cell is for adding polarity and subjectivity as features \n",
    "from textblob import TextBlob\n",
    "\n",
    "descriptions = [TextBlob(str(txt)) for txt in df['description']]\n",
    "\n",
    "# Creating lists of the polarity and the descriptions\n",
    "desc_pol = [blob.sentiment.polarity for blob in descriptions]\n",
    "desc_subj = [blob.sentiment.subjectivity for blob in descriptions]\n",
    "\n",
    "# Turning them into features\n",
    "df[\"desc_pol\"] = desc_pol\n",
    "df[\"desc_subj\"] = desc_subj"
   ]
  },
  {
   "cell_type": "code",
   "execution_count": 8,
   "metadata": {
    "collapsed": false
   },
   "outputs": [],
   "source": [
    "# gender \n",
    "from genderize import Genderize\n",
    "\n",
    "male = [0] * 2232\n",
    "female = [0] * 2232\n",
    "i = 0\n",
    "\n",
    "names = list(df.name.astype(str))\n",
    "\n",
    "for name in names:\n",
    "    name = name.split()\n",
    "    try:\n",
    "        gInfo = Genderize().get(name)\n",
    "        m = 1\n",
    "        f = 1\n",
    "        for item in gInfo:\n",
    "            if item['gender'] == 'male':\n",
    "                male[i] += item['probability']\n",
    "                m += 1\n",
    "            elif item['gender'] == 'female':\n",
    "                female[i] += item['probability']\n",
    "                f += 1\n",
    "        male[i] /= m\n",
    "        female[i] /= f\n",
    "    except Exception:\n",
    "        pass\n",
    "    \n",
    "    i += 1\n",
    "\n",
    "df['male_prob'] = male\n",
    "df['fem_prob'] = female\n",
    "        "
   ]
  },
  {
   "cell_type": "code",
   "execution_count": 9,
   "metadata": {
    "collapsed": false,
    "scrolled": true
   },
   "outputs": [],
   "source": [
    "#Reindex the merged dataframe df\n",
    "df.reset_index(drop=True, inplace=True)"
   ]
  },
  {
   "cell_type": "code",
   "execution_count": 10,
   "metadata": {
    "collapsed": false
   },
   "outputs": [
    {
     "data": {
      "text/html": [
       "<div>\n",
       "<table border=\"1\" class=\"dataframe\">\n",
       "  <thead>\n",
       "    <tr style=\"text-align: right;\">\n",
       "      <th></th>\n",
       "      <th>id</th>\n",
       "      <th>id_str</th>\n",
       "      <th>screen_name</th>\n",
       "      <th>location</th>\n",
       "      <th>description</th>\n",
       "      <th>url</th>\n",
       "      <th>followers_count</th>\n",
       "      <th>friends_count</th>\n",
       "      <th>listedcount</th>\n",
       "      <th>created_at</th>\n",
       "      <th>...</th>\n",
       "      <th>name</th>\n",
       "      <th>bot</th>\n",
       "      <th>screen_name_len</th>\n",
       "      <th>bot_is_substr</th>\n",
       "      <th>bot_in_des</th>\n",
       "      <th>age</th>\n",
       "      <th>desc_pol</th>\n",
       "      <th>desc_subj</th>\n",
       "      <th>male_prob</th>\n",
       "      <th>fem_prob</th>\n",
       "    </tr>\n",
       "  </thead>\n",
       "  <tbody>\n",
       "  </tbody>\n",
       "</table>\n",
       "<p>0 rows × 28 columns</p>\n",
       "</div>"
      ],
      "text/plain": [
       "Empty DataFrame\n",
       "Columns: [id, id_str, screen_name, location, description, url, followers_count, friends_count, listedcount, created_at, favourites_count, verified, statuses_count, lang, status, default_profile, default_profile_image, has_extended_profile, name, bot, screen_name_len, bot_is_substr, bot_in_des, age, desc_pol, desc_subj, male_prob, fem_prob]\n",
       "Index: []\n",
       "\n",
       "[0 rows x 28 columns]"
      ]
     },
     "execution_count": 10,
     "metadata": {},
     "output_type": "execute_result"
    }
   ],
   "source": [
    "#Double check to see if there is any duplicated indexes\n",
    "df[df.index.duplicated()]"
   ]
  },
  {
   "cell_type": "code",
   "execution_count": 11,
   "metadata": {
    "collapsed": false
   },
   "outputs": [
    {
     "name": "stdout",
     "output_type": "stream",
     "text": [
      "<class 'pandas.core.frame.DataFrame'>\n",
      "RangeIndex: 2232 entries, 0 to 2231\n",
      "Data columns (total 28 columns):\n",
      "id                       2232 non-null object\n",
      "id_str                   2232 non-null object\n",
      "screen_name              2232 non-null object\n",
      "location                 1420 non-null object\n",
      "description              1911 non-null object\n",
      "url                      1212 non-null object\n",
      "followers_count          2232 non-null int64\n",
      "friends_count            2232 non-null int64\n",
      "listedcount              2232 non-null int64\n",
      "created_at               2232 non-null object\n",
      "favourites_count         2232 non-null int64\n",
      "verified                 2232 non-null int64\n",
      "statuses_count           2232 non-null int64\n",
      "lang                     2232 non-null object\n",
      "status                   2203 non-null object\n",
      "default_profile          2232 non-null int64\n",
      "default_profile_image    2232 non-null int64\n",
      "has_extended_profile     2154 non-null object\n",
      "name                     2232 non-null object\n",
      "bot                      2232 non-null int64\n",
      "screen_name_len          2232 non-null int64\n",
      "bot_is_substr            2232 non-null int64\n",
      "bot_in_des               2232 non-null int64\n",
      "age                      2232 non-null int64\n",
      "desc_pol                 2232 non-null float64\n",
      "desc_subj                2232 non-null float64\n",
      "male_prob                2232 non-null int64\n",
      "fem_prob                 2232 non-null int64\n",
      "dtypes: float64(2), int64(15), object(11)\n",
      "memory usage: 488.3+ KB\n"
     ]
    }
   ],
   "source": [
    "#show current info for df after the above chagnes\n",
    "df.info()"
   ]
  },
  {
   "cell_type": "code",
   "execution_count": 12,
   "metadata": {
    "collapsed": false
   },
   "outputs": [
    {
     "data": {
      "text/plain": [
       "(2232, 28)"
      ]
     },
     "execution_count": 12,
     "metadata": {},
     "output_type": "execute_result"
    }
   ],
   "source": [
    "df.shape"
   ]
  },
  {
   "cell_type": "markdown",
   "metadata": {},
   "source": [
    "# Prepare dataframes\n",
    "Normally randomized the data and split the training dataframe and test dataframe"
   ]
  },
  {
   "cell_type": "code",
   "execution_count": 13,
   "metadata": {
    "collapsed": false
   },
   "outputs": [],
   "source": [
    "for a in range(1000):\n",
    "    randomized_Data = df.reindex(np.random.permutation(df.index))\n",
    "\n",
    "train_df = randomized_Data[:int((len(randomized_Data)+1)*.80)]\n",
    "test_df = randomized_Data[int((len(randomized_Data)+1)*.80):] \n",
    "\n",
    "\n",
    "\n"
   ]
  },
  {
   "cell_type": "code",
   "execution_count": 14,
   "metadata": {
    "collapsed": false
   },
   "outputs": [],
   "source": [
    "#Create the Predicting Variables and Targeting Variables for Traning and Test sets\n",
    "X_train = train_df.drop('bot', 1)\n",
    "Y_train = train_df['bot']\n",
    "\n",
    "\n",
    "X_test = test_df.drop('bot', 1)\n",
    "Y_test = test_df['bot']"
   ]
  },
  {
   "cell_type": "markdown",
   "metadata": {
    "collapsed": true
   },
   "source": [
    "## plotUnivariateROC function to help to visulize the data and model\n"
   ]
  },
  {
   "cell_type": "code",
   "execution_count": 15,
   "metadata": {
    "collapsed": true
   },
   "outputs": [],
   "source": [
    "def plotUnivariateROC(preds, truth, label_string):\n",
    " \n",
    "   \n",
    "    fpr, tpr, thresholds = roc_curve(truth,preds, pos_label=1)\n",
    "    roc_auc = auc(fpr,tpr)\n",
    "\n",
    "    if roc_auc < 0.5:\n",
    "        fpr, tpr, thresholds = roc_curve(truth, -1 * preds,pos_label=1 )\n",
    "        roc_auc = auc(fpr, tpr)\n",
    "\n",
    "    c = (np.random.rand(), np.random.rand(), np.random.rand())\n",
    "\n",
    "    plt.plot(fpr, tpr, color = c, label = label_string + ' (AUC = %0.3f)' % roc_auc)\n",
    "    \n",
    "\n",
    "    plt.plot([0, 1], [0, 1], 'k--')\n",
    "    plt.xlim([0.0, 1.0])\n",
    "    plt.ylim([0.0, 1.0])\n",
    "    plt.xlabel('FPR')\n",
    "    plt.ylabel('TPR')\n",
    "    plt.title('ROC Curve')\n",
    "    plt.legend(loc=\"lower right\")\n",
    "    \n",
    "    return roc_auc"
   ]
  },
  {
   "cell_type": "markdown",
   "metadata": {},
   "source": [
    "# Traning Models - Naive Bayes\n",
    "By Ashish Bansal\n"
   ]
  },
  {
   "cell_type": "code",
   "execution_count": 16,
   "metadata": {
    "collapsed": false
   },
   "outputs": [
    {
     "data": {
      "text/plain": [
       "0.76957494407158833"
      ]
     },
     "execution_count": 16,
     "metadata": {},
     "output_type": "execute_result"
    }
   ],
   "source": [
    "X_train_NB, X_test_NB, y_train_NB, y_test_NB = train_test_split(df.ix[:,0:13], df['bot'], test_size=0.2, random_state=0)\n",
    "\n",
    "#tf for training data\n",
    "from sklearn.feature_extraction.text import CountVectorizer\n",
    "count_vect = CountVectorizer()\n",
    "X_train_counts = count_vect.fit_transform(X_train_NB['description'].values.astype('U'))\n",
    "from sklearn.feature_extraction.text import TfidfTransformer\n",
    "tf_transformer = TfidfTransformer(use_idf=False).fit(X_train_counts)\n",
    "X_train_tf = tf_transformer.transform(X_train_counts)\n",
    "\n",
    "#tf for test data\n",
    "X_test_counts = count_vect.transform(X_test_NB['description'].values.astype('U'))\n",
    "from sklearn.feature_extraction.text import TfidfTransformer\n",
    "tf_transformer = TfidfTransformer(use_idf=False).fit(X_test_counts)\n",
    "X_test_tf = tf_transformer.transform(X_test_counts)\n",
    "\n",
    "#classifer training\n",
    "from sklearn.naive_bayes import MultinomialNB\n",
    "clf = MultinomialNB().fit(X_train_tf, y_train_NB)\n",
    "#prediction for test data\n",
    "predicted = clf.predict(X_test_tf)\n",
    "\n",
    "import numpy as np\n",
    "np.mean(predicted == y_test_NB)"
   ]
  },
  {
   "cell_type": "code",
   "execution_count": 17,
   "metadata": {
    "collapsed": false
   },
   "outputs": [
    {
     "name": "stdout",
     "output_type": "stream",
     "text": [
      "Accuracy Score: 0.769574944072\n",
      "Precision Score:  0.769574944072\n",
      "Recall Score:  0.769574944072\n",
      "F1 Score:  0.769574944072\n"
     ]
    }
   ],
   "source": [
    "from sklearn.metrics import *\n",
    "print(\"Accuracy Score:\", (accuracy_score(y_test_NB,predicted )))\n",
    "print(\"Precision Score: \", (precision_score(y_test_NB,predicted,average='micro' )))\n",
    "print(\"Recall Score: \", (recall_score(y_test_NB,predicted,average='micro' )))\n",
    "print(\"F1 Score: \", (f1_score(y_test_NB,predicted,average='micro' )))\n",
    "#print(\"AUC Score: \", (roc_auc_score(y_test_NB,predicted,average=None )))"
   ]
  },
  {
   "cell_type": "code",
   "execution_count": 18,
   "metadata": {
    "collapsed": false
   },
   "outputs": [
    {
     "data": {
      "text/plain": [
       "0.77027027027027017"
      ]
     },
     "execution_count": 18,
     "metadata": {},
     "output_type": "execute_result"
    }
   ],
   "source": [
    "from sklearn import metrics\n",
    "from sklearn.metrics import *\n",
    "fpr, tpr, thresholds = metrics.roc_curve(y_test_NB, predicted,pos_label=1)\n",
    "metrics.auc(fpr, tpr)"
   ]
  },
  {
   "cell_type": "code",
   "execution_count": 19,
   "metadata": {
    "collapsed": false
   },
   "outputs": [
    {
     "data": {
      "text/plain": [
       "[<matplotlib.lines.Line2D at 0x10f59c470>]"
      ]
     },
     "execution_count": 19,
     "metadata": {},
     "output_type": "execute_result"
    },
    {
     "data": {
      "image/png": "[encoded data removed]",
      "text/plain": [
       "<matplotlib.figure.Figure at 0x10f7bf748>"
      ]
     },
     "metadata": {},
     "output_type": "display_data"
    }
   ],
   "source": [
    "fpr, tpr, thresholds = metrics.roc_curve(y_test_NB, predicted,pos_label=1)\n",
    "metrics.auc(fpr,tpr)\n",
    "#x = np.array(fpr)\n",
    "#y = np.array(tpr)\n",
    "plt.xlabel('FPR',fontsize=15)\n",
    "plt.ylabel('TPR',fontsize=15)\n",
    "plt.plot(fpr,tpr)"
   ]
  },
  {
   "cell_type": "code",
   "execution_count": 20,
   "metadata": {
    "collapsed": false
   },
   "outputs": [
    {
     "data": {
      "text/plain": [
       "[<matplotlib.lines.Line2D at 0x10f544780>]"
      ]
     },
     "execution_count": 20,
     "metadata": {},
     "output_type": "execute_result"
    },
    {
     "data": {
      "image/png": "[encoded data removed]",
      "text/plain": [
       "<matplotlib.figure.Figure at 0x10f7bddd8>"
      ]
     },
     "metadata": {},
     "output_type": "display_data"
    }
   ],
   "source": [
    "fpr, tpr, thresholds = metrics.roc_curve(y_test_NB, predicted,pos_label=1)\n",
    "metrics.auc(fpr,tpr)\n",
    "plt.ylabel('FPR',fontsize=15)\n",
    "plt.xlabel('TPR',fontsize=15)\n",
    "plt.plot(tpr,fpr)"
   ]
  },
  {
   "cell_type": "code",
   "execution_count": 21,
   "metadata": {
    "collapsed": false
   },
   "outputs": [
    {
     "name": "stdout",
     "output_type": "stream",
     "text": [
      "Precision Score:  0.782350851884\n"
     ]
    }
   ],
   "source": [
    "print(\"Precision Score: \", (precision_score(y_test_NB,predicted,average='weighted' )))"
   ]
  },
  {
   "cell_type": "code",
   "execution_count": 22,
   "metadata": {
    "collapsed": false
   },
   "outputs": [],
   "source": [
    "preds_lr_nb = clf.predict_proba(X_test_tf)[:, 1]"
   ]
  },
  {
   "cell_type": "code",
   "execution_count": 28,
   "metadata": {
    "collapsed": false
   },
   "outputs": [
    {
     "data": {
      "text/plain": [
       "0.84558558558558561"
      ]
     },
     "execution_count": 28,
     "metadata": {},
     "output_type": "execute_result"
    },
    {
     "data": {
      "image/png": "[encoded data removed]",
      "text/plain": [
       "<matplotlib.figure.Figure at 0x10f7c5438>"
      ]
     },
     "metadata": {},
     "output_type": "display_data"
    }
   ],
   "source": [
    "plotUnivariateROC(preds_lr_nb, y_test_NB, 'Naive Bayes')"
   ]
  },
  {
   "cell_type": "markdown",
   "metadata": {},
   "source": [
    "# Traning Models - Decision Tree\n",
    "By John Martinez\n"
   ]
  },
  {
   "cell_type": "markdown",
   "metadata": {},
   "source": []
  },
  {
   "cell_type": "code",
   "execution_count": 24,
   "metadata": {
    "collapsed": false
   },
   "outputs": [
    {
     "name": "stdout",
     "output_type": "stream",
     "text": [
      "Traning Average accuracy: 0.8734436691\n",
      "Traning Average Precision: 0.867211057481\n",
      "Accuracy on test set:  0.878923766816\n"
     ]
    },
    {
     "data": {
      "text/plain": [
       "{'age': 0.4468709679347373,\n",
       " 'bot_in_des': 0.014305972951914638,\n",
       " 'bot_is_substr': 0.0058342823673171815,\n",
       " 'favourites_count': 0.10629451338052739,\n",
       " 'followers_count': 0.063193510313412513,\n",
       " 'friends_count': 0.16690736800772168,\n",
       " 'listedcount': 0.038951421397701497,\n",
       " 'screen_name_len': 0.02864615922580253,\n",
       " 'statuses_count': 0.12899580442086517}"
      ]
     },
     "execution_count": 24,
     "metadata": {},
     "output_type": "execute_result"
    },
    {
     "data": {
      "image/png": "[encoded data removed]",
      "text/plain": [
       "<matplotlib.figure.Figure at 0x10d9cfa20>"
      ]
     },
     "metadata": {},
     "output_type": "display_data"
    }
   ],
   "source": [
    "dt = DecisionTreeClassifier(criterion='entropy')\n",
    "\n",
    "# treeNames are only the numerical and binary features with importance > 0 \n",
    "treeNames=['age','screen_name_len', 'bot_is_substr','bot_in_des','followers_count','friends_count','listedcount', 'favourites_count','statuses_count']\n",
    "\n",
    "# Getting the training sets and fitting the tree\n",
    "df_train = train_df[treeNames+['bot']]\n",
    "x_train = train_df[treeNames]\n",
    "y_train = train_df.bot.astype(bool)\n",
    "dt.fit(x_train, y_train)\n",
    "\n",
    "# Evaluating the tree with cross-val\n",
    "accuracy = cross_val_score(dt, x_train, y_train, cv=5, scoring = \"accuracy\")\n",
    "precision = cross_val_score(dt, x_train, y_train, cv=5, scoring = \"precision\")\n",
    "\n",
    "# Graphing the feature importance \n",
    "import matplotlib.pyplot as plt\n",
    "%matplotlib inline\n",
    "\n",
    "feature_mi_dict = dict(zip(df_train.columns.values,dt.feature_importances_))\n",
    "feature_mi_dict\n",
    "feature_importance_X = feature_mi_dict.keys()\n",
    "feature_importance_Y = feature_mi_dict.values()\n",
    "plt.rcParams['figure.figsize'] = (16, 5)\n",
    "plt.bar(range(len(feature_mi_dict)), feature_mi_dict.values(), align='center')\n",
    "plt.xticks(range(len(feature_mi_dict)), feature_mi_dict.keys())\n",
    "plt.xlabel('Features')\n",
    "plt.ylabel('Feature Importance')\n",
    "plt.grid(True)\n",
    "\n",
    "# Printing the evaluations \n",
    "print(\"Traning Average accuracy:\",accuracy.mean())\n",
    "print(\"Traning Average Precision:\",precision.mean())\n",
    "\n",
    "\n",
    "predicts = dt.predict(X_test[treeNames])\n",
    "\n",
    "Test_accuracy = metrics.accuracy_score(test_df['bot'], predicts)\n",
    "\n",
    "print('Accuracy on test set: ',Test_accuracy )\n",
    "\n",
    "\n",
    "\n",
    "\n",
    "\n",
    "feature_mi = dt.feature_importances_\n",
    "\n",
    "feature_mi\n",
    "\n",
    "feature_mi_dict = dict(zip(x_train.columns.values,feature_mi))\n",
    "\n",
    "feature_mi_dict"
   ]
  },
  {
   "cell_type": "markdown",
   "metadata": {
    "collapsed": true
   },
   "source": [
    "## Use entropy of decision tree to evlauate the importance of features"
   ]
  },
  {
   "cell_type": "markdown",
   "metadata": {
    "collapsed": false
   },
   "source": [
    "\n",
    "\n",
    "\n",
    "\n"
   ]
  },
  {
   "cell_type": "code",
   "execution_count": 26,
   "metadata": {
    "collapsed": false
   },
   "outputs": [
    {
     "data": {
      "text/plain": [
       "<matplotlib.legend.Legend at 0x113a230b8>"
      ]
     },
     "execution_count": 26,
     "metadata": {},
     "output_type": "execute_result"
    },
    {
     "data": {
      "image/png": "[encoded data removed]",
      "text/plain": [
       "<matplotlib.figure.Figure at 0x113b9f128>"
      ]
     },
     "metadata": {},
     "output_type": "display_data"
    }
   ],
   "source": [
    "fig = plt.figure(figsize = (12, 6))\n",
    "ax = plt.subplot(111)\n",
    "\n",
    "\n",
    "train_df_modf = train_df[treeNames]\n",
    "\n",
    "\n",
    "feature_auc_dict = {}\n",
    "for col in train_df_modf.columns:\n",
    "    feature_auc_dict[col] = plotUnivariateROC(train_df_modf[col], Y_train, col)\n",
    "\n",
    "\n",
    "box = ax.get_position()\n",
    "ax.set_position([box.x0, box.y0 + box.height * 0.0 , box.width, box.height * 1])\n",
    "ax.legend(loc = 'upper center', bbox_to_anchor = (0.5, -0.15), fancybox = True, \n",
    "              shadow = True, ncol = 4, prop = {'size':10})"
   ]
  },
  {
   "cell_type": "code",
   "execution_count": 29,
   "metadata": {
    "collapsed": false
   },
   "outputs": [
    {
     "name": "stdout",
     "output_type": "stream",
     "text": [
      "Maximum Test Accuracy: 0.863228699552 \n",
      "Minimum Test Accuracy: 0.863228699552\n",
      "Average Test Accuracy: 0.863228699552\n"
     ]
    }
   ],
   "source": [
    "# Splitting the set 80-20 with train_test_split from sklearn metrics\n",
    "#bot = df['bot']\n",
    "#X_train, X_test, Y_train, Y_test = train_test_split(df[treeNames].ix[:,0:13], bot, test_size=0.2, random_state=42)\n",
    "\n",
    "\n",
    "min_samples_split_values = list(range(20,70,5))\n",
    "min_samples_leaf_values = list(range(20,30,1))\n",
    "\n",
    "test_set_accuracy = []\n",
    "\n",
    "for i in range(10):\n",
    "    \n",
    "    min_samples_split_value = min_samples_split_values[i]\n",
    "    for j in range(10):\n",
    "        min_samples_leaf_value = min_samples_leaf_values[j]    \n",
    "        \n",
    "        # Fitting and evaluating a tree\n",
    "        splitDt = DecisionTreeClassifier(criterion='entropy',max_depth = 5, min_samples_split = min_samples_split_value,  min_samples_leaf = min_samples_leaf_value)\n",
    "        splitDt.fit(X_train[treeNames], Y_train)\n",
    "        predict = splitDt.predict(X_test[treeNames])\n",
    "        accuracy = metrics.accuracy_score(predict, Y_test)\n",
    "    \n",
    "        test_set_accuracy.append(accuracy)\n",
    "\n",
    "        \n",
    "        \n",
    "print(\"Maximum Test Accuracy:\", max(test_set_accuracy),\"\\nMinimum Test Accuracy:\", min(test_set_accuracy))\n",
    "print(\"Average Test Accuracy:\",sum(test_set_accuracy)/len(test_set_accuracy))"
   ]
  },
  {
   "cell_type": "code",
   "execution_count": 30,
   "metadata": {
    "collapsed": false
   },
   "outputs": [
    {
     "name": "stdout",
     "output_type": "stream",
     "text": [
      "Cross-validation:\n",
      "Using decision tree for precision score: [ 0.8         0.9047619   0.90243902  0.76595745  0.86486486]\n",
      "Take the average of decision tree precision score: 0.847604648165\n",
      "\n",
      "Using decision tree for recall score: [ 0.86363636  0.88636364  0.81818182  0.84090909  0.74418605]\n",
      "Take the average of recall score: 0.830655391121\n",
      "\n",
      "Using decision tree for F1 score: [ 0.85106383  0.88636364  0.84705882  0.8         0.8       ]\n",
      "Take the average of decision tree F1 score: 0.836897257936\n",
      "\n",
      "Using decision tree for AUC score: [ 0.84634387  0.89970356  0.90959596  0.78686869  0.80542636]\n",
      "Take the average of decision tree AUC score: 0.849587686777\n",
      "\n",
      "\n"
     ]
    }
   ],
   "source": [
    "#Cross Validation Scores:\n",
    "\n",
    "\n",
    "precision = cross_val_score(dt, X_test[treeNames], Y_test, cv=5, scoring = 'precision')\n",
    "avg_precision = sum(precision) / 5\n",
    "\n",
    "\n",
    "recall = cross_val_score(dt, X_test[treeNames], Y_test, cv=5, scoring = 'recall')\n",
    "avg_recall = sum(recall) / 5\n",
    "\n",
    "\n",
    "F1 = cross_val_score(dt, X_test[treeNames], Y_test, cv=5, scoring = 'f1')\n",
    "avg_F1 = sum(F1) / 5\n",
    "\n",
    "AUC = cross_val_score(dt, X_test[treeNames], Y_test, cv=5, scoring = 'roc_auc')\n",
    "avg_AUC = sum(AUC) / 5\n",
    "\n",
    "\n",
    "\n",
    "print('Cross-validation:')\n",
    "\n",
    "\n",
    "print('Using decision tree for precision score:', precision)\n",
    "print('Take the average of decision tree precision score:', avg_precision )\n",
    "print('' )\n",
    "\n",
    "print('Using decision tree for recall score:', recall )\n",
    "print('Take the average of recall score:', avg_recall )\n",
    "print('' )\n",
    "\n",
    "\n",
    "\n",
    "print('Using decision tree for F1 score:', F1 )\n",
    "print('Take the average of decision tree F1 score:', avg_F1 )\n",
    "print('' )\n",
    "\n",
    "\n",
    "\n",
    "print('Using decision tree for AUC score:', AUC )\n",
    "print('Take the average of decision tree AUC score:', avg_AUC )\n",
    "print('' )\n",
    "print('' )\n",
    "\n"
   ]
  },
  {
   "cell_type": "code",
   "execution_count": 31,
   "metadata": {
    "collapsed": true
   },
   "outputs": [],
   "source": [
    "preds_dt=dt.predict_proba(X_test[treeNames])[:,1]"
   ]
  },
  {
   "cell_type": "code",
   "execution_count": 32,
   "metadata": {
    "collapsed": false
   },
   "outputs": [
    {
     "data": {
      "text/plain": [
       "0.87864341319172046"
      ]
     },
     "execution_count": 32,
     "metadata": {},
     "output_type": "execute_result"
    },
    {
     "data": {
      "image/png": "[encoded data removed]",
      "text/plain": [
       "<matplotlib.figure.Figure at 0x113b8d748>"
      ]
     },
     "metadata": {},
     "output_type": "display_data"
    }
   ],
   "source": [
    "plotUnivariateROC(preds_dt, Y_test, 'Decision Tree')"
   ]
  },
  {
   "cell_type": "markdown",
   "metadata": {
    "collapsed": true
   },
   "source": [
    "# Traning Models - Logistic Regression\n",
    "By Zhongheng Li\n",
    "\n",
    "Since our problem is a clasification problem, logistic regression is the more suiltable model that we can use for our predition. \n",
    "\n",
    "\n"
   ]
  },
  {
   "cell_type": "code",
   "execution_count": 33,
   "metadata": {
    "collapsed": true
   },
   "outputs": [],
   "source": [
    "X_train = train_df.drop('bot', 1)\n",
    "Y_train = train_df['bot']\n",
    "\n",
    "\n",
    "X_test = test_df.drop('bot', 1)\n",
    "Y_test = test_df['bot']"
   ]
  },
  {
   "cell_type": "code",
   "execution_count": 34,
   "metadata": {
    "collapsed": false
   },
   "outputs": [],
   "source": [
    "#Flatten the target variable on both traning and test set for logistic regression\n",
    "Y_train_LR = np.ravel(Y_train)\n",
    "Y_test_LR =  np.ravel(Y_test)"
   ]
  },
  {
   "cell_type": "code",
   "execution_count": 35,
   "metadata": {
    "collapsed": false
   },
   "outputs": [
    {
     "data": {
      "text/plain": [
       "['age',\n",
       " 'followers_count',\n",
       " 'friends_count',\n",
       " 'listedcount',\n",
       " 'verified',\n",
       " 'favourites_count',\n",
       " 'statuses_count',\n",
       " 'default_profile',\n",
       " 'default_profile_image',\n",
       " 'screen_name_len',\n",
       " 'bot_is_substr',\n",
       " 'bot_in_des']"
      ]
     },
     "execution_count": 35,
     "metadata": {},
     "output_type": "execute_result"
    }
   ],
   "source": [
    "#Select the features\n",
    "\n",
    "# features are only the numerical and binary features \n",
    "features=['age','followers_count','friends_count','listedcount', 'verified', 'favourites_count','statuses_count','default_profile','default_profile_image','screen_name_len','bot_is_substr','bot_in_des']\n",
    "\n",
    "features"
   ]
  },
  {
   "cell_type": "code",
   "execution_count": 36,
   "metadata": {
    "collapsed": false
   },
   "outputs": [
    {
     "name": "stdout",
     "output_type": "stream",
     "text": [
      "Initial Traning Accuracy: 0.728443449048\n",
      "Initial Test Accuracy: 0.715246636771\n"
     ]
    }
   ],
   "source": [
    "# To train our model with above features\n",
    "model = LogisticRegression()\n",
    "model = model.fit(X_train[features], Y_train_LR)\n",
    "\n",
    "# check the accuracy on the training set with the test set data\n",
    "print('Initial Traning Accuracy:',model.score(X_train[features], Y_train_LR))\n",
    "print('Initial Test Accuracy:',model.score(X_test[features], Y_test_LR))"
   ]
  },
  {
   "cell_type": "code",
   "execution_count": 37,
   "metadata": {
    "collapsed": false
   },
   "outputs": [
    {
     "data": {
      "text/html": [
       "<div>\n",
       "<table border=\"1\" class=\"dataframe\">\n",
       "  <thead>\n",
       "    <tr style=\"text-align: right;\">\n",
       "      <th></th>\n",
       "      <th>0</th>\n",
       "      <th>1</th>\n",
       "    </tr>\n",
       "  </thead>\n",
       "  <tbody>\n",
       "    <tr>\n",
       "      <th>0</th>\n",
       "      <td>age</td>\n",
       "      <td>[-1.59006385563e-05]</td>\n",
       "    </tr>\n",
       "    <tr>\n",
       "      <th>1</th>\n",
       "      <td>followers_count</td>\n",
       "      <td>[-3.16353583699e-07]</td>\n",
       "    </tr>\n",
       "    <tr>\n",
       "      <th>2</th>\n",
       "      <td>friends_count</td>\n",
       "      <td>[5.4674462297e-06]</td>\n",
       "    </tr>\n",
       "    <tr>\n",
       "      <th>3</th>\n",
       "      <td>listedcount</td>\n",
       "      <td>[-0.000738369175045]</td>\n",
       "    </tr>\n",
       "    <tr>\n",
       "      <th>4</th>\n",
       "      <td>verified</td>\n",
       "      <td>[1.3459534693e-06]</td>\n",
       "    </tr>\n",
       "    <tr>\n",
       "      <th>5</th>\n",
       "      <td>favourites_count</td>\n",
       "      <td>[-0.000118496786759]</td>\n",
       "    </tr>\n",
       "    <tr>\n",
       "      <th>6</th>\n",
       "      <td>statuses_count</td>\n",
       "      <td>[1.96389117413e-05]</td>\n",
       "    </tr>\n",
       "    <tr>\n",
       "      <th>7</th>\n",
       "      <td>default_profile</td>\n",
       "      <td>[1.3459534693e-06]</td>\n",
       "    </tr>\n",
       "    <tr>\n",
       "      <th>8</th>\n",
       "      <td>default_profile_image</td>\n",
       "      <td>[1.3459534693e-06]</td>\n",
       "    </tr>\n",
       "    <tr>\n",
       "      <th>9</th>\n",
       "      <td>screen_name_len</td>\n",
       "      <td>[2.037412102e-05]</td>\n",
       "    </tr>\n",
       "    <tr>\n",
       "      <th>10</th>\n",
       "      <td>bot_is_substr</td>\n",
       "      <td>[1.01260140759e-06]</td>\n",
       "    </tr>\n",
       "    <tr>\n",
       "      <th>11</th>\n",
       "      <td>bot_in_des</td>\n",
       "      <td>[1.7541443546e-06]</td>\n",
       "    </tr>\n",
       "  </tbody>\n",
       "</table>\n",
       "</div>"
      ],
      "text/plain": [
       "                        0                     1\n",
       "0                     age  [-1.59006385563e-05]\n",
       "1         followers_count  [-3.16353583699e-07]\n",
       "2           friends_count    [5.4674462297e-06]\n",
       "3             listedcount  [-0.000738369175045]\n",
       "4                verified    [1.3459534693e-06]\n",
       "5        favourites_count  [-0.000118496786759]\n",
       "6          statuses_count   [1.96389117413e-05]\n",
       "7         default_profile    [1.3459534693e-06]\n",
       "8   default_profile_image    [1.3459534693e-06]\n",
       "9         screen_name_len     [2.037412102e-05]\n",
       "10          bot_is_substr   [1.01260140759e-06]\n",
       "11             bot_in_des    [1.7541443546e-06]"
      ]
     },
     "execution_count": 37,
     "metadata": {},
     "output_type": "execute_result"
    }
   ],
   "source": [
    "#Examine the coefficients to evaluate the weights for each features above\n",
    "pd.DataFrame(list(zip(X_train[features].columns, np.transpose(model.coef_))))\n",
    "\n",
    "\n"
   ]
  },
  {
   "cell_type": "code",
   "execution_count": 38,
   "metadata": {
    "collapsed": false
   },
   "outputs": [
    {
     "name": "stdout",
     "output_type": "stream",
     "text": [
      "Updated Traning Accuracy: 0.755879059351\n",
      "Updated Test Accuracy: 0.739910313901\n"
     ]
    }
   ],
   "source": [
    "#Reduce features that has negative coefficients and high frustration. And than manually compute the accuracies by remove the remaining features one at a time to compute the highest accuracy\n",
    "#Eventually, we picked 'followers_count','friends_count','favourites_count','statuses_count'\n",
    "features=['followers_count','friends_count','favourites_count','statuses_count']\n",
    "\n",
    "\n",
    "#Train the model again with new updated features\n",
    "model = LogisticRegression()\n",
    "model = model.fit(X_train[features], Y_train_LR)\n",
    "\n",
    "# check the accuracy on the training set with the test set data\n",
    "print('Updated Traning Accuracy:',model.score(X_train[features], Y_train_LR))\n",
    "print('Updated Test Accuracy:',model.score(X_test[features], Y_test_LR))"
   ]
  },
  {
   "cell_type": "code",
   "execution_count": 39,
   "metadata": {
    "collapsed": false
   },
   "outputs": [
    {
     "data": {
      "text/html": [
       "<div>\n",
       "<table border=\"1\" class=\"dataframe\">\n",
       "  <thead>\n",
       "    <tr style=\"text-align: right;\">\n",
       "      <th></th>\n",
       "      <th>0</th>\n",
       "      <th>1</th>\n",
       "    </tr>\n",
       "  </thead>\n",
       "  <tbody>\n",
       "    <tr>\n",
       "      <th>0</th>\n",
       "      <td>followers_count</td>\n",
       "      <td>[-3.15791507291e-06]</td>\n",
       "    </tr>\n",
       "    <tr>\n",
       "      <th>1</th>\n",
       "      <td>friends_count</td>\n",
       "      <td>[3.69174272145e-06]</td>\n",
       "    </tr>\n",
       "    <tr>\n",
       "      <th>2</th>\n",
       "      <td>favourites_count</td>\n",
       "      <td>[-0.000140416826862]</td>\n",
       "    </tr>\n",
       "    <tr>\n",
       "      <th>3</th>\n",
       "      <td>statuses_count</td>\n",
       "      <td>[1.52027261533e-05]</td>\n",
       "    </tr>\n",
       "  </tbody>\n",
       "</table>\n",
       "</div>"
      ],
      "text/plain": [
       "                  0                     1\n",
       "0   followers_count  [-3.15791507291e-06]\n",
       "1     friends_count   [3.69174272145e-06]\n",
       "2  favourites_count  [-0.000140416826862]\n",
       "3    statuses_count   [1.52027261533e-05]"
      ]
     },
     "execution_count": 39,
     "metadata": {},
     "output_type": "execute_result"
    }
   ],
   "source": [
    "#Exmine the coefficients again to evaluate the weights for each features above\n",
    "pd.DataFrame(list(zip(X_train[features].columns, np.transpose(model.coef_))))\n",
    "\n",
    "\n"
   ]
  },
  {
   "cell_type": "markdown",
   "metadata": {
    "collapsed": true
   },
   "source": [
    "# Logistic Regression Model with Visulization\n",
    "Since friends_count contains the highest coefficients from our latest evaluation, we will visulize it's correlation with our target variable 'bot'."
   ]
  },
  {
   "cell_type": "code",
   "execution_count": 40,
   "metadata": {
    "collapsed": false
   },
   "outputs": [
    {
     "data": {
      "text/plain": [
       "LogisticRegression(C=1.0, class_weight=None, dual=False, fit_intercept=True,\n",
       "          intercept_scaling=1, max_iter=100, multi_class='ovr', n_jobs=1,\n",
       "          penalty='l2', random_state=None, solver='liblinear', tol=0.0001,\n",
       "          verbose=0, warm_start=False)"
      ]
     },
     "execution_count": 40,
     "metadata": {},
     "output_type": "execute_result"
    }
   ],
   "source": [
    "model"
   ]
  },
  {
   "cell_type": "code",
   "execution_count": 41,
   "metadata": {
    "collapsed": false
   },
   "outputs": [
    {
     "data": {
      "text/plain": [
       "<matplotlib.text.Text at 0x1140527f0>"
      ]
     },
     "execution_count": 41,
     "metadata": {},
     "output_type": "execute_result"
    },
    {
     "data": {
      "image/png": "[encoded data removed]",
      "text/plain": [
       "<matplotlib.figure.Figure at 0x1140a3198>"
      ]
     },
     "metadata": {},
     "output_type": "display_data"
    }
   ],
   "source": [
    "plt.scatter(df.friends_count, df.bot)\n",
    "plt.xlabel('friends_count')\n",
    "plt.ylabel('Bots')"
   ]
  },
  {
   "cell_type": "markdown",
   "metadata": {},
   "source": [
    "When we plot the friends_count and bot into our graph, we clearly can see that real human user can have more friends_count than bots."
   ]
  },
  {
   "cell_type": "code",
   "execution_count": 42,
   "metadata": {
    "collapsed": false
   },
   "outputs": [
    {
     "data": {
      "text/plain": [
       "LogisticRegression(C=1000000000.0, class_weight=None, dual=False,\n",
       "          fit_intercept=True, intercept_scaling=1, max_iter=100,\n",
       "          multi_class='ovr', n_jobs=1, penalty='l2', random_state=None,\n",
       "          solver='liblinear', tol=0.0001, verbose=0, warm_start=False)"
      ]
     },
     "execution_count": 42,
     "metadata": {},
     "output_type": "execute_result"
    }
   ],
   "source": [
    "logreg = LogisticRegression(C=1e9)\n",
    "feature_cols = ['friends_count']\n",
    "X_LR2 = df[feature_cols]\n",
    "y_LR2 = df.bot\n",
    "logreg.fit(X_LR2, y_LR2)\n",
    "\n"
   ]
  },
  {
   "cell_type": "code",
   "execution_count": 43,
   "metadata": {
    "collapsed": true
   },
   "outputs": [],
   "source": [
    "df['Bot_prob'] = logreg.predict_proba(X_LR2)[:, 1]"
   ]
  },
  {
   "cell_type": "code",
   "execution_count": 44,
   "metadata": {
    "collapsed": false
   },
   "outputs": [
    {
     "data": {
      "text/plain": [
       "<matplotlib.text.Text at 0x113c4ea20>"
      ]
     },
     "execution_count": 44,
     "metadata": {},
     "output_type": "execute_result"
    },
    {
     "data": {
      "image/png": "[encoded data removed]",
      "text/plain": [
       "<matplotlib.figure.Figure at 0x11407cb70>"
      ]
     },
     "metadata": {},
     "output_type": "display_data"
    }
   ],
   "source": [
    "# plot the predicted probabilities\n",
    "plt.scatter(df.friends_count, df.bot)\n",
    "plt.plot(df.friends_count, df.bot, color='red')\n",
    "plt.xlabel('friends_count')\n",
    "plt.ylabel('Bots')\n",
    "plt.title('Correlation between friends count and bot classification' )"
   ]
  },
  {
   "cell_type": "markdown",
   "metadata": {},
   "source": [
    "## Logistic Regression Model Evaluation Using a Validation Set"
   ]
  },
  {
   "cell_type": "code",
   "execution_count": 45,
   "metadata": {
    "collapsed": false
   },
   "outputs": [],
   "source": [
    "X_LR = df.drop('bot', 1)\n",
    "Y_LR = df['bot']"
   ]
  },
  {
   "cell_type": "code",
   "execution_count": 46,
   "metadata": {
    "collapsed": false
   },
   "outputs": [
    {
     "data": {
      "text/plain": [
       "LogisticRegression(C=1.0, class_weight=None, dual=False, fit_intercept=True,\n",
       "          intercept_scaling=1, max_iter=100, multi_class='ovr', n_jobs=1,\n",
       "          penalty='l2', random_state=None, solver='liblinear', tol=0.0001,\n",
       "          verbose=0, warm_start=False)"
      ]
     },
     "execution_count": 46,
     "metadata": {},
     "output_type": "execute_result"
    }
   ],
   "source": [
    "X_train_LR, X_test_LR, y_train_LR, y_test_LR = train_test_split(X_LR, Y_LR, test_size=0.2, random_state=0)\n",
    "model2 = LogisticRegression()\n",
    "model2.fit(X_train_LR[features], y_train_LR)"
   ]
  },
  {
   "cell_type": "code",
   "execution_count": 47,
   "metadata": {
    "collapsed": false
   },
   "outputs": [],
   "source": [
    "#Get the predicted value with test set\n",
    "predicted = model2.predict(X_test_LR[features])\n",
    "\n",
    "# generate class probabilities\n",
    "probs = model2.predict_proba(X_test_LR[features])"
   ]
  },
  {
   "cell_type": "code",
   "execution_count": 48,
   "metadata": {
    "collapsed": false
   },
   "outputs": [
    {
     "name": "stdout",
     "output_type": "stream",
     "text": [
      "Accuracy Score: 0.742729306488\n",
      "ROC AUC Score: 0.865325325325\n"
     ]
    }
   ],
   "source": [
    "print ('Accuracy Score:',metrics.accuracy_score(y_test_LR, predicted))\n",
    "print ('ROC AUC Score:', metrics.roc_auc_score(y_test_LR, probs[:, 1]))"
   ]
  },
  {
   "cell_type": "code",
   "execution_count": 49,
   "metadata": {
    "collapsed": false
   },
   "outputs": [
    {
     "name": "stdout",
     "output_type": "stream",
     "text": [
      "Classifictiaon Report:\n",
      "             precision    recall  f1-score   support\n",
      "\n",
      "          0       0.74      0.75      0.74       222\n",
      "          1       0.75      0.73      0.74       225\n",
      "\n",
      "avg / total       0.74      0.74      0.74       447\n",
      "\n"
     ]
    }
   ],
   "source": [
    "print ('Classifictiaon Report:')\n",
    "print ( metrics.classification_report(y_test_LR, predicted))"
   ]
  },
  {
   "cell_type": "code",
   "execution_count": 50,
   "metadata": {
    "collapsed": true
   },
   "outputs": [],
   "source": [
    "preds_lr=model.predict_proba(X_test[features])[:,1]"
   ]
  },
  {
   "cell_type": "code",
   "execution_count": 51,
   "metadata": {
    "collapsed": false
   },
   "outputs": [
    {
     "data": {
      "text/plain": [
       "0.84792710156297135"
      ]
     },
     "execution_count": 51,
     "metadata": {},
     "output_type": "execute_result"
    },
    {
     "data": {
      "image/png": "[encoded data removed]",
      "text/plain": [
       "<matplotlib.figure.Figure at 0x113c00c50>"
      ]
     },
     "metadata": {},
     "output_type": "display_data"
    }
   ],
   "source": [
    "plotUnivariateROC(preds_lr, Y_test_LR, 'Logistic Regression')"
   ]
  },
  {
   "cell_type": "code",
   "execution_count": null,
   "metadata": {
    "collapsed": false
   },
   "outputs": [],
   "source": []
  },
  {
   "cell_type": "markdown",
   "metadata": {},
   "source": [
    "## Logistic Regression Model Evaluation Using Cross-Validation\n"
   ]
  },
  {
   "cell_type": "code",
   "execution_count": 52,
   "metadata": {
    "collapsed": false
   },
   "outputs": [
    {
     "name": "stdout",
     "output_type": "stream",
     "text": [
      "Accuracy:  0.747627091377\n",
      "Precision:  0.716093277091\n",
      "Recall:  0.77358490566\n",
      "F1:  0.743140539575\n",
      "ROC_AUC:  0.839856021166\n"
     ]
    }
   ],
   "source": [
    "#Cross validation with 10 folds\n",
    "accuracy = cross_val_score(LogisticRegression(), X_LR[features], Y_LR, scoring='accuracy', cv=10)\n",
    "\n",
    "print ('Accuracy: ',accuracy.mean())\n",
    "\n",
    "precision = cross_val_score(LogisticRegression(), X_LR[features], Y_LR, scoring='precision', cv=10)\n",
    "\n",
    "print ('Precision: ',precision.mean())\n",
    "\n",
    "recall = cross_val_score(LogisticRegression(), X_LR[features], Y_LR, scoring='recall', cv=10)\n",
    "\n",
    "print ('Recall: ',recall.mean())\n",
    "\n",
    "\n",
    "F1 = cross_val_score(LogisticRegression(), X_LR[features], Y_LR, scoring='f1', cv=10)\n",
    "\n",
    "print ('F1: ',F1.mean())\n",
    "\n",
    "\n",
    "ROC_AUC = cross_val_score(LogisticRegression(), X_LR[features], Y_LR, scoring='roc_auc', cv=10)\n",
    "\n",
    "print ('ROC_AUC: ',ROC_AUC.mean())"
   ]
  },
  {
   "cell_type": "markdown",
   "metadata": {},
   "source": [
    "# Traning Models - Neural network\n",
    "by Zhongheng Li (Heng)"
   ]
  },
  {
   "cell_type": "code",
   "execution_count": 53,
   "metadata": {
    "collapsed": true
   },
   "outputs": [],
   "source": [
    "from sklearn.neural_network import MLPClassifier"
   ]
  },
  {
   "cell_type": "code",
   "execution_count": 54,
   "metadata": {
    "collapsed": false
   },
   "outputs": [],
   "source": [
    "X_train_NN = train_df.drop('bot', 1)\n",
    "Y_train_NN = train_df['bot']\n",
    "\n",
    "\n",
    "X_test_NN = test_df.drop('bot', 1)\n",
    "Y_test_NN = test_df['bot']"
   ]
  },
  {
   "cell_type": "code",
   "execution_count": 55,
   "metadata": {
    "collapsed": false
   },
   "outputs": [
    {
     "data": {
      "text/plain": [
       "['age',\n",
       " 'followers_count',\n",
       " 'friends_count',\n",
       " 'listedcount',\n",
       " 'verified',\n",
       " 'favourites_count',\n",
       " 'statuses_count',\n",
       " 'default_profile',\n",
       " 'default_profile_image',\n",
       " 'screen_name_len',\n",
       " 'bot_is_substr',\n",
       " 'bot_in_des']"
      ]
     },
     "execution_count": 55,
     "metadata": {},
     "output_type": "execute_result"
    }
   ],
   "source": [
    "# features are only the numerical and binary features \n",
    "features=['age','followers_count','friends_count','listedcount', 'verified', 'favourites_count','statuses_count','default_profile','default_profile_image','screen_name_len','bot_is_substr','bot_in_des']\n",
    "\n",
    "features"
   ]
  },
  {
   "cell_type": "code",
   "execution_count": 56,
   "metadata": {
    "collapsed": false
   },
   "outputs": [],
   "source": [
    "X_train_NN = X_train_NN[features]\n",
    "\n",
    "\n",
    "X_test_NN = X_test_NN[features]"
   ]
  },
  {
   "cell_type": "code",
   "execution_count": 57,
   "metadata": {
    "collapsed": false
   },
   "outputs": [
    {
     "data": {
      "text/plain": [
       "MLPClassifier(activation='relu', alpha=1e-05, batch_size='auto', beta_1=0.9,\n",
       "       beta_2=0.999, early_stopping=False, epsilon=1e-08,\n",
       "       hidden_layer_sizes=(5, 2), learning_rate='constant',\n",
       "       learning_rate_init=0.001, max_iter=200, momentum=0.9,\n",
       "       nesterovs_momentum=True, power_t=0.5, random_state=1, shuffle=True,\n",
       "       solver='lbfgs', tol=0.0001, validation_fraction=0.1, verbose=False,\n",
       "       warm_start=False)"
      ]
     },
     "execution_count": 57,
     "metadata": {},
     "output_type": "execute_result"
    }
   ],
   "source": [
    "\n",
    "clf_NN = MLPClassifier(solver='lbfgs', alpha=1e-5,\n",
    "                    hidden_layer_sizes=(5, 2), random_state=1)\n",
    "\n",
    "clf_NN.fit(X_train_NN, Y_train_NN)      "
   ]
  },
  {
   "cell_type": "code",
   "execution_count": 58,
   "metadata": {
    "collapsed": false
   },
   "outputs": [
    {
     "data": {
      "text/plain": [
       "array([1, 1, 0, 1, 0, 1, 1, 1, 1, 1, 1, 0, 1, 1, 1, 1, 1, 1, 0, 1, 1, 0, 1,\n",
       "       1, 1, 0, 1, 1, 1, 1, 1, 1, 1, 1, 1, 1, 1, 1, 1, 1, 0, 1, 1, 1, 1, 1,\n",
       "       1, 1, 1, 0, 1, 0, 1, 0, 0, 1, 1, 1, 1, 1, 1, 1, 1, 1, 1, 0, 1, 1, 1,\n",
       "       1, 0, 1, 1, 1, 0, 0, 1, 1, 1, 1, 1, 1, 0, 0, 0, 1, 1, 0, 1, 0, 1, 1,\n",
       "       1, 1, 1, 1, 1, 1, 1, 1, 1, 1, 1, 1, 1, 1, 1, 1, 1, 1, 1, 1, 1, 1, 1,\n",
       "       1, 1, 1, 1, 0, 1, 1, 1, 0, 1, 0, 1, 1, 1, 0, 1, 1, 1, 0, 1, 0, 1, 1,\n",
       "       1, 1, 1, 1, 1, 1, 1, 1, 0, 1, 1, 0, 1, 0, 1, 1, 1, 1, 0, 1, 1, 1, 1,\n",
       "       1, 1, 1, 1, 1, 0, 1, 1, 1, 1, 0, 1, 1, 1, 1, 1, 1, 1, 1, 1, 1, 1, 1,\n",
       "       1, 1, 1, 1, 1, 0, 1, 1, 1, 1, 1, 1, 1, 1, 1, 1, 0, 1, 1, 1, 0, 1, 1,\n",
       "       1, 1, 1, 1, 1, 1, 1, 1, 1, 0, 1, 1, 1, 1, 1, 1, 1, 1, 1, 1, 1, 1, 1,\n",
       "       1, 1, 1, 1, 1, 1, 1, 1, 1, 1, 0, 1, 1, 1, 1, 0, 1, 1, 1, 1, 0, 1, 1,\n",
       "       1, 1, 0, 1, 1, 1, 0, 1, 1, 1, 1, 1, 1, 1, 1, 1, 1, 1, 1, 0, 1, 1, 1,\n",
       "       1, 1, 1, 1, 0, 1, 1, 1, 1, 0, 0, 1, 1, 1, 1, 1, 1, 1, 0, 1, 1, 1, 1,\n",
       "       1, 0, 1, 1, 1, 0, 1, 1, 1, 1, 1, 1, 0, 1, 1, 1, 0, 0, 1, 0, 0, 1, 0,\n",
       "       1, 1, 1, 1, 1, 0, 0, 1, 1, 0, 1, 1, 1, 1, 1, 1, 1, 1, 1, 1, 1, 1, 1,\n",
       "       1, 1, 1, 1, 0, 1, 1, 1, 1, 1, 1, 1, 1, 1, 1, 0, 1, 1, 1, 0, 0, 1, 1,\n",
       "       1, 1, 1, 1, 1, 1, 1, 1, 1, 1, 1, 1, 0, 0, 1, 1, 1, 1, 0, 1, 1, 1, 1,\n",
       "       1, 0, 0, 1, 1, 1, 1, 1, 1, 1, 1, 1, 1, 1, 1, 1, 1, 1, 0, 1, 1, 1, 1,\n",
       "       1, 1, 1, 1, 1, 1, 1, 0, 1, 1, 1, 1, 0, 1, 1, 1, 1, 1, 0, 1, 0, 1, 1,\n",
       "       1, 1, 1, 0, 1, 1, 0, 1, 1])"
      ]
     },
     "execution_count": 58,
     "metadata": {},
     "output_type": "execute_result"
    }
   ],
   "source": [
    "predict_NN = clf_NN.predict(X_test_NN)\n",
    "\n",
    "predict_NN"
   ]
  },
  {
   "cell_type": "code",
   "execution_count": 59,
   "metadata": {
    "collapsed": false
   },
   "outputs": [
    {
     "data": {
      "text/plain": [
       "0.56502242152466364"
      ]
     },
     "execution_count": 59,
     "metadata": {},
     "output_type": "execute_result"
    }
   ],
   "source": [
    "NN_accuracy = metrics.accuracy_score(predict_NN, Y_test_NN)\n",
    "NN_accuracy  "
   ]
  },
  {
   "cell_type": "code",
   "execution_count": 60,
   "metadata": {
    "collapsed": false
   },
   "outputs": [
    {
     "data": {
      "text/plain": [
       "[(12, 5), (5, 2), (2, 1)]"
      ]
     },
     "execution_count": 60,
     "metadata": {},
     "output_type": "execute_result"
    }
   ],
   "source": [
    "[coef.shape for coef in clf_NN.coefs_]"
   ]
  },
  {
   "cell_type": "code",
   "execution_count": 61,
   "metadata": {
    "collapsed": true
   },
   "outputs": [],
   "source": [
    "X_NN = df.drop('bot', 1)\n",
    "Y_NN = df['bot']"
   ]
  },
  {
   "cell_type": "code",
   "execution_count": 62,
   "metadata": {
    "collapsed": false
   },
   "outputs": [
    {
     "name": "stdout",
     "output_type": "stream",
     "text": [
      "Accuracy:  0.564044401544\n",
      "Precision:  0.527233379635\n",
      "Recall:  0.912884097035\n",
      "F1:  0.666424477771\n",
      "ROC_AUC:  0.689800247988\n"
     ]
    }
   ],
   "source": [
    "#Cross validation with 10 folds\n",
    "accuracy = cross_val_score(clf_NN, X_NN[features], Y_NN, scoring='accuracy', cv=10)\n",
    "\n",
    "print ('Accuracy: ',accuracy.mean())\n",
    "\n",
    "precision = cross_val_score(clf_NN, X_NN[features], Y_NN, scoring='precision', cv=10)\n",
    "\n",
    "\n",
    "\n",
    "print ('Precision: ',precision.mean())\n",
    "\n",
    "recall = cross_val_score(clf_NN, X_NN[features], Y_NN, scoring='recall', cv=10)\n",
    "\n",
    "print ('Recall: ',recall.mean())\n",
    "\n",
    "\n",
    "F1 = cross_val_score(clf_NN, X_NN[features], Y_NN, scoring='f1', cv=10)\n",
    "\n",
    "print ('F1: ',F1.mean())\n",
    "\n",
    "\n",
    "ROC_AUC = cross_val_score(clf_NN, X_NN[features], Y_NN, scoring='roc_auc', cv=10)\n",
    "\n",
    "print ('ROC_AUC: ',ROC_AUC.mean())"
   ]
  },
  {
   "cell_type": "code",
   "execution_count": 63,
   "metadata": {
    "collapsed": false
   },
   "outputs": [],
   "source": [
    "preds_NN = clf_NN.predict_proba(X_test_NN)[:,1]"
   ]
  },
  {
   "cell_type": "code",
   "execution_count": 64,
   "metadata": {
    "collapsed": false
   },
   "outputs": [
    {
     "data": {
      "text/plain": [
       "0.71486331543057158"
      ]
     },
     "execution_count": 64,
     "metadata": {},
     "output_type": "execute_result"
    },
    {
     "data": {
      "image/png": "[encoded data removed]",
      "text/plain": [
       "<matplotlib.figure.Figure at 0x113aaf978>"
      ]
     },
     "metadata": {},
     "output_type": "display_data"
    }
   ],
   "source": [
    "plotUnivariateROC(preds_NN, Y_test_NN, 'Neural network')"
   ]
  },
  {
   "cell_type": "code",
   "execution_count": null,
   "metadata": {
    "collapsed": true
   },
   "outputs": [],
   "source": []
  },
  {
   "cell_type": "markdown",
   "metadata": {
    "collapsed": true
   },
   "source": [
    "# Traning Models - Random Forest Classifier"
   ]
  },
  {
   "cell_type": "code",
   "execution_count": 65,
   "metadata": {
    "collapsed": true
   },
   "outputs": [],
   "source": [
    "X_train_RF = train_df.drop('bot', 1)\n",
    "Y_train_RF = train_df['bot']\n",
    "\n",
    "\n",
    "X_test_RF = test_df.drop('bot', 1)\n",
    "Y_test_RF = test_df['bot']"
   ]
  },
  {
   "cell_type": "code",
   "execution_count": 66,
   "metadata": {
    "collapsed": true
   },
   "outputs": [],
   "source": [
    "features = ['age','followers_count','friends_count','listedcount','favourites_count','statuses_count','screen_name_len','bot_in_des','bot_is_substr', 'desc_pol','desc_subj']\n",
    "#features = ['age','followers_count','friends_count','favourites_count','statuses_count','bot_in_des']"
   ]
  },
  {
   "cell_type": "code",
   "execution_count": 67,
   "metadata": {
    "collapsed": false
   },
   "outputs": [],
   "source": [
    "X_train_RF_filtered =  X_train_RF[features]\n",
    "\n",
    "X_test_RF_filtered = X_test_RF[features]"
   ]
  },
  {
   "cell_type": "code",
   "execution_count": 71,
   "metadata": {
    "collapsed": false
   },
   "outputs": [
    {
     "data": {
      "text/plain": [
       "0.92152466367713004"
      ]
     },
     "execution_count": 71,
     "metadata": {},
     "output_type": "execute_result"
    }
   ],
   "source": [
    "clf = RandomForestClassifier(n_estimators=200, oob_score=False, criterion = \"entropy\")\n",
    "\n",
    "\n",
    "clf.fit(X_train_RF_filtered, Y_train_RF)\n",
    "predicted = clf.predict(X_test_RF_filtered)\n",
    "from sklearn.metrics import accuracy_score\n",
    "accuracy_score(Y_test_RF,predicted)"
   ]
  },
  {
   "cell_type": "code",
   "execution_count": 72,
   "metadata": {
    "collapsed": false
   },
   "outputs": [
    {
     "data": {
      "text/plain": [
       "0.9327354260089686"
      ]
     },
     "execution_count": 72,
     "metadata": {},
     "output_type": "execute_result"
    }
   ],
   "source": [
    "# The highest score we had from the iteration was:\n",
    "0.9327354260089686"
   ]
  },
  {
   "cell_type": "code",
   "execution_count": 73,
   "metadata": {
    "collapsed": false
   },
   "outputs": [],
   "source": [
    "preds_RF = clf.predict_proba(X_test_RF_filtered)[:,1]"
   ]
  },
  {
   "cell_type": "code",
   "execution_count": 74,
   "metadata": {
    "collapsed": false
   },
   "outputs": [
    {
     "data": {
      "text/plain": [
       "0.96691006376601685"
      ]
     },
     "execution_count": 74,
     "metadata": {},
     "output_type": "execute_result"
    },
    {
     "data": {
      "image/png": "[encoded data removed]",
      "text/plain": [
       "<matplotlib.figure.Figure at 0x113e44f98>"
      ]
     },
     "metadata": {},
     "output_type": "display_data"
    }
   ],
   "source": [
    "plotUnivariateROC(preds_RF, Y_test_RF, 'Random Forest')"
   ]
  },
  {
   "cell_type": "markdown",
   "metadata": {},
   "source": [
    "# ROC curve evaluation for all models\n",
    "by Zhongheng Li"
   ]
  },
  {
   "cell_type": "code",
   "execution_count": 76,
   "metadata": {
    "collapsed": false
   },
   "outputs": [
    {
     "data": {
      "text/plain": [
       "0.84558558558558561"
      ]
     },
     "execution_count": 76,
     "metadata": {},
     "output_type": "execute_result"
    },
    {
     "data": {
      "image/png": "[encoded data removed]",
      "text/plain": [
       "<matplotlib.figure.Figure at 0x113aaf940>"
      ]
     },
     "metadata": {},
     "output_type": "display_data"
    }
   ],
   "source": [
    "plotUnivariateROC(preds_RF, Y_test_RF, 'Random Forest')\n",
    "plotUnivariateROC(preds_NN, Y_test_NN, 'Neural network')\n",
    "plotUnivariateROC(preds_lr, Y_test_LR, 'Logistic Regression')\n",
    "plotUnivariateROC(preds_dt, Y_test, 'Decision Tree')\n",
    "plotUnivariateROC(preds_lr_nb, y_test_NB, 'Naive Bayes')"
   ]
  },
  {
   "cell_type": "code",
   "execution_count": null,
   "metadata": {
    "collapsed": true
   },
   "outputs": [],
   "source": []
  }
 ],
 "metadata": {
  "anaconda-cloud": {},
  "kernelspec": {
   "display_name": "Python 3",
   "language": "python",
   "name": "python3"
  },
  "language_info": {
   "codemirror_mode": {
    "name": "ipython",
    "version": 3
   },
   "file_extension": ".py",
   "mimetype": "text/x-python",
   "name": "python",
   "nbconvert_exporter": "python",
   "pygments_lexer": "ipython3",
   "version": "3.6.0"
  }
 },
 "nbformat": 4,
 "nbformat_minor": 0
}
