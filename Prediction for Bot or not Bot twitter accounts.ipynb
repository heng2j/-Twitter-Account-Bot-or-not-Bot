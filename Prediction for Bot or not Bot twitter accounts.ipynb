{
 "cells": [
  {
   "cell_type": "markdown",
   "metadata": {
    "collapsed": true
   },
   "source": [
    "# Predict the Twitter Accounts to be bots or not bots \n",
    "# Team Members: \n",
    "* Ashish Bansal\n",
    "* John Martinez \n",
    "* Zhongheng Li\n"
   ]
  },
  {
   "cell_type": "markdown",
   "metadata": {},
   "source": [
    "# Abstract\n",
    "In this project we explored how to classify twitter accounts as bots or not-bots accurately. To do this, we harvested several datasets and used them to train our model to distinguish bots from real users. The machine learning algorithms known as Naive bayes, logistic regression, and decision trees were tested. We will present here the results from the most successful of these and upon deciding which algorithm performs the best.\n"
   ]
  },
  {
   "cell_type": "markdown",
   "metadata": {},
   "source": [
    "# Data\n",
    "The data set used is an extract from Twitter API we used the module to query two endpoints: GET user/lookup.json  and GET user/friends/list.json. originally intended to search as tweets by a certain user and tweets of friends of certain user account . The original data set has 130 attributes per user id . This dataset is a mixed set in which we can find many categorical and numerical variables with a lot of missing values. From all the attributes these were the ones that we considered:'id','id_str','screen_name','location','description','url','followers_count','friends_count','listedcount','created_at','favourites_count','verified','statuses_count','lang',\n",
    "'status','default_profile','default_profile_image','has_extended_profile','name'. And we also created the new target variable 'bot' based on the results during data collection to indicate if the account is a bot or not bot.\n"
   ]
  },
  {
   "cell_type": "markdown",
   "metadata": {},
   "source": [
    "# Description of Variables\n",
    "\n",
    "The dataset contains 2231 observations of 20 variables:\n",
    "\n",
    "* 'id'\n",
    "* 'id_str'\n",
    "* 'screen_name'\n",
    "* 'location'\n",
    "* 'description'\n",
    "* 'url'\n",
    "* 'followers_count'\n",
    "* 'friends_count'\n",
    "* 'listedcount'\n",
    "* 'created_at'\n",
    "* 'favourites_count'\n",
    "* 'verified'\n",
    "* 'statuses_count'\n",
    "* 'lang'\n",
    "* 'status'\n",
    "* 'default_profile'\n",
    "* 'default_profile_image'\n",
    "* 'has_extended_profile'\n",
    "* 'name'"
   ]
  },
  {
   "cell_type": "markdown",
   "metadata": {},
   "source": [
    "# Problem Statement\n",
    "\n",
    "A [recent research](https://arxiv.org/pdf/1703.03107.pdf) conducted by the University of Southern California and Indiana University, had discovered that 48 millions of Twitter accounts are non human bots. Which is 15% of Twitter's total active user population. Many of these social bots are being used for dissemination of news and publications. But not all bots are disseminating contents that are harmless. Malicious bots are emulating human behaviors to manufacture fake grassroots political support and promote terrorist propagandas and recruitments. On November 1st, 2016, The Atlantic had an [article on how Twitter bots had shaped the 2016 US Presidential election](https://www.theatlantic.com/technology/archive/2016/11/election-bots/506072/). As we are in the age of  information, where social media has great impacts on shaping the social structure and humanity, identifying the malicious socialbots is critical. It is critical for identifying the sources of malicious fake information, and distinguish the malicious ones from the useful bots that are providing helpful functions like alerting disasters and providing useful customer services. In order to achieve this goal, the first step is to distinguish all bots from real users. \n",
    "\n",
    "\n",
    "\n"
   ]
  },
  {
   "cell_type": "markdown",
   "metadata": {},
   "source": [
    "# Import modules"
   ]
  },
  {
   "cell_type": "code",
   "execution_count": 72,
   "metadata": {
    "collapsed": false
   },
   "outputs": [],
   "source": [
    "import numpy as np\n",
    "import pandas as pd\n",
    "\n",
    "from scipy.stats import entropy\n",
    "import os\n",
    "\n",
    "from sklearn.model_selection import train_test_split\n",
    "from sklearn.tree import DecisionTreeClassifier\n",
    "from sklearn import tree\n",
    "from sklearn.cross_validation import cross_val_score\n",
    "from sklearn import metrics\n",
    "from sklearn.metrics import roc_curve, auc\n",
    "\n",
    "import statsmodels.api as sm\n",
    "from patsy import dmatrices\n",
    "from sklearn.linear_model import LogisticRegression\n",
    "\n",
    "\n",
    "import matplotlib.pyplot as plt\n",
    "%matplotlib inline"
   ]
  },
  {
   "cell_type": "markdown",
   "metadata": {},
   "source": [
    "# Data Preparion and Data Clearning: \n",
    "\n",
    "Import the file and create the dataframe and additional useful features"
   ]
  },
  {
   "cell_type": "code",
   "execution_count": 48,
   "metadata": {
    "collapsed": true
   },
   "outputs": [],
   "source": [
    "names=['id','id_str','screen_name','location','description','url','followers_count','friends_count','listedcount','created_at','favourites_count','verified','statuses_count','lang','status','default_profile','default_profile_image','has_extended_profile','name','bot']"
   ]
  },
  {
   "cell_type": "code",
   "execution_count": 120,
   "metadata": {
    "collapsed": false
   },
   "outputs": [],
   "source": [
    "bots_data = pd.read_csv('/Users/Heng2j/Documents/NYU Grad /Spring 2017/Machine Learning/project/bots_data.csv',encoding=\"ISO-8859-1\",header = None, na_values='?',delim_whitespace=False,)\n",
    "bots_data = bots_data.ix[1:]\n",
    "\n",
    "nonbots_data = pd.read_csv('/Users/Heng2j/Documents/NYU Grad /Spring 2017/Machine Learning/project/nonbots_data.csv',encoding=\"ISO-8859-1\",header = None,na_values='?',delim_whitespace=False,)\n",
    "nonbots_data = nonbots_data.ix[1:]\n",
    "\n",
    "\n",
    "data_frames = [bots_data, nonbots_data]\n",
    "\n",
    "df = pd.concat(data_frames)\n",
    "df.columns = names\n",
    "\n",
    "\n",
    "\n",
    "\n",
    "#df = pd.read_csv('/Users/Heng2j/Documents/NYU Grad /Spring 2017/Machine Learning/project/merged.csv',encoding=\"ISO-8859-1\",\n",
    "#                 header=None,delim_whitespace=False,names=names,na_values='?',)\n",
    "\n",
    "\n",
    "\n"
   ]
  },
  {
   "cell_type": "code",
   "execution_count": 150,
   "metadata": {
    "collapsed": false
   },
   "outputs": [
    {
     "name": "stdout",
     "output_type": "stream",
     "text": [
      "<class 'pandas.core.frame.DataFrame'>\n",
      "RangeIndex: 2232 entries, 0 to 2231\n",
      "Data columns (total 24 columns):\n",
      "id                       2232 non-null object\n",
      "id_str                   2232 non-null object\n",
      "screen_name              2232 non-null object\n",
      "location                 1420 non-null object\n",
      "description              1911 non-null object\n",
      "url                      1212 non-null object\n",
      "followers_count          2232 non-null int64\n",
      "friends_count            2232 non-null int64\n",
      "listedcount              2232 non-null int64\n",
      "created_at               2232 non-null object\n",
      "favourites_count         2232 non-null int64\n",
      "verified                 2232 non-null bool\n",
      "statuses_count           2232 non-null int64\n",
      "lang                     2232 non-null object\n",
      "status                   2203 non-null object\n",
      "default_profile          2232 non-null bool\n",
      "default_profile_image    2232 non-null bool\n",
      "has_extended_profile     2154 non-null object\n",
      "name                     2232 non-null object\n",
      "bot                      2232 non-null int64\n",
      "screen_name_len          2232 non-null int64\n",
      "bot_is_substr            2232 non-null int64\n",
      "bot_in_des               2232 non-null int64\n",
      "age                      2232 non-null int64\n",
      "dtypes: bool(3), int64(10), object(11)\n",
      "memory usage: 372.8+ KB\n"
     ]
    }
   ],
   "source": [
    "df.info()"
   ]
  },
  {
   "cell_type": "code",
   "execution_count": 155,
   "metadata": {
    "collapsed": true
   },
   "outputs": [],
   "source": [
    "df.verified=df.verified.astype('bool')\n",
    "df.verified=df.verified.astype(int)\n",
    "df.default_profile=df.default_profile.astype('bool')\n",
    "df.default_profile=df.default_profile.astype(int)\n",
    "df.default_profile_image=df.default_profile_image.astype('bool')\n",
    "df.default_profile_image=df.default_profile_image.astype(int)\n",
    "\n",
    "\n",
    "df.followers_count = df.followers_count.astype(int)\n",
    "df.friends_count = df.friends_count.astype(int)\n",
    "df.listedcount = df.listedcount.astype(int)\n",
    "df.favourites_count = df.favourites_count.astype(int)\n",
    "df.statuses_count = df.statuses_count.astype(int)\n",
    "df.bot = df.bot.astype(int)"
   ]
  },
  {
   "cell_type": "code",
   "execution_count": 156,
   "metadata": {
    "collapsed": false
   },
   "outputs": [],
   "source": [
    "# Creating more features from given dataframe\n",
    "df[\"screen_name_len\"] = [len(i) for i in df[\"screen_name\"]]\n",
    "df[\"bot_is_substr\"] = [int('bot' in i.lower()) for i in df[\"screen_name\"]]\n",
    "df[\"bot_in_des\"] = [int('bot' in str(i).lower()) for i in df['description']]\n",
    "\n",
    "# Getting the ages in years from created_at\n",
    "ages = []\n",
    "for i in df[\"created_at\"]:\n",
    "    if len(i) > 20:\n",
    "        i = i.split()\n",
    "        year = int(i[5][:4]) % 2000 \n",
    "    else:\n",
    "        i = i.split('/')\n",
    "        year = int(i[2].split()[0]) % 2000\n",
    "    age = 17-year\n",
    "    ages.append(age)\n",
    "df[\"age\"] = ages\n",
    "\n"
   ]
  },
  {
   "cell_type": "code",
   "execution_count": 157,
   "metadata": {
    "collapsed": false,
    "scrolled": true
   },
   "outputs": [],
   "source": [
    "#Reindex the merged dataframe df\n",
    "df.reset_index(drop=True, inplace=True)"
   ]
  },
  {
   "cell_type": "code",
   "execution_count": 158,
   "metadata": {
    "collapsed": false
   },
   "outputs": [
    {
     "data": {
      "text/html": [
       "<div>\n",
       "<table border=\"1\" class=\"dataframe\">\n",
       "  <thead>\n",
       "    <tr style=\"text-align: right;\">\n",
       "      <th></th>\n",
       "      <th>id</th>\n",
       "      <th>id_str</th>\n",
       "      <th>screen_name</th>\n",
       "      <th>location</th>\n",
       "      <th>description</th>\n",
       "      <th>url</th>\n",
       "      <th>followers_count</th>\n",
       "      <th>friends_count</th>\n",
       "      <th>listedcount</th>\n",
       "      <th>created_at</th>\n",
       "      <th>...</th>\n",
       "      <th>status</th>\n",
       "      <th>default_profile</th>\n",
       "      <th>default_profile_image</th>\n",
       "      <th>has_extended_profile</th>\n",
       "      <th>name</th>\n",
       "      <th>bot</th>\n",
       "      <th>screen_name_len</th>\n",
       "      <th>bot_is_substr</th>\n",
       "      <th>bot_in_des</th>\n",
       "      <th>age</th>\n",
       "    </tr>\n",
       "  </thead>\n",
       "  <tbody>\n",
       "  </tbody>\n",
       "</table>\n",
       "<p>0 rows × 24 columns</p>\n",
       "</div>"
      ],
      "text/plain": [
       "Empty DataFrame\n",
       "Columns: [id, id_str, screen_name, location, description, url, followers_count, friends_count, listedcount, created_at, favourites_count, verified, statuses_count, lang, status, default_profile, default_profile_image, has_extended_profile, name, bot, screen_name_len, bot_is_substr, bot_in_des, age]\n",
       "Index: []\n",
       "\n",
       "[0 rows x 24 columns]"
      ]
     },
     "execution_count": 158,
     "metadata": {},
     "output_type": "execute_result"
    }
   ],
   "source": [
    "#Double check to see if there is any duplicated indexes\n",
    "df[df.index.duplicated()]"
   ]
  },
  {
   "cell_type": "code",
   "execution_count": 54,
   "metadata": {
    "collapsed": false
   },
   "outputs": [
    {
     "name": "stdout",
     "output_type": "stream",
     "text": [
      "<class 'pandas.core.frame.DataFrame'>\n",
      "RangeIndex: 2231 entries, 0 to 2230\n",
      "Data columns (total 24 columns):\n",
      "id                       2231 non-null float64\n",
      "id_str                   2231 non-null object\n",
      "screen_name              2231 non-null object\n",
      "location                 1419 non-null object\n",
      "description              1910 non-null object\n",
      "url                      1212 non-null object\n",
      "followers_count          2231 non-null int64\n",
      "friends_count            2231 non-null int64\n",
      "listedcount              2231 non-null int64\n",
      "created_at               2231 non-null object\n",
      "favourites_count         2231 non-null int64\n",
      "verified                 2231 non-null bool\n",
      "statuses_count           2231 non-null int64\n",
      "lang                     2231 non-null object\n",
      "status                   2202 non-null object\n",
      "default_profile          2231 non-null bool\n",
      "default_profile_image    2231 non-null bool\n",
      "has_extended_profile     2153 non-null object\n",
      "name                     2231 non-null object\n",
      "bot                      2231 non-null int64\n",
      "screen_name_len          2231 non-null int64\n",
      "bot_is_substr            2231 non-null int64\n",
      "bot_in_des               2231 non-null int64\n",
      "age                      2231 non-null int64\n",
      "dtypes: bool(3), float64(1), int64(10), object(10)\n",
      "memory usage: 372.6+ KB\n"
     ]
    }
   ],
   "source": [
    "#show current info for df after the above chagnes\n",
    "df.info()"
   ]
  },
  {
   "cell_type": "markdown",
   "metadata": {},
   "source": [
    "# Prepare dataframes\n",
    "Normally randomized the data and split the training dataframe and test dataframe"
   ]
  },
  {
   "cell_type": "code",
   "execution_count": 159,
   "metadata": {
    "collapsed": false
   },
   "outputs": [],
   "source": [
    "for a in range(1000):\n",
    "    randomized_Data = df.reindex(np.random.permutation(df.index))\n",
    "\n",
    "train_df = randomized_Data[:int((len(randomized_Data)+1)*.80)]\n",
    "test_df = randomized_Data[int((len(randomized_Data)+1)*.80):] \n",
    "\n",
    "\n",
    "\n"
   ]
  },
  {
   "cell_type": "code",
   "execution_count": 160,
   "metadata": {
    "collapsed": false
   },
   "outputs": [],
   "source": [
    "#Create the Predicting Variables and Targeting Variables for Traning and Test sets\n",
    "X_train = train_df.drop('bot', 1)\n",
    "Y_train = train_df['bot']\n",
    "\n",
    "\n",
    "X_test = test_df.drop('bot', 1)\n",
    "Y_test = test_df['bot']"
   ]
  },
  {
   "cell_type": "markdown",
   "metadata": {},
   "source": [
    "# Traning Models - Naive Bayes\n",
    "\n"
   ]
  },
  {
   "cell_type": "code",
   "execution_count": 161,
   "metadata": {
    "collapsed": false
   },
   "outputs": [
    {
     "data": {
      "text/plain": [
       "0.76957494407158833"
      ]
     },
     "execution_count": 161,
     "metadata": {},
     "output_type": "execute_result"
    }
   ],
   "source": [
    "X_train_NB, X_test_NB, y_train_NB, y_test_NB = train_test_split(df.ix[:,0:13], df['bot'], test_size=0.2, random_state=0)\n",
    "\n",
    "#tf for training data\n",
    "from sklearn.feature_extraction.text import CountVectorizer\n",
    "count_vect = CountVectorizer()\n",
    "X_train_counts = count_vect.fit_transform(X_train_NB['description'].values.astype('U'))\n",
    "from sklearn.feature_extraction.text import TfidfTransformer\n",
    "tf_transformer = TfidfTransformer(use_idf=False).fit(X_train_counts)\n",
    "X_train_tf = tf_transformer.transform(X_train_counts)\n",
    "\n",
    "#tf for test data\n",
    "X_test_counts = count_vect.transform(X_test_NB['description'].values.astype('U'))\n",
    "from sklearn.feature_extraction.text import TfidfTransformer\n",
    "tf_transformer = TfidfTransformer(use_idf=False).fit(X_test_counts)\n",
    "X_test_tf = tf_transformer.transform(X_test_counts)\n",
    "\n",
    "#classifer training\n",
    "from sklearn.naive_bayes import MultinomialNB\n",
    "clf = MultinomialNB().fit(X_train_tf, y_train_NB)\n",
    "#prediction for test data\n",
    "predicted = clf.predict(X_test_tf)\n",
    "\n",
    "import numpy as np\n",
    "np.mean(predicted == y_test_NB)"
   ]
  },
  {
   "cell_type": "code",
   "execution_count": 162,
   "metadata": {
    "collapsed": false
   },
   "outputs": [
    {
     "name": "stdout",
     "output_type": "stream",
     "text": [
      "Accuracy Score: 0.769574944072\n",
      "Precision Score:  0.769574944072\n",
      "Recall Score:  0.769574944072\n",
      "F1 Score:  0.769574944072\n"
     ]
    }
   ],
   "source": [
    "from sklearn.metrics import *\n",
    "print(\"Accuracy Score:\", (accuracy_score(y_test_NB,predicted )))\n",
    "print(\"Precision Score: \", (precision_score(y_test_NB,predicted,average='micro' )))\n",
    "print(\"Recall Score: \", (recall_score(y_test_NB,predicted,average='micro' )))\n",
    "print(\"F1 Score: \", (f1_score(y_test_NB,predicted,average='micro' )))\n",
    "#print(\"AUC Score: \", (roc_auc_score(y_test_NB,predicted,average=None )))"
   ]
  },
  {
   "cell_type": "code",
   "execution_count": 132,
   "metadata": {
    "collapsed": false
   },
   "outputs": [
    {
     "data": {
      "text/plain": [
       "0.77027027027027017"
      ]
     },
     "execution_count": 132,
     "metadata": {},
     "output_type": "execute_result"
    }
   ],
   "source": [
    "from sklearn import metrics\n",
    "from sklearn.metrics import *\n",
    "fpr, tpr, thresholds = metrics.roc_curve(y_test_NB, predicted,pos_label=1)\n",
    "metrics.auc(fpr, tpr)"
   ]
  },
  {
   "cell_type": "code",
   "execution_count": 133,
   "metadata": {
    "collapsed": false
   },
   "outputs": [
    {
     "data": {
      "text/plain": [
       "[<matplotlib.lines.Line2D at 0x11f0c3ac8>]"
      ]
     },
     "execution_count": 133,
     "metadata": {},
     "output_type": "execute_result"
    },
    {
     "data": {
      "image/png": "[encoded data removed]",
      "text/plain": [
       "<matplotlib.figure.Figure at 0x11da7b6d8>"
      ]
     },
     "metadata": {},
     "output_type": "display_data"
    }
   ],
   "source": [
    "fpr, tpr, thresholds = metrics.roc_curve(y_test_NB, predicted,pos_label=1)\n",
    "metrics.auc(fpr,tpr)\n",
    "#x = np.array(fpr)\n",
    "#y = np.array(tpr)\n",
    "plt.xlabel('FPR',fontsize=15)\n",
    "plt.ylabel('TPR',fontsize=15)\n",
    "plt.plot(fpr,tpr)"
   ]
  },
  {
   "cell_type": "code",
   "execution_count": 134,
   "metadata": {
    "collapsed": false
   },
   "outputs": [
    {
     "data": {
      "text/plain": [
       "[<matplotlib.lines.Line2D at 0x119eed3c8>]"
      ]
     },
     "execution_count": 134,
     "metadata": {},
     "output_type": "execute_result"
    },
    {
     "data": {
      "image/png": "[encoded data removed]",
      "text/plain": [
       "<matplotlib.figure.Figure at 0x1199b8d30>"
      ]
     },
     "metadata": {},
     "output_type": "display_data"
    }
   ],
   "source": [
    "fpr, tpr, thresholds = metrics.roc_curve(y_test_NB, predicted,pos_label=1)\n",
    "metrics.auc(fpr,tpr)\n",
    "plt.ylabel('FPR',fontsize=15)\n",
    "plt.xlabel('TPR',fontsize=15)\n",
    "plt.plot(tpr,fpr)"
   ]
  },
  {
   "cell_type": "code",
   "execution_count": 135,
   "metadata": {
    "collapsed": false
   },
   "outputs": [
    {
     "name": "stdout",
     "output_type": "stream",
     "text": [
      "Precision Score:  0.782350851884\n"
     ]
    }
   ],
   "source": [
    "print(\"Precision Score: \", (precision_score(y_test_NB,predicted,average='weighted' )))"
   ]
  },
  {
   "cell_type": "markdown",
   "metadata": {},
   "source": [
    "# Traning Models - Decision Tree\n"
   ]
  },
  {
   "cell_type": "markdown",
   "metadata": {},
   "source": []
  },
  {
   "cell_type": "code",
   "execution_count": 163,
   "metadata": {
    "collapsed": false
   },
   "outputs": [
    {
     "name": "stdout",
     "output_type": "stream",
     "text": [
      "Traning Average accuracy: 0.875697541586\n",
      "Traning Average Precision: 0.864597948394\n",
      "Accuracy on test set:  0.881165919283\n"
     ]
    },
    {
     "data": {
      "text/plain": [
       "{'age': 0.42447537692546977,\n",
       " 'bot_in_des': 0.026115525001365957,\n",
       " 'bot_is_substr': 0.0063812886261192473,\n",
       " 'default_profile_image': 0.0,\n",
       " 'favourites_count': 0.082373082806752818,\n",
       " 'followers_count': 0.1109085322201717,\n",
       " 'friends_count': 0.15623589677187918,\n",
       " 'listedcount': 0.037923035452041544,\n",
       " 'screen_name_len': 0.017603956292748475,\n",
       " 'statuses_count': 0.13798330590345123,\n",
       " 'verified': 0.0}"
      ]
     },
     "execution_count": 163,
     "metadata": {},
     "output_type": "execute_result"
    },
    {
     "data": {
      "image/png": "[encoded data removed]",
      "text/plain": [
       "<matplotlib.figure.Figure at 0x1194262e8>"
      ]
     },
     "metadata": {},
     "output_type": "display_data"
    }
   ],
   "source": [
    "dt = DecisionTreeClassifier(criterion='entropy')\n",
    "\n",
    "# treeNames are only the numerical and binary features with importance > 0 \n",
    "treeNames=['default_profile_image','age','screen_name_len', 'bot_is_substr','bot_in_des','followers_count','friends_count','listedcount', 'favourites_count','verified','statuses_count']\n",
    "\n",
    "# Getting the training sets and fitting the tree\n",
    "df_train = train_df[treeNames+['bot']]\n",
    "x_train = train_df[treeNames]\n",
    "y_train = train_df.bot.astype(bool)\n",
    "dt.fit(x_train, y_train)\n",
    "\n",
    "# Evaluating the tree with cross-val\n",
    "accuracy = cross_val_score(dt, x_train, y_train, cv=5, scoring = \"accuracy\")\n",
    "precision = cross_val_score(dt, x_train, y_train, cv=5, scoring = \"precision\")\n",
    "\n",
    "# Graphing the feature importance \n",
    "import matplotlib.pyplot as plt\n",
    "%matplotlib inline\n",
    "\n",
    "feature_mi_dict = dict(zip(df_train.columns.values,dt.feature_importances_))\n",
    "feature_mi_dict\n",
    "feature_importance_X = feature_mi_dict.keys()\n",
    "feature_importance_Y = feature_mi_dict.values()\n",
    "plt.rcParams['figure.figsize'] = (16, 5)\n",
    "plt.bar(range(len(feature_mi_dict)), feature_mi_dict.values(), align='center')\n",
    "plt.xticks(range(len(feature_mi_dict)), feature_mi_dict.keys())\n",
    "plt.xlabel('Features')\n",
    "plt.ylabel('Feature Importance')\n",
    "plt.grid(True)\n",
    "\n",
    "# Printing the evaluations \n",
    "print(\"Traning Average accuracy:\",accuracy.mean())\n",
    "print(\"Traning Average Precision:\",precision.mean())\n",
    "\n",
    "\n",
    "predicts = dt.predict(X_test[treeNames])\n",
    "\n",
    "Test_accuracy = metrics.accuracy_score(test_df['bot'], predicts)\n",
    "\n",
    "print('Accuracy on test set: ',Test_accuracy )\n",
    "\n",
    "\n",
    "\n",
    "\n",
    "\n",
    "feature_mi = dt.feature_importances_\n",
    "\n",
    "feature_mi\n",
    "\n",
    "feature_mi_dict = dict(zip(x_train.columns.values,feature_mi))\n",
    "\n",
    "feature_mi_dict"
   ]
  },
  {
   "cell_type": "code",
   "execution_count": 164,
   "metadata": {
    "collapsed": true
   },
   "outputs": [],
   "source": [
    "def plotUnivariateROC(preds, truth, label_string):\n",
    "    '''\n",
    "    preds is an nx1 array of predictions\n",
    "    truth is an nx1 array of truth labels\n",
    "    label_string is text to go into the plotting label\n",
    "    '''\n",
    "   \n",
    "    fpr, tpr, thresholds = roc_curve(truth,preds, pos_label=1)\n",
    "    roc_auc = auc(fpr,tpr)\n",
    "\n",
    "    if roc_auc < 0.5:\n",
    "        fpr, tpr, thresholds = roc_curve(truth, -1 * preds,pos_label=1 )\n",
    "        roc_auc = auc(fpr, tpr)\n",
    "\n",
    "    c = (np.random.rand(), np.random.rand(), np.random.rand())\n",
    "\n",
    "    plt.plot(fpr, tpr, color = c, label = label_string + ' (AUC = %0.3f)' % roc_auc)\n",
    "    \n",
    "\n",
    "    plt.plot([0, 1], [0, 1], 'k--')\n",
    "    plt.xlim([0.0, 1.0])\n",
    "    plt.ylim([0.0, 1.0])\n",
    "    plt.xlabel('FPR')\n",
    "    plt.ylabel('TPR')\n",
    "    plt.title('ROC')\n",
    "    plt.legend(loc=\"lower right\")\n",
    "    \n",
    "    return roc_auc"
   ]
  },
  {
   "cell_type": "code",
   "execution_count": null,
   "metadata": {
    "collapsed": false
   },
   "outputs": [],
   "source": []
  },
  {
   "cell_type": "markdown",
   "metadata": {
    "collapsed": false
   },
   "source": [
    "\n",
    "\n",
    "\n",
    "\n"
   ]
  },
  {
   "cell_type": "code",
   "execution_count": 165,
   "metadata": {
    "collapsed": false
   },
   "outputs": [
    {
     "data": {
      "text/plain": [
       "<matplotlib.legend.Legend at 0x11917c9b0>"
      ]
     },
     "execution_count": 165,
     "metadata": {},
     "output_type": "execute_result"
    },
    {
     "data": {
      "image/png": "[encoded data removed]",
      "text/plain": [
       "<matplotlib.figure.Figure at 0x119d28ac8>"
      ]
     },
     "metadata": {},
     "output_type": "display_data"
    }
   ],
   "source": [
    "fig = plt.figure(figsize = (12, 6))\n",
    "ax = plt.subplot(111)\n",
    "\n",
    "train_df_modf = train_df[treeNames]\n",
    "\n",
    "\n",
    "feature_auc_dict = {}\n",
    "for col in train_df_modf.columns:\n",
    "    feature_auc_dict[col] = plotUnivariateROC(train_df_modf[col], Y_train, col)\n",
    "\n",
    "\n",
    "box = ax.get_position()\n",
    "ax.set_position([box.x0, box.y0 + box.height * 0.0 , box.width, box.height * 1])\n",
    "ax.legend(loc = 'upper center', bbox_to_anchor = (0.5, -0.15), fancybox = True, \n",
    "              shadow = True, ncol = 4, prop = {'size':10})"
   ]
  },
  {
   "cell_type": "code",
   "execution_count": 166,
   "metadata": {
    "collapsed": false
   },
   "outputs": [
    {
     "name": "stdout",
     "output_type": "stream",
     "text": [
      "Maximum Accuracy: 0.885650224215 \n",
      "Minimum Accuracy: 0.874439461883\n",
      "Average Accuracy: 0.879820627803\n"
     ]
    }
   ],
   "source": [
    "\n",
    "\n",
    "\n",
    "# Splitting the set 80-20 with train_test_split from sklearn metrics\n",
    "#bot = df['bot']\n",
    "#X_train, X_test, Y_train, Y_test = train_test_split(df[treeNames].ix[:,0:13], bot, test_size=0.2, random_state=42)\n",
    "\n",
    "\n",
    "min_samples_split_values = list(range(20,70,5))\n",
    "min_samples_leaf_values = list(range(20,30,1))\n",
    "\n",
    "test_set_accuracy = []\n",
    "\n",
    "for i in range(10):\n",
    "    \n",
    "    min_samples_split_value = min_samples_split_values[i]\n",
    "    for j in range(10):\n",
    "        min_samples_leaf_value = min_samples_leaf_values[j]    \n",
    "        \n",
    "        # Fitting and evaluating a tree\n",
    "        splitDt = DecisionTreeClassifier(criterion='entropy',max_depth = 5, min_samples_split = min_samples_split_value,  min_samples_leaf = min_samples_leaf_value)\n",
    "        splitDt.fit(X_train[treeNames], Y_train)\n",
    "        predict = splitDt.predict(X_test[treeNames])\n",
    "        accuracy = metrics.accuracy_score(predict, Y_test)\n",
    "    \n",
    "        test_set_accuracy.append(accuracy)\n",
    "\n",
    "        \n",
    "        \n",
    "print(\"Maximum Accuracy:\", max(test_set_accuracy),\"\\nMinimum Accuracy:\", min(test_set_accuracy))\n",
    "print(\"Average Accuracy:\",sum(test_set_accuracy)/len(test_set_accuracy))\n",
    "\n",
    "\n",
    "\n"
   ]
  },
  {
   "cell_type": "code",
   "execution_count": 167,
   "metadata": {
    "collapsed": false
   },
   "outputs": [
    {
     "name": "stdout",
     "output_type": "stream",
     "text": [
      "Cross-validation:\n",
      "Using decision tree for precision score: [ 0.8         0.82608696  0.86842105  0.9047619   0.80952381]\n",
      "Take the average of decision tree precision score: 0.841758744688\n",
      "\n",
      "Using decision tree for recall score: [ 0.86046512  0.92857143  0.78571429  0.9047619   0.80952381]\n",
      "Take the average of recall score: 0.85780730897\n",
      "\n",
      "Using decision tree for F1 score: [ 0.82352941  0.86046512  0.83544304  0.90697674  0.83333333]\n",
      "Take the average of decision tree F1 score: 0.851949528708\n",
      "\n",
      "Using decision tree for AUC score: [ 0.85576447  0.8766464   0.85030395  0.88981763  0.80775076]\n",
      "Take the average of decision tree AUC score: 0.85605664334\n",
      "\n",
      "\n"
     ]
    }
   ],
   "source": [
    "#Cross Validation Scores:\n",
    "\n",
    "\n",
    "precision = cross_val_score(dt, X_test[treeNames], Y_test, cv=5, scoring = 'precision')\n",
    "avg_precision = sum(precision) / 5\n",
    "\n",
    "\n",
    "recall = cross_val_score(dt, X_test[treeNames], Y_test, cv=5, scoring = 'recall')\n",
    "avg_recall = sum(recall) / 5\n",
    "\n",
    "\n",
    "F1 = cross_val_score(dt, X_test[treeNames], Y_test, cv=5, scoring = 'f1')\n",
    "avg_F1 = sum(F1) / 5\n",
    "\n",
    "AUC = cross_val_score(dt, X_test[treeNames], Y_test, cv=5, scoring = 'roc_auc')\n",
    "avg_AUC = sum(AUC) / 5\n",
    "\n",
    "\n",
    "\n",
    "print('Cross-validation:')\n",
    "\n",
    "\n",
    "print('Using decision tree for precision score:', precision)\n",
    "print('Take the average of decision tree precision score:', avg_precision )\n",
    "print('' )\n",
    "\n",
    "print('Using decision tree for recall score:', recall )\n",
    "print('Take the average of recall score:', avg_recall )\n",
    "print('' )\n",
    "\n",
    "\n",
    "\n",
    "print('Using decision tree for F1 score:', F1 )\n",
    "print('Take the average of decision tree F1 score:', avg_F1 )\n",
    "print('' )\n",
    "\n",
    "\n",
    "\n",
    "print('Using decision tree for AUC score:', AUC )\n",
    "print('Take the average of decision tree AUC score:', avg_AUC )\n",
    "print('' )\n",
    "print('' )\n",
    "\n"
   ]
  },
  {
   "cell_type": "markdown",
   "metadata": {
    "collapsed": true
   },
   "source": [
    "# Traning Models - Logistic Regression"
   ]
  },
  {
   "cell_type": "code",
   "execution_count": 168,
   "metadata": {
    "collapsed": true
   },
   "outputs": [],
   "source": [
    "X_train = train_df.drop('bot', 1)\n",
    "Y_train = train_df['bot']\n",
    "\n",
    "\n",
    "X_test = test_df.drop('bot', 1)\n",
    "Y_test = test_df['bot']"
   ]
  },
  {
   "cell_type": "code",
   "execution_count": 169,
   "metadata": {
    "collapsed": false
   },
   "outputs": [],
   "source": [
    "Y_train_LR = np.ravel(Y_train)\n",
    "\n",
    "Y_test_LR =  np.ravel(Y_test)"
   ]
  },
  {
   "cell_type": "code",
   "execution_count": 170,
   "metadata": {
    "collapsed": false
   },
   "outputs": [
    {
     "data": {
      "text/plain": [
       "0.7376681614349776"
      ]
     },
     "execution_count": 170,
     "metadata": {},
     "output_type": "execute_result"
    }
   ],
   "source": [
    "model = LogisticRegression()\n",
    "model = model.fit(X_train[treeNames], Y_train_LR)\n",
    "\n",
    "# check the accuracy on the training set\n",
    "model.score(X_test[treeNames], Y_test_LR)"
   ]
  },
  {
   "cell_type": "markdown",
   "metadata": {},
   "source": [
    "## Logistic Regression Model Evaluation Using a Validation Set"
   ]
  },
  {
   "cell_type": "code",
   "execution_count": 172,
   "metadata": {
    "collapsed": false
   },
   "outputs": [],
   "source": [
    "X_LR = df.drop('bot', 1)\n",
    "Y_LR = df['bot']"
   ]
  },
  {
   "cell_type": "code",
   "execution_count": 176,
   "metadata": {
    "collapsed": false
   },
   "outputs": [
    {
     "data": {
      "text/plain": [
       "LogisticRegression(C=1.0, class_weight=None, dual=False, fit_intercept=True,\n",
       "          intercept_scaling=1, max_iter=100, multi_class='ovr', n_jobs=1,\n",
       "          penalty='l2', random_state=None, solver='liblinear', tol=0.0001,\n",
       "          verbose=0, warm_start=False)"
      ]
     },
     "execution_count": 176,
     "metadata": {},
     "output_type": "execute_result"
    }
   ],
   "source": [
    "X_train_LR, X_test_LR, y_train_LR, y_test_LR = train_test_split(X_LR, Y_LR, test_size=0.2, random_state=0)\n",
    "model2 = LogisticRegression()\n",
    "model2.fit(X_train_LR[treeNames], y_train_LR)"
   ]
  },
  {
   "cell_type": "code",
   "execution_count": 194,
   "metadata": {
    "collapsed": false
   },
   "outputs": [],
   "source": [
    "#Get the predicted value with test set\n",
    "predicted = model2.predict(X_test_LR[treeNames])"
   ]
  },
  {
   "cell_type": "code",
   "execution_count": 195,
   "metadata": {
    "collapsed": false
   },
   "outputs": [
    {
     "name": "stdout",
     "output_type": "stream",
     "text": [
      "Accuracy Score: 0.72706935123\n",
      "ROC AUC Score: 0.842342342342\n"
     ]
    }
   ],
   "source": [
    "print ('Accuracy Score:',metrics.accuracy_score(y_test_LR, predicted))\n",
    "print ('ROC AUC Score:', metrics.roc_auc_score(y_test_LR, probs[:, 1]))"
   ]
  },
  {
   "cell_type": "code",
   "execution_count": 198,
   "metadata": {
    "collapsed": false
   },
   "outputs": [
    {
     "name": "stdout",
     "output_type": "stream",
     "text": [
      "Classifictiaon Report:\n",
      "             precision    recall  f1-score   support\n",
      "\n",
      "          0       0.71      0.75      0.73       222\n",
      "          1       0.74      0.70      0.72       225\n",
      "\n",
      "avg / total       0.73      0.73      0.73       447\n",
      "\n"
     ]
    }
   ],
   "source": [
    "print ('Classifictiaon Report:')\n",
    "print ( metrics.classification_report(y_test_LR, predicted))"
   ]
  },
  {
   "cell_type": "markdown",
   "metadata": {},
   "source": [
    "## Logistic Regression Model Evaluation Using Cross-Validation\n"
   ]
  },
  {
   "cell_type": "code",
   "execution_count": 188,
   "metadata": {
    "collapsed": false
   },
   "outputs": [
    {
     "name": "stdout",
     "output_type": "stream",
     "text": [
      "0.733803893179\n"
     ]
    }
   ],
   "source": [
    "scores = cross_val_score(LogisticRegression(), X_LR[treeNames], Y_LR, scoring='accuracy', cv=10)\n",
    "\n",
    "print (scores.mean())"
   ]
  },
  {
   "cell_type": "code",
   "execution_count": null,
   "metadata": {
    "collapsed": true
   },
   "outputs": [],
   "source": []
  }
 ],
 "metadata": {
  "anaconda-cloud": {},
  "kernelspec": {
   "display_name": "Python 3",
   "language": "python",
   "name": "python3"
  },
  "language_info": {
   "codemirror_mode": {
    "name": "ipython",
    "version": 3
   },
   "file_extension": ".py",
   "mimetype": "text/x-python",
   "name": "python",
   "nbconvert_exporter": "python",
   "pygments_lexer": "ipython3",
   "version": "3.6.0"
  }
 },
 "nbformat": 4,
 "nbformat_minor": 0
}
