{
 "cells": [
  {
   "cell_type": "markdown",
   "metadata": {
    "collapsed": true
   },
   "source": [
    "# Predict the Twitter Accounts to be bots or not bots \n",
    "# Team Members: \n",
    "* Ashish Bansal - Worked on Naive Bayes\n",
    "* John Martinez - Worked on Decision Tree\n",
    "* Zhongheng Li - Worked on Logistic Regression\n"
   ]
  },
  {
   "cell_type": "markdown",
   "metadata": {},
   "source": [
    "# Abstract\n",
    "In this project we explored how to classify twitter accounts as bots or not-bots accurately. To do this, we harvested several datasets and used them to train our model to distinguish bots from real users. The machine learning algorithms known as Naive bayes, logistic regression, and decision trees were tested. We will present here the results from the most successful of these and upon deciding which algorithm performs the best.\n"
   ]
  },
  {
   "cell_type": "markdown",
   "metadata": {},
   "source": [
    "# Data\n",
    "The data set used is an extract from Twitter API we used the module to query two endpoints: GET user/lookup.json  and GET user/friends/list.json. originally intended to search as tweets by a certain user and tweets of friends of certain user account . The original data set has 130 attributes per user id . This dataset is a mixed set in which we can find many categorical and numerical variables with a lot of missing values. From all the attributes these were the ones that we considered:'id','id_str','screen_name','location','description','url','followers_count','friends_count','listedcount','created_at','favourites_count','verified','statuses_count','lang',\n",
    "'status','default_profile','default_profile_image','has_extended_profile','name'. And we also created the new target variable 'bot' based on the results during data collection to indicate if the account is a bot or not bot.\n"
   ]
  },
  {
   "cell_type": "markdown",
   "metadata": {},
   "source": [
    "# Description of Variables\n",
    "\n",
    "The dataset contains 2231 observations of 20 variables:\n",
    "\n",
    "* 'id' - The integer representation of the unique identifier for this User.\n",
    "* 'id_str' - The string representation of the unique identifier for this User. \n",
    "* 'screen_name' - The screen name, handle, or alias that this user identifies themselves with. screen_names are unique but subject to change.\n",
    "* 'location' - The user-defined location for this account’s profile.\n",
    "* 'description' - Nullable . The user-defined UTF-8 string describing their account\n",
    "* 'url' - A URL provided by the user in association with their profile.\n",
    "* 'followers_count' -The number of followers this account currently has. Under certain conditions of duress.\n",
    "* 'friends_count' - The number of users this account is following . Under certain conditions of duress. \n",
    "* 'listedcount' - Contains the number of public lists that this user is a member of.\n",
    "* 'created_at' - The UTC datetime that the user account was created on Twitter\n",
    "* 'favourites_count' - The number of tweets this user has favorited in the account’s lifetime. British spelling used in the field name for historical reasons\n",
    "* 'verified' - When true, indicates that the user has a verified account.\n",
    "* 'statuses_count' - The number of tweets (including retweets) issued by the user. \n",
    "* 'lang' - The BCP 47 code for the user’s self-declared user interface language. May or may not have anything to do with the content of their Tweets.\n",
    "* 'status' - If possible, the user’s most recent tweet or retweet. In some circumstances, this data cannot be provided and this field will be null.\n",
    "* 'default_profile' - When true, indicates that the user has not altered the theme or background of their user profile\n",
    "* 'default_profile_image' - When true, indicates that the user has not uploaded their own avatar and a default egg avatar is used instead\n",
    "* 'has_extended_profile' - Indication to show that a user has another profile that is associating with this profile.\n",
    "* 'name' - The name of the user, as they’ve defined it. Not necessarily a person’s name. Typically capped at 20 characters, but subject to change."
   ]
  },
  {
   "cell_type": "markdown",
   "metadata": {},
   "source": [
    "# Problem Statement\n",
    "\n",
    "A [recent research](https://arxiv.org/pdf/1703.03107.pdf) conducted by the University of Southern California and Indiana University, had discovered that 48 millions of Twitter accounts are non human bots. Which is 15% of Twitter's total active user population. Many of these social bots are being used for dissemination of news and publications. But not all bots are disseminating contents that are harmless. Malicious bots are emulating human behaviors to manufacture fake grassroots political support and promote terrorist propagandas and recruitments. On November 1st, 2016, The Atlantic had an [article on how Twitter bots had shaped the 2016 US Presidential election](https://www.theatlantic.com/technology/archive/2016/11/election-bots/506072/). As we are in the age of  information, where social media has great impacts on shaping the social structure and humanity, identifying the malicious socialbots is critical. It is critical for identifying the sources of malicious fake information, and distinguish the malicious ones from the useful bots that are providing helpful functions like alerting disasters and providing useful customer services. In order to achieve this goal, the first step is to distinguish all bots from real users. \n",
    "\n",
    "\n",
    "\n"
   ]
  },
  {
   "cell_type": "markdown",
   "metadata": {},
   "source": [
    "# Import modules"
   ]
  },
  {
   "cell_type": "code",
   "execution_count": 1,
   "metadata": {
    "collapsed": false
   },
   "outputs": [
    {
     "name": "stderr",
     "output_type": "stream",
     "text": [
      "/Users/Heng2j/anaconda/lib/python3.6/site-packages/sklearn/cross_validation.py:44: DeprecationWarning: This module was deprecated in version 0.18 in favor of the model_selection module into which all the refactored classes and functions are moved. Also note that the interface of the new CV iterators are different from that of this module. This module will be removed in 0.20.\n",
      "  \"This module will be removed in 0.20.\", DeprecationWarning)\n"
     ]
    }
   ],
   "source": [
    "import numpy as np\n",
    "import pandas as pd\n",
    "\n",
    "from scipy.stats import entropy\n",
    "import os\n",
    "\n",
    "from sklearn.model_selection import train_test_split\n",
    "from sklearn.tree import DecisionTreeClassifier\n",
    "from sklearn import tree\n",
    "from sklearn.cross_validation import cross_val_score\n",
    "from sklearn import metrics\n",
    "from sklearn.metrics import roc_curve, auc\n",
    "\n",
    "import statsmodels.api as sm\n",
    "from patsy import dmatrices\n",
    "from sklearn.linear_model import LogisticRegression\n",
    "\n",
    "\n",
    "import matplotlib.pyplot as plt\n",
    "%matplotlib inline"
   ]
  },
  {
   "cell_type": "markdown",
   "metadata": {},
   "source": [
    "# Data Preparion and Data Clearning: \n",
    "\n",
    "Import the file and create the dataframe and additional useful features"
   ]
  },
  {
   "cell_type": "code",
   "execution_count": 2,
   "metadata": {
    "collapsed": true
   },
   "outputs": [],
   "source": [
    "names=['id','id_str','screen_name','location','description','url','followers_count','friends_count','listedcount','created_at','favourites_count','verified','statuses_count','lang','status','default_profile','default_profile_image','has_extended_profile','name','bot']"
   ]
  },
  {
   "cell_type": "code",
   "execution_count": 3,
   "metadata": {
    "collapsed": false
   },
   "outputs": [],
   "source": [
    "bots_data = pd.read_csv('/Users/Heng2j/Documents/NYU Grad /Spring 2017/Machine Learning/project/bots_data.csv',encoding=\"ISO-8859-1\",header = None, na_values='?',delim_whitespace=False,)\n",
    "bots_data = bots_data.ix[1:]\n",
    "\n",
    "nonbots_data = pd.read_csv('/Users/Heng2j/Documents/NYU Grad /Spring 2017/Machine Learning/project/nonbots_data.csv',encoding=\"ISO-8859-1\",header = None,na_values='?',delim_whitespace=False,)\n",
    "nonbots_data = nonbots_data.ix[1:]\n",
    "\n",
    "\n",
    "data_frames = [bots_data, nonbots_data]\n",
    "\n",
    "df = pd.concat(data_frames)\n",
    "df.columns = names\n",
    "\n",
    "\n",
    "\n",
    "\n",
    "#df = pd.read_csv('/Users/Heng2j/Documents/NYU Grad /Spring 2017/Machine Learning/project/merged.csv',encoding=\"ISO-8859-1\",\n",
    "#                 header=None,delim_whitespace=False,names=names,na_values='?',)\n",
    "\n",
    "\n",
    "\n"
   ]
  },
  {
   "cell_type": "code",
   "execution_count": 4,
   "metadata": {
    "collapsed": false
   },
   "outputs": [
    {
     "name": "stdout",
     "output_type": "stream",
     "text": [
      "<class 'pandas.core.frame.DataFrame'>\n",
      "Int64Index: 2232 entries, 1 to 1176\n",
      "Data columns (total 20 columns):\n",
      "id                       2232 non-null object\n",
      "id_str                   2232 non-null object\n",
      "screen_name              2232 non-null object\n",
      "location                 1420 non-null object\n",
      "description              1911 non-null object\n",
      "url                      1212 non-null object\n",
      "followers_count          2232 non-null object\n",
      "friends_count            2232 non-null object\n",
      "listedcount              2232 non-null object\n",
      "created_at               2232 non-null object\n",
      "favourites_count         2232 non-null object\n",
      "verified                 2232 non-null object\n",
      "statuses_count           2232 non-null object\n",
      "lang                     2232 non-null object\n",
      "status                   2203 non-null object\n",
      "default_profile          2232 non-null object\n",
      "default_profile_image    2232 non-null object\n",
      "has_extended_profile     2154 non-null object\n",
      "name                     2232 non-null object\n",
      "bot                      2232 non-null object\n",
      "dtypes: object(20)\n",
      "memory usage: 366.2+ KB\n"
     ]
    }
   ],
   "source": [
    "df.info()"
   ]
  },
  {
   "cell_type": "code",
   "execution_count": 5,
   "metadata": {
    "collapsed": true
   },
   "outputs": [],
   "source": [
    "df.verified=df.verified.astype('bool')\n",
    "df.verified=df.verified.astype(int)\n",
    "df.default_profile=df.default_profile.astype('bool')\n",
    "df.default_profile=df.default_profile.astype(int)\n",
    "df.default_profile_image=df.default_profile_image.astype('bool')\n",
    "df.default_profile_image=df.default_profile_image.astype(int)\n",
    "\n",
    "\n",
    "df.followers_count = df.followers_count.astype(int)\n",
    "df.friends_count = df.friends_count.astype(int)\n",
    "df.listedcount = df.listedcount.astype(int)\n",
    "df.favourites_count = df.favourites_count.astype(int)\n",
    "df.statuses_count = df.statuses_count.astype(int)\n",
    "df.bot = df.bot.astype(int)"
   ]
  },
  {
   "cell_type": "code",
   "execution_count": 6,
   "metadata": {
    "collapsed": false
   },
   "outputs": [],
   "source": [
    "# Creating more features from given dataframe\n",
    "df[\"screen_name_len\"] = [len(i) for i in df[\"screen_name\"]]\n",
    "df[\"bot_is_substr\"] = [int('bot' in i.lower()) for i in df[\"screen_name\"]]\n",
    "df[\"bot_in_des\"] = [int('bot' in str(i).lower()) for i in df['description']]\n",
    "\n",
    "# Getting the ages in years from created_at\n",
    "ages = []\n",
    "for i in df[\"created_at\"]:\n",
    "    if len(i) > 20:\n",
    "        i = i.split()\n",
    "        year = int(i[5][:4]) % 2000 \n",
    "    else:\n",
    "        i = i.split('/')\n",
    "        year = int(i[2].split()[0]) % 2000\n",
    "    age = 17-year\n",
    "    ages.append(age)\n",
    "df[\"age\"] = ages\n",
    "\n"
   ]
  },
  {
   "cell_type": "code",
   "execution_count": 7,
   "metadata": {
    "collapsed": false,
    "scrolled": true
   },
   "outputs": [],
   "source": [
    "#Reindex the merged dataframe df\n",
    "df.reset_index(drop=True, inplace=True)"
   ]
  },
  {
   "cell_type": "code",
   "execution_count": 8,
   "metadata": {
    "collapsed": false
   },
   "outputs": [
    {
     "data": {
      "text/html": [
       "<div>\n",
       "<table border=\"1\" class=\"dataframe\">\n",
       "  <thead>\n",
       "    <tr style=\"text-align: right;\">\n",
       "      <th></th>\n",
       "      <th>id</th>\n",
       "      <th>id_str</th>\n",
       "      <th>screen_name</th>\n",
       "      <th>location</th>\n",
       "      <th>description</th>\n",
       "      <th>url</th>\n",
       "      <th>followers_count</th>\n",
       "      <th>friends_count</th>\n",
       "      <th>listedcount</th>\n",
       "      <th>created_at</th>\n",
       "      <th>...</th>\n",
       "      <th>status</th>\n",
       "      <th>default_profile</th>\n",
       "      <th>default_profile_image</th>\n",
       "      <th>has_extended_profile</th>\n",
       "      <th>name</th>\n",
       "      <th>bot</th>\n",
       "      <th>screen_name_len</th>\n",
       "      <th>bot_is_substr</th>\n",
       "      <th>bot_in_des</th>\n",
       "      <th>age</th>\n",
       "    </tr>\n",
       "  </thead>\n",
       "  <tbody>\n",
       "  </tbody>\n",
       "</table>\n",
       "<p>0 rows × 24 columns</p>\n",
       "</div>"
      ],
      "text/plain": [
       "Empty DataFrame\n",
       "Columns: [id, id_str, screen_name, location, description, url, followers_count, friends_count, listedcount, created_at, favourites_count, verified, statuses_count, lang, status, default_profile, default_profile_image, has_extended_profile, name, bot, screen_name_len, bot_is_substr, bot_in_des, age]\n",
       "Index: []\n",
       "\n",
       "[0 rows x 24 columns]"
      ]
     },
     "execution_count": 8,
     "metadata": {},
     "output_type": "execute_result"
    }
   ],
   "source": [
    "#Double check to see if there is any duplicated indexes\n",
    "df[df.index.duplicated()]"
   ]
  },
  {
   "cell_type": "code",
   "execution_count": 9,
   "metadata": {
    "collapsed": false
   },
   "outputs": [
    {
     "name": "stdout",
     "output_type": "stream",
     "text": [
      "<class 'pandas.core.frame.DataFrame'>\n",
      "RangeIndex: 2232 entries, 0 to 2231\n",
      "Data columns (total 24 columns):\n",
      "id                       2232 non-null object\n",
      "id_str                   2232 non-null object\n",
      "screen_name              2232 non-null object\n",
      "location                 1420 non-null object\n",
      "description              1911 non-null object\n",
      "url                      1212 non-null object\n",
      "followers_count          2232 non-null int64\n",
      "friends_count            2232 non-null int64\n",
      "listedcount              2232 non-null int64\n",
      "created_at               2232 non-null object\n",
      "favourites_count         2232 non-null int64\n",
      "verified                 2232 non-null int64\n",
      "statuses_count           2232 non-null int64\n",
      "lang                     2232 non-null object\n",
      "status                   2203 non-null object\n",
      "default_profile          2232 non-null int64\n",
      "default_profile_image    2232 non-null int64\n",
      "has_extended_profile     2154 non-null object\n",
      "name                     2232 non-null object\n",
      "bot                      2232 non-null int64\n",
      "screen_name_len          2232 non-null int64\n",
      "bot_is_substr            2232 non-null int64\n",
      "bot_in_des               2232 non-null int64\n",
      "age                      2232 non-null int64\n",
      "dtypes: int64(13), object(11)\n",
      "memory usage: 418.6+ KB\n"
     ]
    }
   ],
   "source": [
    "#show current info for df after the above chagnes\n",
    "df.info()"
   ]
  },
  {
   "cell_type": "markdown",
   "metadata": {},
   "source": [
    "# Prepare dataframes\n",
    "Normally randomized the data and split the training dataframe and test dataframe"
   ]
  },
  {
   "cell_type": "code",
   "execution_count": 10,
   "metadata": {
    "collapsed": false
   },
   "outputs": [],
   "source": [
    "for a in range(1000):\n",
    "    randomized_Data = df.reindex(np.random.permutation(df.index))\n",
    "\n",
    "train_df = randomized_Data[:int((len(randomized_Data)+1)*.80)]\n",
    "test_df = randomized_Data[int((len(randomized_Data)+1)*.80):] \n",
    "\n",
    "\n",
    "\n"
   ]
  },
  {
   "cell_type": "code",
   "execution_count": 11,
   "metadata": {
    "collapsed": false
   },
   "outputs": [],
   "source": [
    "#Create the Predicting Variables and Targeting Variables for Traning and Test sets\n",
    "X_train = train_df.drop('bot', 1)\n",
    "Y_train = train_df['bot']\n",
    "\n",
    "\n",
    "X_test = test_df.drop('bot', 1)\n",
    "Y_test = test_df['bot']"
   ]
  },
  {
   "cell_type": "markdown",
   "metadata": {},
   "source": [
    "# Traning Models - Naive Bayes\n",
    "By Ashish Bansal\n"
   ]
  },
  {
   "cell_type": "code",
   "execution_count": 12,
   "metadata": {
    "collapsed": false
   },
   "outputs": [
    {
     "data": {
      "text/plain": [
       "0.76957494407158833"
      ]
     },
     "execution_count": 12,
     "metadata": {},
     "output_type": "execute_result"
    }
   ],
   "source": [
    "X_train_NB, X_test_NB, y_train_NB, y_test_NB = train_test_split(df.ix[:,0:13], df['bot'], test_size=0.2, random_state=0)\n",
    "\n",
    "#tf for training data\n",
    "from sklearn.feature_extraction.text import CountVectorizer\n",
    "count_vect = CountVectorizer()\n",
    "X_train_counts = count_vect.fit_transform(X_train_NB['description'].values.astype('U'))\n",
    "from sklearn.feature_extraction.text import TfidfTransformer\n",
    "tf_transformer = TfidfTransformer(use_idf=False).fit(X_train_counts)\n",
    "X_train_tf = tf_transformer.transform(X_train_counts)\n",
    "\n",
    "#tf for test data\n",
    "X_test_counts = count_vect.transform(X_test_NB['description'].values.astype('U'))\n",
    "from sklearn.feature_extraction.text import TfidfTransformer\n",
    "tf_transformer = TfidfTransformer(use_idf=False).fit(X_test_counts)\n",
    "X_test_tf = tf_transformer.transform(X_test_counts)\n",
    "\n",
    "#classifer training\n",
    "from sklearn.naive_bayes import MultinomialNB\n",
    "clf = MultinomialNB().fit(X_train_tf, y_train_NB)\n",
    "#prediction for test data\n",
    "predicted = clf.predict(X_test_tf)\n",
    "\n",
    "import numpy as np\n",
    "np.mean(predicted == y_test_NB)"
   ]
  },
  {
   "cell_type": "code",
   "execution_count": 13,
   "metadata": {
    "collapsed": false
   },
   "outputs": [
    {
     "name": "stdout",
     "output_type": "stream",
     "text": [
      "Accuracy Score: 0.769574944072\n",
      "Precision Score:  0.769574944072\n",
      "Recall Score:  0.769574944072\n",
      "F1 Score:  0.769574944072\n"
     ]
    }
   ],
   "source": [
    "from sklearn.metrics import *\n",
    "print(\"Accuracy Score:\", (accuracy_score(y_test_NB,predicted )))\n",
    "print(\"Precision Score: \", (precision_score(y_test_NB,predicted,average='micro' )))\n",
    "print(\"Recall Score: \", (recall_score(y_test_NB,predicted,average='micro' )))\n",
    "print(\"F1 Score: \", (f1_score(y_test_NB,predicted,average='micro' )))\n",
    "#print(\"AUC Score: \", (roc_auc_score(y_test_NB,predicted,average=None )))"
   ]
  },
  {
   "cell_type": "code",
   "execution_count": 14,
   "metadata": {
    "collapsed": false
   },
   "outputs": [
    {
     "data": {
      "text/plain": [
       "0.77027027027027017"
      ]
     },
     "execution_count": 14,
     "metadata": {},
     "output_type": "execute_result"
    }
   ],
   "source": [
    "from sklearn import metrics\n",
    "from sklearn.metrics import *\n",
    "fpr, tpr, thresholds = metrics.roc_curve(y_test_NB, predicted,pos_label=1)\n",
    "metrics.auc(fpr, tpr)"
   ]
  },
  {
   "cell_type": "code",
   "execution_count": 15,
   "metadata": {
    "collapsed": false
   },
   "outputs": [
    {
     "data": {
      "text/plain": [
       "[<matplotlib.lines.Line2D at 0x11596e278>]"
      ]
     },
     "execution_count": 15,
     "metadata": {},
     "output_type": "execute_result"
    },
    {
     "data": {
      "image/png": "[encoded data removed]",
      "text/plain": [
       "<matplotlib.figure.Figure at 0x114e95400>"
      ]
     },
     "metadata": {},
     "output_type": "display_data"
    }
   ],
   "source": [
    "fpr, tpr, thresholds = metrics.roc_curve(y_test_NB, predicted,pos_label=1)\n",
    "metrics.auc(fpr,tpr)\n",
    "#x = np.array(fpr)\n",
    "#y = np.array(tpr)\n",
    "plt.xlabel('FPR',fontsize=15)\n",
    "plt.ylabel('TPR',fontsize=15)\n",
    "plt.plot(fpr,tpr)"
   ]
  },
  {
   "cell_type": "code",
   "execution_count": 16,
   "metadata": {
    "collapsed": false
   },
   "outputs": [
    {
     "data": {
      "text/plain": [
       "[<matplotlib.lines.Line2D at 0x115b0a2b0>]"
      ]
     },
     "execution_count": 16,
     "metadata": {},
     "output_type": "execute_result"
    },
    {
     "data": {
      "image/png": "[encoded data removed]",
      "text/plain": [
       "<matplotlib.figure.Figure at 0x109fd0eb8>"
      ]
     },
     "metadata": {},
     "output_type": "display_data"
    }
   ],
   "source": [
    "fpr, tpr, thresholds = metrics.roc_curve(y_test_NB, predicted,pos_label=1)\n",
    "metrics.auc(fpr,tpr)\n",
    "plt.ylabel('FPR',fontsize=15)\n",
    "plt.xlabel('TPR',fontsize=15)\n",
    "plt.plot(tpr,fpr)"
   ]
  },
  {
   "cell_type": "code",
   "execution_count": 17,
   "metadata": {
    "collapsed": false
   },
   "outputs": [
    {
     "name": "stdout",
     "output_type": "stream",
     "text": [
      "Precision Score:  0.782350851884\n"
     ]
    }
   ],
   "source": [
    "print(\"Precision Score: \", (precision_score(y_test_NB,predicted,average='weighted' )))"
   ]
  },
  {
   "cell_type": "markdown",
   "metadata": {},
   "source": [
    "# Traning Models - Decision Tree\n",
    "By John Martinez\n"
   ]
  },
  {
   "cell_type": "markdown",
   "metadata": {},
   "source": []
  },
  {
   "cell_type": "code",
   "execution_count": 32,
   "metadata": {
    "collapsed": false
   },
   "outputs": [
    {
     "name": "stdout",
     "output_type": "stream",
     "text": [
      "Traning Average accuracy: 0.875702236202\n",
      "Traning Average Precision: 0.878548695606\n",
      "Accuracy on test set:  0.847533632287\n"
     ]
    },
    {
     "data": {
      "text/plain": [
       "{'age': 0.43673063113685329,\n",
       " 'bot_in_des': 0.029435902949453883,\n",
       " 'bot_is_substr': 0.02521905517707761,\n",
       " 'favourites_count': 0.080313180592126027,\n",
       " 'followers_count': 0.097453055007279424,\n",
       " 'friends_count': 0.16366738373025333,\n",
       " 'listedcount': 0.047362282684444888,\n",
       " 'screen_name_len': 0.022500207844429361,\n",
       " 'statuses_count': 0.09731830087808227}"
      ]
     },
     "execution_count": 32,
     "metadata": {},
     "output_type": "execute_result"
    },
    {
     "data": {
      "image/png": "[encoded data removed]",
      "text/plain": [
       "<matplotlib.figure.Figure at 0x115b38c50>"
      ]
     },
     "metadata": {},
     "output_type": "display_data"
    }
   ],
   "source": [
    "dt = DecisionTreeClassifier(criterion='entropy')\n",
    "\n",
    "# treeNames are only the numerical and binary features with importance > 0 \n",
    "treeNames=['age','screen_name_len', 'bot_is_substr','bot_in_des','followers_count','friends_count','listedcount', 'favourites_count','statuses_count']\n",
    "\n",
    "# Getting the training sets and fitting the tree\n",
    "df_train = train_df[treeNames+['bot']]\n",
    "x_train = train_df[treeNames]\n",
    "y_train = train_df.bot.astype(bool)\n",
    "dt.fit(x_train, y_train)\n",
    "\n",
    "# Evaluating the tree with cross-val\n",
    "accuracy = cross_val_score(dt, x_train, y_train, cv=5, scoring = \"accuracy\")\n",
    "precision = cross_val_score(dt, x_train, y_train, cv=5, scoring = \"precision\")\n",
    "\n",
    "# Graphing the feature importance \n",
    "import matplotlib.pyplot as plt\n",
    "%matplotlib inline\n",
    "\n",
    "feature_mi_dict = dict(zip(df_train.columns.values,dt.feature_importances_))\n",
    "feature_mi_dict\n",
    "feature_importance_X = feature_mi_dict.keys()\n",
    "feature_importance_Y = feature_mi_dict.values()\n",
    "plt.rcParams['figure.figsize'] = (16, 5)\n",
    "plt.bar(range(len(feature_mi_dict)), feature_mi_dict.values(), align='center')\n",
    "plt.xticks(range(len(feature_mi_dict)), feature_mi_dict.keys())\n",
    "plt.xlabel('Features')\n",
    "plt.ylabel('Feature Importance')\n",
    "plt.grid(True)\n",
    "\n",
    "# Printing the evaluations \n",
    "print(\"Traning Average accuracy:\",accuracy.mean())\n",
    "print(\"Traning Average Precision:\",precision.mean())\n",
    "\n",
    "\n",
    "predicts = dt.predict(X_test[treeNames])\n",
    "\n",
    "Test_accuracy = metrics.accuracy_score(test_df['bot'], predicts)\n",
    "\n",
    "print('Accuracy on test set: ',Test_accuracy )\n",
    "\n",
    "\n",
    "\n",
    "\n",
    "\n",
    "feature_mi = dt.feature_importances_\n",
    "\n",
    "feature_mi\n",
    "\n",
    "feature_mi_dict = dict(zip(x_train.columns.values,feature_mi))\n",
    "\n",
    "feature_mi_dict"
   ]
  },
  {
   "cell_type": "code",
   "execution_count": 33,
   "metadata": {
    "collapsed": true
   },
   "outputs": [],
   "source": [
    "def plotUnivariateROC(preds, truth, label_string):\n",
    " \n",
    "   \n",
    "    fpr, tpr, thresholds = roc_curve(truth,preds, pos_label=1)\n",
    "    roc_auc = auc(fpr,tpr)\n",
    "\n",
    "    if roc_auc < 0.5:\n",
    "        fpr, tpr, thresholds = roc_curve(truth, -1 * preds,pos_label=1 )\n",
    "        roc_auc = auc(fpr, tpr)\n",
    "\n",
    "    c = (np.random.rand(), np.random.rand(), np.random.rand())\n",
    "\n",
    "    plt.plot(fpr, tpr, color = c, label = label_string + ' (AUC = %0.3f)' % roc_auc)\n",
    "    \n",
    "\n",
    "    plt.plot([0, 1], [0, 1], 'k--')\n",
    "    plt.xlim([0.0, 1.0])\n",
    "    plt.ylim([0.0, 1.0])\n",
    "    plt.xlabel('FPR')\n",
    "    plt.ylabel('TPR')\n",
    "    plt.title('ROC')\n",
    "    plt.legend(loc=\"lower right\")\n",
    "    \n",
    "    return roc_auc"
   ]
  },
  {
   "cell_type": "markdown",
   "metadata": {
    "collapsed": false
   },
   "source": [
    "\n",
    "\n",
    "\n",
    "\n"
   ]
  },
  {
   "cell_type": "code",
   "execution_count": 34,
   "metadata": {
    "collapsed": false
   },
   "outputs": [
    {
     "data": {
      "text/plain": [
       "<matplotlib.legend.Legend at 0x1194f6b00>"
      ]
     },
     "execution_count": 34,
     "metadata": {},
     "output_type": "execute_result"
    },
    {
     "data": {
      "image/png": "[encoded data removed]",
      "text/plain": [
       "<matplotlib.figure.Figure at 0x1192eda20>"
      ]
     },
     "metadata": {},
     "output_type": "display_data"
    }
   ],
   "source": [
    "fig = plt.figure(figsize = (12, 6))\n",
    "ax = plt.subplot(111)\n",
    "\n",
    "train_df_modf = train_df[treeNames]\n",
    "\n",
    "\n",
    "feature_auc_dict = {}\n",
    "for col in train_df_modf.columns:\n",
    "    feature_auc_dict[col] = plotUnivariateROC(train_df_modf[col], Y_train, col)\n",
    "\n",
    "\n",
    "box = ax.get_position()\n",
    "ax.set_position([box.x0, box.y0 + box.height * 0.0 , box.width, box.height * 1])\n",
    "ax.legend(loc = 'upper center', bbox_to_anchor = (0.5, -0.15), fancybox = True, \n",
    "              shadow = True, ncol = 4, prop = {'size':10})"
   ]
  },
  {
   "cell_type": "code",
   "execution_count": 35,
   "metadata": {
    "collapsed": false
   },
   "outputs": [
    {
     "name": "stdout",
     "output_type": "stream",
     "text": [
      "Maximum Test Accuracy: 0.856502242152 \n",
      "Minimum Test Accuracy: 0.85201793722\n",
      "Average Test Accuracy: 0.855381165919\n"
     ]
    }
   ],
   "source": [
    "# Splitting the set 80-20 with train_test_split from sklearn metrics\n",
    "#bot = df['bot']\n",
    "#X_train, X_test, Y_train, Y_test = train_test_split(df[treeNames].ix[:,0:13], bot, test_size=0.2, random_state=42)\n",
    "\n",
    "\n",
    "min_samples_split_values = list(range(20,70,5))\n",
    "min_samples_leaf_values = list(range(20,30,1))\n",
    "\n",
    "test_set_accuracy = []\n",
    "\n",
    "for i in range(10):\n",
    "    \n",
    "    min_samples_split_value = min_samples_split_values[i]\n",
    "    for j in range(10):\n",
    "        min_samples_leaf_value = min_samples_leaf_values[j]    \n",
    "        \n",
    "        # Fitting and evaluating a tree\n",
    "        splitDt = DecisionTreeClassifier(criterion='entropy',max_depth = 5, min_samples_split = min_samples_split_value,  min_samples_leaf = min_samples_leaf_value)\n",
    "        splitDt.fit(X_train[treeNames], Y_train)\n",
    "        predict = splitDt.predict(X_test[treeNames])\n",
    "        accuracy = metrics.accuracy_score(predict, Y_test)\n",
    "    \n",
    "        test_set_accuracy.append(accuracy)\n",
    "\n",
    "        \n",
    "        \n",
    "print(\"Maximum Test Accuracy:\", max(test_set_accuracy),\"\\nMinimum Test Accuracy:\", min(test_set_accuracy))\n",
    "print(\"Average Test Accuracy:\",sum(test_set_accuracy)/len(test_set_accuracy))"
   ]
  },
  {
   "cell_type": "code",
   "execution_count": 36,
   "metadata": {
    "collapsed": false
   },
   "outputs": [
    {
     "name": "stdout",
     "output_type": "stream",
     "text": [
      "Cross-validation:\n",
      "Using decision tree for precision score: [ 0.82608696  0.89189189  0.85        0.75        0.82608696]\n",
      "Take the average of decision tree precision score: 0.828813160987\n",
      "\n",
      "Using decision tree for recall score: [ 0.90243902  0.7804878   0.82926829  0.82926829  0.90243902]\n",
      "Take the average of recall score: 0.848780487805\n",
      "\n",
      "Using decision tree for F1 score: [ 0.87356322  0.83116883  0.82926829  0.8045977   0.86046512]\n",
      "Take the average of decision tree F1 score: 0.839812631934\n",
      "\n",
      "Using decision tree for AUC score: [ 0.88178198  0.86077236  0.84171748  0.81224593  0.89049797]\n",
      "Take the average of decision tree AUC score: 0.857403144185\n",
      "\n",
      "\n"
     ]
    }
   ],
   "source": [
    "#Cross Validation Scores:\n",
    "\n",
    "\n",
    "precision = cross_val_score(dt, X_test[treeNames], Y_test, cv=5, scoring = 'precision')\n",
    "avg_precision = sum(precision) / 5\n",
    "\n",
    "\n",
    "recall = cross_val_score(dt, X_test[treeNames], Y_test, cv=5, scoring = 'recall')\n",
    "avg_recall = sum(recall) / 5\n",
    "\n",
    "\n",
    "F1 = cross_val_score(dt, X_test[treeNames], Y_test, cv=5, scoring = 'f1')\n",
    "avg_F1 = sum(F1) / 5\n",
    "\n",
    "AUC = cross_val_score(dt, X_test[treeNames], Y_test, cv=5, scoring = 'roc_auc')\n",
    "avg_AUC = sum(AUC) / 5\n",
    "\n",
    "\n",
    "\n",
    "print('Cross-validation:')\n",
    "\n",
    "\n",
    "print('Using decision tree for precision score:', precision)\n",
    "print('Take the average of decision tree precision score:', avg_precision )\n",
    "print('' )\n",
    "\n",
    "print('Using decision tree for recall score:', recall )\n",
    "print('Take the average of recall score:', avg_recall )\n",
    "print('' )\n",
    "\n",
    "\n",
    "\n",
    "print('Using decision tree for F1 score:', F1 )\n",
    "print('Take the average of decision tree F1 score:', avg_F1 )\n",
    "print('' )\n",
    "\n",
    "\n",
    "\n",
    "print('Using decision tree for AUC score:', AUC )\n",
    "print('Take the average of decision tree AUC score:', avg_AUC )\n",
    "print('' )\n",
    "print('' )\n",
    "\n"
   ]
  },
  {
   "cell_type": "markdown",
   "metadata": {
    "collapsed": true
   },
   "source": [
    "# Traning Models - Logistic Regression\n",
    "By Zhongheng Li\n",
    "\n",
    "Since our problem is a clasification problem, logistic regression is the more suiltable model that we can use for our predition. \n",
    "\n",
    "\n"
   ]
  },
  {
   "cell_type": "code",
   "execution_count": 68,
   "metadata": {
    "collapsed": true
   },
   "outputs": [],
   "source": [
    "X_train = train_df.drop('bot', 1)\n",
    "Y_train = train_df['bot']\n",
    "\n",
    "\n",
    "X_test = test_df.drop('bot', 1)\n",
    "Y_test = test_df['bot']"
   ]
  },
  {
   "cell_type": "code",
   "execution_count": 69,
   "metadata": {
    "collapsed": false
   },
   "outputs": [],
   "source": [
    "#Flatten the target variable on both traning and test set for logistic regression\n",
    "Y_train_LR = np.ravel(Y_train)\n",
    "Y_test_LR =  np.ravel(Y_test)"
   ]
  },
  {
   "cell_type": "code",
   "execution_count": 111,
   "metadata": {
    "collapsed": false
   },
   "outputs": [
    {
     "data": {
      "text/plain": [
       "['age',\n",
       " 'followers_count',\n",
       " 'friends_count',\n",
       " 'listedcount',\n",
       " 'verified',\n",
       " 'favourites_count',\n",
       " 'statuses_count',\n",
       " 'default_profile',\n",
       " 'default_profile_image',\n",
       " 'screen_name_len',\n",
       " 'bot_is_substr',\n",
       " 'bot_in_des']"
      ]
     },
     "execution_count": 111,
     "metadata": {},
     "output_type": "execute_result"
    }
   ],
   "source": [
    "#Select the features\n",
    "\n",
    "# treeNames are only the numerical and binary features \n",
    "features=['age','followers_count','friends_count','listedcount', 'verified', 'favourites_count','statuses_count','default_profile','default_profile_image','screen_name_len','bot_is_substr','bot_in_des']\n",
    "\n",
    "features"
   ]
  },
  {
   "cell_type": "code",
   "execution_count": 112,
   "metadata": {
    "collapsed": false
   },
   "outputs": [
    {
     "name": "stdout",
     "output_type": "stream",
     "text": [
      "Initial Traning Accuracy: 0.733482642777\n",
      "Initial Test Accuracy: 0.72869955157\n"
     ]
    }
   ],
   "source": [
    "# To train our model with above features\n",
    "model = LogisticRegression()\n",
    "model = model.fit(X_train[features], Y_train_LR)\n",
    "\n",
    "# check the accuracy on the training set with the test set data\n",
    "print('Initial Traning Accuracy:',model.score(X_train[features], Y_train_LR))\n",
    "print('Initial Test Accuracy:',model.score(X_test[features], Y_test_LR))"
   ]
  },
  {
   "cell_type": "code",
   "execution_count": 113,
   "metadata": {
    "collapsed": false
   },
   "outputs": [
    {
     "data": {
      "text/html": [
       "<div>\n",
       "<table border=\"1\" class=\"dataframe\">\n",
       "  <thead>\n",
       "    <tr style=\"text-align: right;\">\n",
       "      <th></th>\n",
       "      <th>0</th>\n",
       "      <th>1</th>\n",
       "    </tr>\n",
       "  </thead>\n",
       "  <tbody>\n",
       "    <tr>\n",
       "      <th>0</th>\n",
       "      <td>age</td>\n",
       "      <td>[-2.23651613056e-05]</td>\n",
       "    </tr>\n",
       "    <tr>\n",
       "      <th>1</th>\n",
       "      <td>followers_count</td>\n",
       "      <td>[-2.65570777003e-07]</td>\n",
       "    </tr>\n",
       "    <tr>\n",
       "      <th>2</th>\n",
       "      <td>friends_count</td>\n",
       "      <td>[7.26865247879e-06]</td>\n",
       "    </tr>\n",
       "    <tr>\n",
       "      <th>3</th>\n",
       "      <td>listedcount</td>\n",
       "      <td>[-0.00101439887538]</td>\n",
       "    </tr>\n",
       "    <tr>\n",
       "      <th>4</th>\n",
       "      <td>verified</td>\n",
       "      <td>[1.72755782848e-06]</td>\n",
       "    </tr>\n",
       "    <tr>\n",
       "      <th>5</th>\n",
       "      <td>favourites_count</td>\n",
       "      <td>[-9.3301276884e-05]</td>\n",
       "    </tr>\n",
       "    <tr>\n",
       "      <th>6</th>\n",
       "      <td>statuses_count</td>\n",
       "      <td>[3.02345700975e-05]</td>\n",
       "    </tr>\n",
       "    <tr>\n",
       "      <th>7</th>\n",
       "      <td>default_profile</td>\n",
       "      <td>[1.72755782848e-06]</td>\n",
       "    </tr>\n",
       "    <tr>\n",
       "      <th>8</th>\n",
       "      <td>default_profile_image</td>\n",
       "      <td>[1.72755782848e-06]</td>\n",
       "    </tr>\n",
       "    <tr>\n",
       "      <th>9</th>\n",
       "      <td>screen_name_len</td>\n",
       "      <td>[2.64917546991e-05]</td>\n",
       "    </tr>\n",
       "    <tr>\n",
       "      <th>10</th>\n",
       "      <td>bot_is_substr</td>\n",
       "      <td>[1.38304234425e-06]</td>\n",
       "    </tr>\n",
       "    <tr>\n",
       "      <th>11</th>\n",
       "      <td>bot_in_des</td>\n",
       "      <td>[2.44874319627e-06]</td>\n",
       "    </tr>\n",
       "  </tbody>\n",
       "</table>\n",
       "</div>"
      ],
      "text/plain": [
       "                        0                     1\n",
       "0                     age  [-2.23651613056e-05]\n",
       "1         followers_count  [-2.65570777003e-07]\n",
       "2           friends_count   [7.26865247879e-06]\n",
       "3             listedcount   [-0.00101439887538]\n",
       "4                verified   [1.72755782848e-06]\n",
       "5        favourites_count   [-9.3301276884e-05]\n",
       "6          statuses_count   [3.02345700975e-05]\n",
       "7         default_profile   [1.72755782848e-06]\n",
       "8   default_profile_image   [1.72755782848e-06]\n",
       "9         screen_name_len   [2.64917546991e-05]\n",
       "10          bot_is_substr   [1.38304234425e-06]\n",
       "11             bot_in_des   [2.44874319627e-06]"
      ]
     },
     "execution_count": 113,
     "metadata": {},
     "output_type": "execute_result"
    }
   ],
   "source": [
    "#Exmine the coefficients to evaluate the weights for each features above\n",
    "pd.DataFrame(list(zip(X_train[features].columns, np.transpose(model.coef_))))\n",
    "\n",
    "\n"
   ]
  },
  {
   "cell_type": "code",
   "execution_count": 133,
   "metadata": {
    "collapsed": false
   },
   "outputs": [
    {
     "name": "stdout",
     "output_type": "stream",
     "text": [
      "Updated Traning Accuracy: 0.735722284434\n",
      "Updated Test Accuracy: 0.764573991031\n"
     ]
    }
   ],
   "source": [
    "#Reduce features that has negative coefficients and high frustration. And than manaully compute the accuracies by remove the remaining features one at a time to compute the highest accuracy\n",
    "#Eventually, we picked 'followers_count','friends_count','favourites_count','statuses_count'\n",
    "features=['followers_count','friends_count','favourites_count','statuses_count']\n",
    "\n",
    "\n",
    "#Train the model again with new updated features\n",
    "model = LogisticRegression()\n",
    "model = model.fit(X_train[features], Y_train_LR)\n",
    "\n",
    "# check the accuracy on the training set with the test set data\n",
    "print('Updated Traning Accuracy:',model.score(X_train[features], Y_train_LR))\n",
    "print('Updated Test Accuracy:',model.score(X_test[features], Y_test_LR))"
   ]
  },
  {
   "cell_type": "code",
   "execution_count": 121,
   "metadata": {
    "collapsed": false
   },
   "outputs": [
    {
     "data": {
      "text/html": [
       "<div>\n",
       "<table border=\"1\" class=\"dataframe\">\n",
       "  <thead>\n",
       "    <tr style=\"text-align: right;\">\n",
       "      <th></th>\n",
       "      <th>0</th>\n",
       "      <th>1</th>\n",
       "    </tr>\n",
       "  </thead>\n",
       "  <tbody>\n",
       "    <tr>\n",
       "      <th>0</th>\n",
       "      <td>followers_count</td>\n",
       "      <td>[-3.48709402844e-06]</td>\n",
       "    </tr>\n",
       "    <tr>\n",
       "      <th>1</th>\n",
       "      <td>friends_count</td>\n",
       "      <td>[3.94116058863e-06]</td>\n",
       "    </tr>\n",
       "    <tr>\n",
       "      <th>2</th>\n",
       "      <td>favourites_count</td>\n",
       "      <td>[-0.000119593183887]</td>\n",
       "    </tr>\n",
       "    <tr>\n",
       "      <th>3</th>\n",
       "      <td>statuses_count</td>\n",
       "      <td>[2.09578722886e-05]</td>\n",
       "    </tr>\n",
       "  </tbody>\n",
       "</table>\n",
       "</div>"
      ],
      "text/plain": [
       "                  0                     1\n",
       "0   followers_count  [-3.48709402844e-06]\n",
       "1     friends_count   [3.94116058863e-06]\n",
       "2  favourites_count  [-0.000119593183887]\n",
       "3    statuses_count   [2.09578722886e-05]"
      ]
     },
     "execution_count": 121,
     "metadata": {},
     "output_type": "execute_result"
    }
   ],
   "source": [
    "#Exmine the coefficients again to evaluate the weights for each features above\n",
    "pd.DataFrame(list(zip(X_train[features].columns, np.transpose(model.coef_))))\n",
    "\n",
    "\n"
   ]
  },
  {
   "cell_type": "markdown",
   "metadata": {
    "collapsed": true
   },
   "source": [
    "# Logistic Regression Model with Visulization\n",
    "Since friends_count contains the highest coefficients from our latest evaluation, we will visulize it's correlation with our target variable 'bot'."
   ]
  },
  {
   "cell_type": "code",
   "execution_count": 122,
   "metadata": {
    "collapsed": false
   },
   "outputs": [
    {
     "data": {
      "text/plain": [
       "<matplotlib.text.Text at 0x119cb16a0>"
      ]
     },
     "execution_count": 122,
     "metadata": {},
     "output_type": "execute_result"
    },
    {
     "data": {
      "image/png": "[encoded data removed]",
      "text/plain": [
       "<matplotlib.figure.Figure at 0x119d33860>"
      ]
     },
     "metadata": {},
     "output_type": "display_data"
    }
   ],
   "source": [
    "plt.scatter(df.friends_count, df.bot)\n",
    "plt.xlabel('friends_count')\n",
    "plt.ylabel('Bots')"
   ]
  },
  {
   "cell_type": "markdown",
   "metadata": {},
   "source": [
    "When we plot the friends_count and bot into our graph, we clearly can see that real human user can have more friends_count than bots."
   ]
  },
  {
   "cell_type": "code",
   "execution_count": 124,
   "metadata": {
    "collapsed": false
   },
   "outputs": [
    {
     "data": {
      "text/plain": [
       "LogisticRegression(C=1000000000.0, class_weight=None, dual=False,\n",
       "          fit_intercept=True, intercept_scaling=1, max_iter=100,\n",
       "          multi_class='ovr', n_jobs=1, penalty='l2', random_state=None,\n",
       "          solver='liblinear', tol=0.0001, verbose=0, warm_start=False)"
      ]
     },
     "execution_count": 124,
     "metadata": {},
     "output_type": "execute_result"
    }
   ],
   "source": [
    "logreg = LogisticRegression(C=1e9)\n",
    "feature_cols = ['friends_count']\n",
    "X_LR2 = df[feature_cols]\n",
    "y_LR2 = df.bot\n",
    "logreg.fit(X_LR2, y_LR2)\n",
    "\n"
   ]
  },
  {
   "cell_type": "code",
   "execution_count": 125,
   "metadata": {
    "collapsed": true
   },
   "outputs": [],
   "source": [
    "df['Bot_prob'] = logreg.predict_proba(X_LR2)[:, 1]"
   ]
  },
  {
   "cell_type": "code",
   "execution_count": 128,
   "metadata": {
    "collapsed": false
   },
   "outputs": [
    {
     "data": {
      "text/plain": [
       "<matplotlib.text.Text at 0x119580d30>"
      ]
     },
     "execution_count": 128,
     "metadata": {},
     "output_type": "execute_result"
    },
    {
     "data": {
      "image/png": "[encoded data removed]",
      "text/plain": [
       "<matplotlib.figure.Figure at 0x119528f98>"
      ]
     },
     "metadata": {},
     "output_type": "display_data"
    }
   ],
   "source": [
    "# plot the predicted probabilities\n",
    "plt.scatter(df.friends_count, df.bot)\n",
    "plt.plot(df.friends_count, df.bot, color='red')\n",
    "plt.xlabel('friends_count')\n",
    "plt.ylabel('Bots')"
   ]
  },
  {
   "cell_type": "markdown",
   "metadata": {},
   "source": [
    "We encountered the difficulty to visualize the graaph but will provide a better result in our next update."
   ]
  },
  {
   "cell_type": "markdown",
   "metadata": {},
   "source": [
    "## Logistic Regression Model Evaluation Using a Validation Set"
   ]
  },
  {
   "cell_type": "code",
   "execution_count": 134,
   "metadata": {
    "collapsed": false
   },
   "outputs": [],
   "source": [
    "X_LR = df.drop('bot', 1)\n",
    "Y_LR = df['bot']"
   ]
  },
  {
   "cell_type": "code",
   "execution_count": 135,
   "metadata": {
    "collapsed": false
   },
   "outputs": [
    {
     "data": {
      "text/plain": [
       "LogisticRegression(C=1.0, class_weight=None, dual=False, fit_intercept=True,\n",
       "          intercept_scaling=1, max_iter=100, multi_class='ovr', n_jobs=1,\n",
       "          penalty='l2', random_state=None, solver='liblinear', tol=0.0001,\n",
       "          verbose=0, warm_start=False)"
      ]
     },
     "execution_count": 135,
     "metadata": {},
     "output_type": "execute_result"
    }
   ],
   "source": [
    "X_train_LR, X_test_LR, y_train_LR, y_test_LR = train_test_split(X_LR, Y_LR, test_size=0.2, random_state=0)\n",
    "model2 = LogisticRegression()\n",
    "model2.fit(X_train_LR[features], y_train_LR)"
   ]
  },
  {
   "cell_type": "code",
   "execution_count": 136,
   "metadata": {
    "collapsed": false
   },
   "outputs": [],
   "source": [
    "#Get the predicted value with test set\n",
    "predicted = model2.predict(X_test_LR[features])\n",
    "\n",
    "# generate class probabilities\n",
    "probs = model2.predict_proba(X_test_LR[features])"
   ]
  },
  {
   "cell_type": "code",
   "execution_count": 137,
   "metadata": {
    "collapsed": false
   },
   "outputs": [
    {
     "name": "stdout",
     "output_type": "stream",
     "text": [
      "Accuracy Score: 0.742729306488\n",
      "ROC AUC Score: 0.865325325325\n"
     ]
    }
   ],
   "source": [
    "print ('Accuracy Score:',metrics.accuracy_score(y_test_LR, predicted))\n",
    "print ('ROC AUC Score:', metrics.roc_auc_score(y_test_LR, probs[:, 1]))"
   ]
  },
  {
   "cell_type": "code",
   "execution_count": 138,
   "metadata": {
    "collapsed": false
   },
   "outputs": [
    {
     "name": "stdout",
     "output_type": "stream",
     "text": [
      "Classifictiaon Report:\n",
      "             precision    recall  f1-score   support\n",
      "\n",
      "          0       0.74      0.75      0.74       222\n",
      "          1       0.75      0.73      0.74       225\n",
      "\n",
      "avg / total       0.74      0.74      0.74       447\n",
      "\n"
     ]
    }
   ],
   "source": [
    "print ('Classifictiaon Report:')\n",
    "print ( metrics.classification_report(y_test_LR, predicted))"
   ]
  },
  {
   "cell_type": "markdown",
   "metadata": {},
   "source": [
    "## Logistic Regression Model Evaluation Using Cross-Validation\n"
   ]
  },
  {
   "cell_type": "code",
   "execution_count": 140,
   "metadata": {
    "collapsed": false
   },
   "outputs": [
    {
     "name": "stdout",
     "output_type": "stream",
     "text": [
      "0.747627091377\n"
     ]
    }
   ],
   "source": [
    "#Cross validation with 10 folds\n",
    "scores = cross_val_score(LogisticRegression(), X_LR[features], Y_LR, scoring='accuracy', cv=10)\n",
    "\n",
    "print (scores.mean())"
   ]
  },
  {
   "cell_type": "code",
   "execution_count": null,
   "metadata": {
    "collapsed": true
   },
   "outputs": [],
   "source": []
  }
 ],
 "metadata": {
  "anaconda-cloud": {},
  "kernelspec": {
   "display_name": "Python 3",
   "language": "python",
   "name": "python3"
  },
  "language_info": {
   "codemirror_mode": {
    "name": "ipython",
    "version": 3
   },
   "file_extension": ".py",
   "mimetype": "text/x-python",
   "name": "python",
   "nbconvert_exporter": "python",
   "pygments_lexer": "ipython3",
   "version": "3.6.0"
  }
 },
 "nbformat": 4,
 "nbformat_minor": 0
}
