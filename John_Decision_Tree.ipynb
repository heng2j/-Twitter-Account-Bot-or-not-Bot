{
 "cells": [
  {
   "cell_type": "code",
   "execution_count": 46,
   "metadata": {
    "collapsed": true
   },
   "outputs": [],
   "source": [
    "import numpy as np\n",
    "import pandas as pd\n",
    "from sklearn.model_selection import train_test_split\n",
    "from sklearn import datasets\n",
    "from sklearn import svm"
   ]
  },
  {
   "cell_type": "code",
   "execution_count": 47,
   "metadata": {
    "collapsed": true
   },
   "outputs": [],
   "source": [
    "names=['id','id_str','screen_name','location','description','url','followers_count','friends_count','listedcount','created_at','favourites_count','verified','statuses_count','lang','status','default_profile','default_profile_image','has_extended_profile','name','bot']"
   ]
  },
  {
   "cell_type": "code",
   "execution_count": 48,
   "metadata": {
    "collapsed": false
   },
   "outputs": [],
   "source": [
    "df = pd.read_csv('merged.csv',encoding=\"ISO-8859-1\",\n",
    "                 header=None,delim_whitespace=False,names=names,na_values='?',)"
   ]
  },
  {
   "cell_type": "code",
   "execution_count": 106,
   "metadata": {
    "collapsed": false
   },
   "outputs": [],
   "source": [
    "# Creating more features from given dataframe\n",
    "df[\"screen_name_len\"] = [len(i) for i in df[\"screen_name\"]]\n",
    "df[\"bot_is_substr\"] = [int('bot' in i.lower()) for i in df[\"screen_name\"]]\n",
    "df[\"bot_in_des\"] = [int('bot' in str(i).lower()) for i in df['description']]\n",
    "\n",
    "# Getting the ages in years from created_at\n",
    "ages = []\n",
    "for i in df[\"created_at\"]:\n",
    "    if len(i) > 20:\n",
    "        i = i.split()\n",
    "        year = int(i[5][:4]) % 2000 \n",
    "    else:\n",
    "        i = i.split('/')\n",
    "        year = int(i[2].split()[0]) % 2000\n",
    "    age = 17-year\n",
    "    ages.append(age)\n",
    "df[\"age\"] = ages\n"
   ]
  },
  {
   "cell_type": "code",
   "execution_count": 123,
   "metadata": {
    "collapsed": false
   },
   "outputs": [
    {
     "name": "stdout",
     "output_type": "stream",
     "text": [
      "0.844012399555\n",
      "0.842270298463\n"
     ]
    },
    {
     "data": {
      "image/png": "[encoded data removed]",
      "text/plain": [
       "<matplotlib.figure.Figure at 0x1119089b0>"
      ]
     },
     "metadata": {},
     "output_type": "display_data"
    }
   ],
   "source": [
    "from sklearn.tree import DecisionTreeClassifier\n",
    "from sklearn import tree\n",
    "from sklearn.cross_validation import cross_val_score\n",
    "\n",
    "\n",
    "dt = DecisionTreeClassifier(criterion='entropy')\n",
    "\n",
    "# treeNames are only the numerical and binary features with importance > 0 \n",
    "treeNames=['bot_in_des','followers_count','friends_count','listedcount','favourites_count','verified','statuses_count']\n",
    "\n",
    "# Getting the training sets and fitting the tree\n",
    "df_train = df[treeNames+['bot']]\n",
    "x_train = df[treeNames]\n",
    "y_train = df.bot.astype(bool)\n",
    "dt.fit(x_train, y_train)\n",
    "\n",
    "# Evaluating the tree with cross-val\n",
    "accuracy = cross_val_score(dt, x_train, y_train, cv=5, scoring = \"accuracy\")\n",
    "precision = cross_val_score(dt, x_train, y_train, cv=5, scoring = \"precision\")\n",
    "\n",
    "# Graphing the feature importance \n",
    "import matplotlib.pyplot as plt\n",
    "%matplotlib inline\n",
    "\n",
    "feature_mi_dict = dict(zip(df_train.columns.values,dt.feature_importances_))\n",
    "feature_mi_dict\n",
    "feature_importance_X = feature_mi_dict.keys()\n",
    "feature_importance_Y = feature_mi_dict.values()\n",
    "plt.rcParams['figure.figsize'] = (16, 5)\n",
    "plt.bar(range(len(feature_mi_dict)), feature_mi_dict.values(), align='center')\n",
    "plt.xticks(range(len(feature_mi_dict)), feature_mi_dict.keys())\n",
    "plt.xlabel('Features')\n",
    "plt.ylabel('Feature Importance')\n",
    "plt.grid(True)\n",
    "\n",
    "# Printing the evaluations \n",
    "print(\"Average accuracy:\",accuracy.mean())\n",
    "print(\"Average Precision:\",precision.mean())\n",
    "\n",
    "\n"
   ]
  },
  {
   "cell_type": "markdown",
   "metadata": {
    "collapsed": false
   },
   "source": [
    "\n",
    "\n",
    "\n",
    "\n"
   ]
  },
  {
   "cell_type": "code",
   "execution_count": 126,
   "metadata": {
    "collapsed": false
   },
   "outputs": [
    {
     "name": "stdout",
     "output_type": "stream",
     "text": [
      "Maximum Accuracy: 0.872483221477 \n",
      "Minimum Accuracy: 0.838926174497\n",
      "Average Accuracy: 0.856398210291\n"
     ]
    }
   ],
   "source": [
    "from sklearn import metrics\n",
    "\n",
    "\n",
    "# Splitting the set 80-20\n",
    "bot = df['bot']\n",
    "X_train, X_test, y_train, y_test = train_test_split(df[treeNames].ix[:,0:13], bot, test_size=0.2, random_state=0)\n",
    "\n",
    "\n",
    "min_samples_split_values = list(range(180,230,5))\n",
    "min_samples_leaf_values = list(range(20,30,1))\n",
    "\n",
    "test_set_accuracy = []\n",
    "\n",
    "for i in range(10):\n",
    "    \n",
    "    min_samples_split_value = min_samples_split_values[i]\n",
    "    for j in range(10):\n",
    "        min_samples_leaf_value = min_samples_leaf_values[j]    \n",
    "        \n",
    "        # Fitting and evaluating a tree\n",
    "        splitDt = DecisionTreeClassifier(criterion='entropy',max_depth = 5, min_samples_split = min_samples_split_value,  min_samples_leaf = min_samples_leaf_value)\n",
    "        splitDT.fit(X_train, y_train)\n",
    "        predict = splitDT.predict(X_test)\n",
    "        accuracy = metrics.accuracy_score(predict, y_test)\n",
    "        \n",
    "        \n",
    "        \n",
    "        \n",
    "        \n",
    "        test_set_accuracy.append(accuracy)\n",
    "        \n",
    "        \n",
    "print(\"Maximum Accuracy:\", max(test_set_accuracy),\"\\nMinimum Accuracy:\", min(test_set_accuracy))\n",
    "print(\"Average Accuracy:\",sum(test_set_accuracy)/len(test_set_accuracy))\n",
    "\n",
    "\n",
    "\n"
   ]
  },
  {
   "cell_type": "code",
   "execution_count": null,
   "metadata": {
    "collapsed": true
   },
   "outputs": [],
   "source": []
  },
  {
   "cell_type": "code",
   "execution_count": null,
   "metadata": {
    "collapsed": true
   },
   "outputs": [],
   "source": []
  }
 ],
 "metadata": {
  "anaconda-cloud": {},
  "kernelspec": {
   "display_name": "Python 3",
   "language": "python",
   "name": "python3"
  },
  "language_info": {
   "codemirror_mode": {
    "name": "ipython",
    "version": 3
   },
   "file_extension": ".py",
   "mimetype": "text/x-python",
   "name": "python",
   "nbconvert_exporter": "python",
   "pygments_lexer": "ipython3",
   "version": "3.6.0"
  }
 },
 "nbformat": 4,
 "nbformat_minor": 0
}
